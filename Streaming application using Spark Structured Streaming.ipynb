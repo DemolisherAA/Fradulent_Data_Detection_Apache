{
 "cells": [
  {
   "cell_type": "markdown",
   "metadata": {},
   "source": [
    "# Part 2: Streaming application using Spark Structured Streaming"
   ]
  },
  {
   "cell_type": "code",
   "execution_count": 1,
   "metadata": {},
   "outputs": [],
   "source": [
    "import os\n",
    "os.environ['PYSPARK_SUBMIT_ARGS'] = '--packages org.apache.spark:spark-streaming-kafka-0-10_2.12:3.5.0,org.apache.spark:spark-sql-kafka-0-10_2.12:3.5.0 pyspark-shell'"
   ]
  },
  {
   "cell_type": "code",
   "execution_count": 2,
   "metadata": {},
   "outputs": [],
   "source": [
    "from pyspark.sql import SparkSession\n",
    "from pyspark.sql.types import StructType, StructField, IntegerType, DoubleType, StringType, BooleanType\n",
    "from pyspark.sql.functions import col, unix_timestamp, from_json\n",
    "from pyspark.ml import PipelineModel"
   ]
  },
  {
   "cell_type": "markdown",
   "metadata": {},
   "source": [
    "### 1.\tWrite code to create a SparkSession, which 1) uses four cores with a proper application name; 2) use the Melbourne timezone; 3) ensure a checkpoint location has been set.\n"
   ]
  },
  {
   "cell_type": "code",
   "execution_count": 3,
   "metadata": {
    "scrolled": true
   },
   "outputs": [
    {
     "name": "stdout",
     "output_type": "stream",
     "text": [
      "Spark Session Created\n"
     ]
    }
   ],
   "source": [
    "checkpoint_dir = \"spark_streaming_checkpoint\"\n",
    "spark = SparkSession.builder \\\n",
    "    .appName(\"FraudDetectionStreaming\") \\\n",
    "    .master(\"local[4]\") \\\n",
    "    .config(\"spark.sql.session.timeZone\", \"Australia/Melbourne\") \\\n",
    "    .config(\"spark.sql.streaming.checkpointLocation\", checkpoint_dir) \\\n",
    "    .getOrCreate()\n",
    "\n",
    "print(\"Spark Session Created\")"
   ]
  },
  {
   "cell_type": "markdown",
   "metadata": {},
   "source": [
    "### 2.\tWrite code to define the data schema for the data files, following the data types suggested in the metadata file. Load the static datasets (e.g. customer, product, category) into data frames.\n",
    "\n"
   ]
  },
  {
   "cell_type": "code",
   "execution_count": 4,
   "metadata": {},
   "outputs": [
    {
     "name": "stdout",
     "output_type": "stream",
     "text": [
      "+-----------+-------------+-------------+--------------------+\n",
      "|category_id|   cat_level1|   cat_level2|          cat_level3|\n",
      "+-----------+-------------+-------------+--------------------+\n",
      "|          1|Personal Care|       Makeup|             Compact|\n",
      "|          2|   Free Items|   Free Gifts|                Ties|\n",
      "|          3|     Footwear|        Shoes|        Casual Shoes|\n",
      "|          4|Personal Care|Bath and Body| Body Wash and Scrub|\n",
      "|          5|Personal Care|    Skin Care|Face Wash and Cle...|\n",
      "+-----------+-------------+-------------+--------------------+\n",
      "only showing top 5 rows\n",
      "\n",
      "root\n",
      " |-- category_id: integer (nullable = true)\n",
      " |-- cat_level1: string (nullable = true)\n",
      " |-- cat_level2: string (nullable = true)\n",
      " |-- cat_level3: string (nullable = true)\n",
      "\n",
      "+-----------+----------+-----------+--------------------+--------------------+------+----------+---------------+\n",
      "|customer_id|first_name|  last_name|            username|               email|gender| birthdate|first_join_date|\n",
      "+-----------+----------+-----------+--------------------+--------------------+------+----------+---------------+\n",
      "|       2870|      Lala|    Maryati|671a0865-ac4e-4dc...|671a0865_ac4e_4dc...|     F|1996-06-14|     2019-07-21|\n",
      "|       8193|  Maimunah| Laksmiwati|83be2ba7-8133-48a...|83be2ba7_8133_48a...|     F|1993-08-16|     2017-07-16|\n",
      "|       7279|   Bakiman|Simanjuntak|3250e5a3-1d23-467...|3250e5a3_1d23_467...|     M|1989-01-23|     2020-08-23|\n",
      "|      88813|   Cahyadi|  Maheswara|df797edf-b465-4a8...|df797edf_b465_4a8...|     M|1991-01-05|     2021-10-03|\n",
      "|      82542|   Irnanto|     Wijaya|36ab08e1-03de-42a...|36ab08e1_03de_42a...|     M|2000-07-15|     2021-04-11|\n",
      "+-----------+----------+-----------+--------------------+--------------------+------+----------+---------------+\n",
      "only showing top 5 rows\n",
      "\n",
      "root\n",
      " |-- customer_id: integer (nullable = true)\n",
      " |-- first_name: string (nullable = true)\n",
      " |-- last_name: string (nullable = true)\n",
      " |-- username: string (nullable = true)\n",
      " |-- email: string (nullable = true)\n",
      " |-- gender: string (nullable = true)\n",
      " |-- birthdate: string (nullable = true)\n",
      " |-- first_join_date: string (nullable = true)\n",
      "\n",
      "+-----+------+----------+------+----+------+--------------------+-----------+\n",
      "|   id|gender|baseColour|season|year| usage|  productDisplayName|category_id|\n",
      "+-----+------+----------+------+----+------+--------------------+-----------+\n",
      "|29789|   Men|      Pink|Summer|2013|Casual|Basics Men Pack o...|         40|\n",
      "|53137| Women|     Brown|Winter|2015|Casual|Catwalk Women Bro...|         83|\n",
      "|21129| Women|       Red|  Fall|2011|Casual|s.Oliver Women Pr...|         49|\n",
      "| 6229|   Men|     Black|Summer|2011|Casual|Lee Men's Shot Bl...|         40|\n",
      "|40580| Women|     White|Summer|2012|Casual|   W Women White Top|         49|\n",
      "+-----+------+----------+------+----+------+--------------------+-----------+\n",
      "only showing top 5 rows\n",
      "\n",
      "root\n",
      " |-- id: integer (nullable = true)\n",
      " |-- gender: string (nullable = true)\n",
      " |-- baseColour: string (nullable = true)\n",
      " |-- season: string (nullable = true)\n",
      " |-- year: integer (nullable = true)\n",
      " |-- usage: string (nullable = true)\n",
      " |-- productDisplayName: string (nullable = true)\n",
      " |-- category_id: integer (nullable = true)\n",
      "\n",
      "+--------------------+-----------+\n",
      "|          session_id|customer_id|\n",
      "+--------------------+-----------+\n",
      "|3abaa6ce-e320-4e5...|       5868|\n",
      "|2ee5ead1-f13e-475...|       4774|\n",
      "|93325fb6-eb00-426...|       4774|\n",
      "|bcad5a61-1b67-448...|       4774|\n",
      "|df1042ab-13e6-407...|       4774|\n",
      "+--------------------+-----------+\n",
      "only showing top 5 rows\n",
      "\n",
      "root\n",
      " |-- session_id: string (nullable = true)\n",
      " |-- customer_id: integer (nullable = true)\n",
      "\n",
      "+--------------------+--------+\n",
      "|      transaction_id|is_fraud|\n",
      "+--------------------+--------+\n",
      "|9e81cadd-3f76-4bb...|    true|\n",
      "|204532ae-b268-4d2...|    true|\n",
      "|880767b5-a94c-4fb...|    true|\n",
      "|780aa6e8-0671-4fb...|    true|\n",
      "|737f279a-bb52-4f3...|    true|\n",
      "+--------------------+--------+\n",
      "only showing top 5 rows\n",
      "\n",
      "root\n",
      " |-- transaction_id: string (nullable = true)\n",
      " |-- is_fraud: boolean (nullable = true)\n",
      "\n"
     ]
    }
   ],
   "source": [
    "category_schema = StructType([\n",
    "    StructField(\"category_id\", IntegerType(), True),\n",
    "    StructField(\"cat_level1\", StringType(), True),\n",
    "    StructField(\"cat_level2\", StringType(), True),\n",
    "    StructField(\"cat_level3\", StringType(), True)\n",
    "])\n",
    "\n",
    "customer_schema = StructType([\n",
    "    StructField(\"customer_id\", IntegerType(), True),\n",
    "    StructField(\"first_name\", StringType(), True),\n",
    "    StructField(\"last_name\", StringType(), True),\n",
    "    StructField(\"username\", StringType(), True),\n",
    "    StructField(\"email\", StringType(), True),\n",
    "    StructField(\"gender\", StringType(), True),\n",
    "    StructField(\"birthdate\", StringType(), True),\n",
    "    StructField(\"first_join_date\", StringType(), True)\n",
    "])\n",
    "\n",
    "product_schema = StructType([\n",
    "    StructField(\"id\", IntegerType(), True),\n",
    "    StructField(\"gender\", StringType(), True),\n",
    "    StructField(\"baseColour\", StringType(), True),\n",
    "    StructField(\"season\", StringType(), True),\n",
    "    StructField(\"year\", IntegerType(), True),\n",
    "    StructField(\"usage\", StringType(), True),\n",
    "    StructField(\"productDisplayName\", StringType(), True),\n",
    "    StructField(\"category_id\", IntegerType(), True)\n",
    "])\n",
    "\n",
    "customer_session_schema = StructType([\n",
    "    StructField(\"session_id\", StringType(), True),\n",
    "    StructField(\"customer_id\", IntegerType(), True)\n",
    "])\n",
    "\n",
    "# Fraud Transaction Schema\n",
    "fraud_transaction_schema = StructType([\n",
    "    StructField(\"transaction_id\", StringType(), True),\n",
    "    StructField(\"is_fraud\", BooleanType(), True)\n",
    "])\n",
    "\n",
    "# Load static datasets into DataFrames\n",
    "category_df = spark.read.csv(\"category.csv\", header=True, schema=category_schema)\n",
    "category_df.show(5)\n",
    "category_df.printSchema()\n",
    "\n",
    "customer_df = spark.read.csv(\"customer.csv\", header=True, schema=customer_schema)\n",
    "customer_df.show(5)\n",
    "customer_df.printSchema()\n",
    "\n",
    "product_df = spark.read.csv(\"product.csv\", header=True, schema=product_schema)\n",
    "product_df.show(5)\n",
    "product_df.printSchema()\n",
    "\n",
    "customer_session_df = spark.read.csv(\"customer_session.csv\", header=True, schema=customer_session_schema)\n",
    "customer_session_df.show(5)\n",
    "customer_session_df.printSchema()\n",
    "\n",
    "fraud_transaction_df = spark.read.csv(\"fraud_transaction.csv\", header=True, schema=fraud_transaction_schema)\n",
    "fraud_transaction_df.show(5)\n",
    "fraud_transaction_df.printSchema()"
   ]
  },
  {
   "cell_type": "markdown",
   "metadata": {},
   "source": [
    "### 3. Using the Kafka topics from the producer in Task 1, ingest the streaming data into Spark Streaming, assuming all data comes in the String format. Except for the 'ts' column, you shall receive it as an Int type.\n"
   ]
  },
  {
   "cell_type": "code",
   "execution_count": 5,
   "metadata": {},
   "outputs": [
    {
     "name": "stdout",
     "output_type": "stream",
     "text": [
      "root\n",
      " |-- session_id: string (nullable = true)\n",
      " |-- event_type: string (nullable = true)\n",
      " |-- event_time: string (nullable = true)\n",
      " |-- traffic_source: string (nullable = true)\n",
      " |-- device_type: string (nullable = true)\n",
      " |-- customer_id: string (nullable = true)\n",
      " |-- ts: integer (nullable = true)\n",
      "\n",
      "root\n",
      " |-- created_at: string (nullable = true)\n",
      " |-- customer_id: string (nullable = true)\n",
      " |-- transaction_id: string (nullable = true)\n",
      " |-- session_id: string (nullable = true)\n",
      " |-- product_metadata: string (nullable = true)\n",
      " |-- payment_method: string (nullable = true)\n",
      " |-- payment_status: string (nullable = true)\n",
      " |-- promo_amount: string (nullable = true)\n",
      " |-- promo_code: string (nullable = true)\n",
      " |-- shipment_fee: string (nullable = true)\n",
      " |-- shipment_location_lat: string (nullable = true)\n",
      " |-- shipment_location_long: string (nullable = true)\n",
      " |-- total_amount: string (nullable = true)\n",
      " |-- clear_payment: string (nullable = true)\n",
      "\n"
     ]
    }
   ],
   "source": [
    "kafka_brokers = \"kafka:9092\"\n",
    "browsing_topic = \"browsing_behavior\"\n",
    "transactions_topic = \"transactions\"\n",
    "\n",
    "# Define schema for browsing and transactions datasets (initially everything is string except ts)\n",
    "browsing_schema = StructType([\n",
    "    StructField(\"session_id\", StringType(), True),\n",
    "    StructField(\"event_type\", StringType(), True),\n",
    "    StructField(\"event_time\", StringType(), True),  # To be converted to timestamp later\n",
    "    StructField(\"traffic_source\", StringType(), True),\n",
    "    StructField(\"device_type\", StringType(), True),\n",
    "    StructField(\"customer_id\", StringType(), True),  # Initially as StringType\n",
    "    StructField(\"ts\", IntegerType(), True)  # ts as IntegerType\n",
    "])\n",
    "\n",
    "transactions_schema = StructType([\n",
    "    StructField(\"created_at\", StringType(), True),  # To be converted to timestamp later\n",
    "    StructField(\"customer_id\", StringType(), True),  # Initially as StringType\n",
    "    StructField(\"transaction_id\", StringType(), True),\n",
    "    StructField(\"session_id\", StringType(), True),\n",
    "    StructField(\"product_metadata\", StringType(), True),\n",
    "    StructField(\"payment_method\", StringType(), True),\n",
    "    StructField(\"payment_status\", StringType(), True),\n",
    "    StructField(\"promo_amount\", StringType(), True),  # Initially as StringType\n",
    "    StructField(\"promo_code\", StringType(), True),\n",
    "    StructField(\"shipment_fee\", StringType(), True),  # Initially as StringType\n",
    "    StructField(\"shipment_location_lat\", StringType(), True),  # Initially as StringType\n",
    "    StructField(\"shipment_location_long\", StringType(), True),  # Initially as StringType\n",
    "    StructField(\"total_amount\", StringType(), True),  # Initially as StringType\n",
    "    StructField(\"clear_payment\", StringType(), True),\n",
    "])\n",
    "\n",
    "# Read browsing and transactions data from Kafka\n",
    "browsing_stream = spark \\\n",
    "    .readStream \\\n",
    "    .format(\"kafka\") \\\n",
    "    .option(\"kafka.bootstrap.servers\", kafka_brokers) \\\n",
    "    .option(\"subscribe\", browsing_topic) \\\n",
    "    .load()\n",
    "\n",
    "transactions_stream = spark \\\n",
    "    .readStream \\\n",
    "    .format(\"kafka\") \\\n",
    "    .option(\"kafka.bootstrap.servers\", kafka_brokers) \\\n",
    "    .option(\"subscribe\", transactions_topic) \\\n",
    "    .load()\n",
    "\n",
    "# Convert Kafka data from bytes to JSON and apply schema\n",
    "browsing_stream = browsing_stream.selectExpr(\"CAST(key AS STRING)\", \"CAST(value AS STRING)\") \\\n",
    "    .withColumn(\"data\", from_json(col(\"value\"), browsing_schema)) \\\n",
    "    .select(\"data.*\")\n",
    "\n",
    "transactions_stream = transactions_stream.selectExpr(\"CAST(key AS STRING)\", \"CAST(value AS STRING)\") \\\n",
    "    .withColumn(\"data\", from_json(col(\"value\"), transactions_schema)) \\\n",
    "    .select(\"data.*\")\n",
    "\n",
    "browsing_stream.printSchema()\n",
    "transactions_stream.printSchema()"
   ]
  },
  {
   "cell_type": "code",
   "execution_count": 7,
   "metadata": {},
   "outputs": [],
   "source": [
    "query_browsing = browsing_stream.writeStream \\\n",
    "    .outputMode(\"append\") \\\n",
    "    .format(\"memory\") \\\n",
    "    .queryName(\"QueryBrowsing\") \\\n",
    "    .start()"
   ]
  },
  {
   "cell_type": "code",
   "execution_count": 8,
   "metadata": {},
   "outputs": [
    {
     "name": "stdout",
     "output_type": "stream",
     "text": [
      "+--------------------+----------+--------------------+--------------+-----------+-----------+----------+\n",
      "|          session_id|event_type|          event_time|traffic_source|device_type|customer_id|        ts|\n",
      "+--------------------+----------+--------------------+--------------+-----------+-----------+----------+\n",
      "|8a4ea821-02ea-427...|        CL|2024-01-01 00:00:...|        MOBILE|    Android|      61923|1729214848|\n",
      "|e224a60c-f02c-4e1...|        CL|2024-01-01 00:00:...|        MOBILE|    Android|      52328|1729214848|\n",
      "|8083bc82-d495-463...|        VI|2024-01-01 00:00:...|        MOBILE|        iOS|      33854|1729214848|\n",
      "|3d4fc2ed-23b3-41b...|        CL|2024-01-01 00:00:...|        MOBILE|    Android|       1030|1729214848|\n",
      "|29cab3eb-17b3-472...|        VP|2024-01-01 00:00:...|           WEB|    Android|      12525|1729214848|\n",
      "|7aaab404-e148-484...|        HP|2024-01-01 00:00:...|        MOBILE|    Android|      53754|1729214848|\n",
      "|75666d59-bfd7-42b...|       SCR|2024-01-01 00:00:...|        MOBILE|    Android|      52484|1729214848|\n",
      "|345c167b-79ec-442...|       ATC|2024-01-01 00:00:...|        MOBILE|    Android|      74474|1729214848|\n",
      "|bb769bf5-c21e-450...|        CL|2024-01-01 00:00:...|        MOBILE|    Android|      62950|1729214848|\n",
      "|7b38cf0a-1867-49e...|        AP|2024-01-01 00:01:...|        MOBILE|        iOS|      88618|1729214848|\n",
      "|5c903425-e405-4a7...|        AP|2024-01-01 00:01:...|        MOBILE|    Android|       3185|1729214848|\n",
      "|28ac3e09-865b-476...|       SCR|2024-01-01 00:01:...|        MOBILE|    Android|      53288|1729214848|\n",
      "|f85f2f9f-df4a-4ae...|        CO|2024-01-01 00:01:...|        MOBILE|    Android|      98123|1729214848|\n",
      "|80c47600-b046-4c9...|        VP|2024-01-01 00:01:...|        MOBILE|    Android|      66808|1729214848|\n",
      "|de1351b6-f248-491...|        CL|2024-01-01 00:01:...|           WEB|    Android|      14318|1729214848|\n",
      "|83fe5f11-fb81-48c...|        CL|2024-01-01 00:01:...|           WEB|        iOS|      94434|1729214848|\n",
      "|fe137234-c1c7-4d5...|        VI|2024-01-01 00:01:...|        MOBILE|        iOS|       3000|1729214848|\n",
      "|380800ed-8097-484...|       ATC|2024-01-01 00:01:...|        MOBILE|    Android|      99417|1729214848|\n",
      "|75666d59-bfd7-42b...|       SER|2024-01-01 00:01:...|        MOBILE|    Android|      52484|1729214848|\n",
      "|2a6a6a05-bc78-4e3...|        VI|2024-01-01 00:02:...|        MOBILE|    Android|      77726|1729214848|\n",
      "+--------------------+----------+--------------------+--------------+-----------+-----------+----------+\n",
      "only showing top 20 rows\n",
      "\n"
     ]
    }
   ],
   "source": [
    "spark.sql(\"SELECT * FROM QueryBrowsing\").show()"
   ]
  },
  {
   "cell_type": "code",
   "execution_count": 9,
   "metadata": {},
   "outputs": [],
   "source": [
    "query_browsing.stop()"
   ]
  },
  {
   "cell_type": "code",
   "execution_count": 10,
   "metadata": {},
   "outputs": [],
   "source": [
    "query_transactions = transactions_stream.writeStream \\\n",
    "    .outputMode(\"append\") \\\n",
    "    .format(\"memory\") \\\n",
    "    .queryName(\"QueryTransactions\") \\\n",
    "    .start()"
   ]
  },
  {
   "cell_type": "code",
   "execution_count": 12,
   "metadata": {},
   "outputs": [
    {
     "name": "stdout",
     "output_type": "stream",
     "text": [
      "+--------------------+-----------+--------------------+--------------------+--------------------+--------------+--------------+------------+-------------+------------+---------------------+----------------------+------------+-------------+\n",
      "|          created_at|customer_id|      transaction_id|          session_id|    product_metadata|payment_method|payment_status|promo_amount|   promo_code|shipment_fee|shipment_location_lat|shipment_location_long|total_amount|clear_payment|\n",
      "+--------------------+-----------+--------------------+--------------------+--------------------+--------------+--------------+------------+-------------+------------+---------------------+----------------------+------------+-------------+\n",
      "|2024-01-01 00:01:...|      98123|97b193ec-7b52-40d...|f85f2f9f-df4a-4ae...|[{'product_id': 9...|           OVO|          Fail|           0|             |           0|    -6.17197281657169|      106.790424765641|      271986|            0|\n",
      "|2024-01-01 00:03:...|      64835|6d7eb639-bc72-484...|d03b2432-403a-4dd...|[{'product_id': 7...|   Credit Card|       Success|           0|             |       10000|    -8.47864460153527|      120.837462138453|      428874|            1|\n",
      "|2024-01-01 00:04:...|      63101|548045ed-4bbc-4df...|7b373982-d715-484...|[{'product_id': 4...|    Debit Card|          Fail|           0|             |           0|    -7.00399635288681|      112.297411244148|      132932|            0|\n",
      "|2024-01-01 00:04:...|      84108|7d45484f-0d25-4e6...|2290c22f-8fda-411...|[{'product_id': 3...|       LinkAja|       Success|        4755|WEEKENDMANTAP|       50000|    -8.48633569530475|      118.999314001124|      229536|            1|\n",
      "|2024-01-01 00:09:...|      52484|91b433dd-d15f-4f9...|75666d59-bfd7-42b...|[{'product_id': 5...|   Credit Card|          Fail|           0|             |       10000|    -1.59264659191351|      110.915102934898|      481266|            0|\n",
      "|2024-01-01 00:11:...|      73167|a388ca4a-1aeb-442...|aee50500-e67d-4cf...|[{'product_id': 5...|   Credit Card|       Success|           0|             |       10000|    -6.47742228728026|      106.369557548376|      103723|            1|\n",
      "|2024-01-01 00:13:...|      46866|84cb483c-cf47-463...|6b6c8909-487a-47d...|[{'product_id': 8...|           OVO|       Success|           0|             |       10000|    -6.29214289518665|      106.897849439422|     1685203|            1|\n",
      "|2024-01-01 00:14:...|        978|47d6a6d3-590d-46f...|249054c2-1016-435...|[{'product_id': 2...|    Debit Card|       Success|        6447|    LIBURDONG|           0|    -7.35707383447537|      108.340661308702|      256243|            1|\n",
      "|2024-01-01 00:16:...|      96085|3ed4b54f-0638-4ca...|673b581b-6b35-458...|[{'product_id': 5...|       LinkAja|       Success|        6044|WEEKENDMANTAP|       10000|     -7.0558355886227|      112.118699940686|      188170|            1|\n",
      "|2024-01-01 00:17:...|      15602|8d0e3b77-5bf1-465...|b948da4b-fec5-4e2...|[{'product_id': 2...|    Debit Card|          Fail|           0|             |       10000|    -0.80082957685589|      123.261953464513|      278487|            0|\n",
      "|2024-01-01 00:19:...|      66840|09382612-d207-472...|a89a6765-88ff-445...|[{'product_id': 6...|       LinkAja|       Success|           0|             |           0|    -6.15829008017101|      106.879515690502|       65563|            1|\n",
      "|2024-01-01 00:20:...|      68449|6bf96b67-b2a9-49c...|a87f6892-8b09-400...|[{'product_id': 5...|           OVO|          Fail|           0|             |       10000|    -6.80790916428612|      111.102635731829|      319614|            0|\n",
      "|2024-01-01 00:20:...|       9710|9588828e-8f59-42c...|947b5b5f-7aa9-44b...|[{'product_id': 3...|    Debit Card|       Success|           0|             |           0|    -8.06462201322828|      110.549663173313|      701493|            1|\n",
      "|2024-01-01 00:21:...|      65192|3c501b17-18f4-485...|7db2467a-c905-4bc...|[{'product_id': 3...|   Credit Card|          Fail|        8107|    LIBURDONG|       10000|    -8.04398660050412|      112.205799773991|      369512|            0|\n",
      "|2024-01-01 00:22:...|       8927|c80012a3-0836-4b3...|a20899f7-b53d-451...|[{'product_id': 4...|   Credit Card|          Fail|           0|             |       10000|    -5.21835854597248|      105.269397530302|      346087|            0|\n",
      "|2024-01-01 00:23:...|      82997|451ce2ae-a933-463...|b8086f32-d838-4c6...|[{'product_id': 1...|   Credit Card|       Success|           0|             |        5000|    -8.06414310761052|      112.526084125748|      159889|            1|\n",
      "|2024-01-01 00:23:...|      45114|39f58158-df43-41e...|3fe68b85-b86a-42e...|[{'product_id': 5...|         Gopay|          Fail|           0|             |           0|    -2.48598333773817|      119.373927735626|     1071176|            0|\n",
      "|2024-01-01 00:28:...|      70528|96c7c6d1-36c1-4fa...|3a737027-89d4-461...|[{'product_id': 3...|    Debit Card|       Success|        4945|  WEEKENDSERU|       10000|    -7.50411734629767|      110.255785765461|      292966|            1|\n",
      "|2024-01-01 00:29:...|      76097|b5a7cbbd-8cce-4b3...|f1eefeeb-8bec-497...|[{'product_id': 4...|         Gopay|       Success|           0|             |       10000|    0.460192404070817|      114.102170198767|      600010|            1|\n",
      "|2024-01-01 00:31:...|      52017|8fa0691d-e1c8-490...|996963ca-3209-495...|[{'product_id': 1...|   Credit Card|       Success|        8408|  WEEKENDSERU|       10000|    -2.51418865457277|      112.746527680958|      423750|            1|\n",
      "+--------------------+-----------+--------------------+--------------------+--------------------+--------------+--------------+------------+-------------+------------+---------------------+----------------------+------------+-------------+\n",
      "only showing top 20 rows\n",
      "\n"
     ]
    }
   ],
   "source": [
    "spark.sql(\"SELECT * FROM QueryTransactions\").show()"
   ]
  },
  {
   "cell_type": "code",
   "execution_count": 13,
   "metadata": {},
   "outputs": [],
   "source": [
    "query_transactions.stop()"
   ]
  },
  {
   "cell_type": "markdown",
   "metadata": {},
   "source": [
    "### 4.\tThen, the streaming data format should be transformed into the proper formats following the metadata file schema, similar to assignment 2A. Perform the following tasks:  \n",
    "a)\tFor the 'ts' column, convert it to the timestamp format, we will use it as event_ts.  \n",
    "b)\tIf the data is late for more than 2 minutes, discard it.  \n"
   ]
  },
  {
   "cell_type": "code",
   "execution_count": 14,
   "metadata": {},
   "outputs": [
    {
     "name": "stdout",
     "output_type": "stream",
     "text": [
      "root\n",
      " |-- session_id: string (nullable = true)\n",
      " |-- event_type: string (nullable = true)\n",
      " |-- event_time: string (nullable = true)\n",
      " |-- traffic_source: string (nullable = true)\n",
      " |-- device_type: string (nullable = true)\n",
      " |-- customer_id: string (nullable = true)\n",
      " |-- ts: integer (nullable = true)\n",
      " |-- event_ts: timestamp (nullable = true)\n",
      "\n",
      "root\n",
      " |-- created_at: string (nullable = true)\n",
      " |-- customer_id: string (nullable = true)\n",
      " |-- transaction_id: string (nullable = true)\n",
      " |-- session_id: string (nullable = true)\n",
      " |-- product_metadata: string (nullable = true)\n",
      " |-- payment_method: string (nullable = true)\n",
      " |-- payment_status: string (nullable = true)\n",
      " |-- promo_amount: double (nullable = true)\n",
      " |-- promo_code: string (nullable = true)\n",
      " |-- shipment_fee: double (nullable = true)\n",
      " |-- shipment_location_lat: double (nullable = true)\n",
      " |-- shipment_location_long: double (nullable = true)\n",
      " |-- total_amount: double (nullable = true)\n",
      " |-- clear_payment: string (nullable = true)\n",
      "\n"
     ]
    }
   ],
   "source": [
    "from pyspark.sql.functions import from_unixtime\n",
    "from pyspark.sql.functions import to_timestamp\n",
    "\n",
    "# Convert 'ts' column (in Unix timestamp) to timestamp and filter late data (older than 2 minutes)\n",
    "browsing_stream = browsing_stream.withColumn(\"event_ts\", from_unixtime(col(\"ts\")).cast(\"timestamp\")) \\\n",
    "    .filter(\"event_ts >= current_timestamp() - interval 2 minutes\")\n",
    "\n",
    "# Cast the columns to DoubleType\n",
    "transactions_stream = transactions_stream \\\n",
    "    .withColumn(\"promo_amount\", col(\"promo_amount\").cast(\"double\")) \\\n",
    "    .withColumn(\"shipment_fee\", col(\"shipment_fee\").cast(\"double\")) \\\n",
    "    .withColumn(\"shipment_location_lat\", col(\"shipment_location_lat\").cast(\"double\")) \\\n",
    "    .withColumn(\"shipment_location_long\", col(\"shipment_location_long\").cast(\"double\")) \\\n",
    "    .withColumn(\"total_amount\", col(\"total_amount\").cast(\"double\"))\n",
    "\n",
    "browsing_stream.printSchema()\n",
    "transactions_stream.printSchema()"
   ]
  },
  {
   "cell_type": "code",
   "execution_count": 13,
   "metadata": {},
   "outputs": [],
   "source": [
    "query_browsing = browsing_stream.writeStream \\\n",
    "    .outputMode(\"append\") \\\n",
    "    .format(\"memory\") \\\n",
    "    .queryName(\"QueryBrowsing\") \\\n",
    "    .start()"
   ]
  },
  {
   "cell_type": "code",
   "execution_count": 14,
   "metadata": {},
   "outputs": [
    {
     "name": "stdout",
     "output_type": "stream",
     "text": [
      "+--------------------+----------+--------------------+--------------+-----------+-----------+----------+-------------------+\n",
      "|          session_id|event_type|          event_time|traffic_source|device_type|customer_id|        ts|           event_ts|\n",
      "+--------------------+----------+--------------------+--------------+-----------+-----------+----------+-------------------+\n",
      "|8a4ea821-02ea-427...|        CL|2024-01-01 00:00:...|        MOBILE|    Android|      61923|1728640644|2024-10-11 20:57:24|\n",
      "|e224a60c-f02c-4e1...|        CL|2024-01-01 00:00:...|        MOBILE|    Android|      52328|1728640644|2024-10-11 20:57:24|\n",
      "|8083bc82-d495-463...|        VI|2024-01-01 00:00:...|        MOBILE|        iOS|      33854|1728640644|2024-10-11 20:57:24|\n",
      "|3d4fc2ed-23b3-41b...|        CL|2024-01-01 00:00:...|        MOBILE|    Android|       1030|1728640644|2024-10-11 20:57:24|\n",
      "|29cab3eb-17b3-472...|        VP|2024-01-01 00:00:...|           WEB|    Android|      12525|1728640644|2024-10-11 20:57:24|\n",
      "|7aaab404-e148-484...|        HP|2024-01-01 00:00:...|        MOBILE|    Android|      53754|1728640644|2024-10-11 20:57:24|\n",
      "|75666d59-bfd7-42b...|       SCR|2024-01-01 00:00:...|        MOBILE|    Android|      52484|1728640644|2024-10-11 20:57:24|\n",
      "|345c167b-79ec-442...|       ATC|2024-01-01 00:00:...|        MOBILE|    Android|      74474|1728640644|2024-10-11 20:57:24|\n",
      "|bb769bf5-c21e-450...|        CL|2024-01-01 00:00:...|        MOBILE|    Android|      62950|1728640644|2024-10-11 20:57:24|\n",
      "|7b38cf0a-1867-49e...|        AP|2024-01-01 00:01:...|        MOBILE|        iOS|      88618|1728640644|2024-10-11 20:57:24|\n",
      "|5c903425-e405-4a7...|        AP|2024-01-01 00:01:...|        MOBILE|    Android|       3185|1728640644|2024-10-11 20:57:24|\n",
      "|28ac3e09-865b-476...|       SCR|2024-01-01 00:01:...|        MOBILE|    Android|      53288|1728640644|2024-10-11 20:57:24|\n",
      "|f85f2f9f-df4a-4ae...|        CO|2024-01-01 00:01:...|        MOBILE|    Android|      98123|1728640644|2024-10-11 20:57:24|\n",
      "|80c47600-b046-4c9...|        VP|2024-01-01 00:01:...|        MOBILE|    Android|      66808|1728640644|2024-10-11 20:57:24|\n",
      "|de1351b6-f248-491...|        CL|2024-01-01 00:01:...|           WEB|    Android|      14318|1728640644|2024-10-11 20:57:24|\n",
      "|83fe5f11-fb81-48c...|        CL|2024-01-01 00:01:...|           WEB|        iOS|      94434|1728640644|2024-10-11 20:57:24|\n",
      "|fe137234-c1c7-4d5...|        VI|2024-01-01 00:01:...|        MOBILE|        iOS|       3000|1728640644|2024-10-11 20:57:24|\n",
      "|380800ed-8097-484...|       ATC|2024-01-01 00:01:...|        MOBILE|    Android|      99417|1728640644|2024-10-11 20:57:24|\n",
      "|75666d59-bfd7-42b...|       SER|2024-01-01 00:01:...|        MOBILE|    Android|      52484|1728640644|2024-10-11 20:57:24|\n",
      "|2a6a6a05-bc78-4e3...|        VI|2024-01-01 00:02:...|        MOBILE|    Android|      77726|1728640644|2024-10-11 20:57:24|\n",
      "+--------------------+----------+--------------------+--------------+-----------+-----------+----------+-------------------+\n",
      "only showing top 20 rows\n",
      "\n"
     ]
    }
   ],
   "source": [
    "spark.sql(\"SELECT * FROM QueryBrowsing\").show()"
   ]
  },
  {
   "cell_type": "code",
   "execution_count": 15,
   "metadata": {},
   "outputs": [],
   "source": [
    "query_browsing.stop()"
   ]
  },
  {
   "cell_type": "code",
   "execution_count": 16,
   "metadata": {},
   "outputs": [],
   "source": [
    "query_transactions = transactions_stream.writeStream \\\n",
    "    .outputMode(\"append\") \\\n",
    "    .format(\"memory\") \\\n",
    "    .queryName(\"QueryTransactions\") \\\n",
    "    .start()"
   ]
  },
  {
   "cell_type": "code",
   "execution_count": 17,
   "metadata": {},
   "outputs": [
    {
     "name": "stdout",
     "output_type": "stream",
     "text": [
      "+--------------------+-----------+--------------------+--------------------+--------------------+--------------+--------------+------------+-------------+------------+---------------------+----------------------+------------+-------------+\n",
      "|          created_at|customer_id|      transaction_id|          session_id|    product_metadata|payment_method|payment_status|promo_amount|   promo_code|shipment_fee|shipment_location_lat|shipment_location_long|total_amount|clear_payment|\n",
      "+--------------------+-----------+--------------------+--------------------+--------------------+--------------+--------------+------------+-------------+------------+---------------------+----------------------+------------+-------------+\n",
      "|2024-01-01 00:01:...|      98123|97b193ec-7b52-40d...|f85f2f9f-df4a-4ae...|[{'product_id': 9...|           OVO|          Fail|         0.0|             |         0.0|    -6.17197281657169|      106.790424765641|    271986.0|            0|\n",
      "|2024-01-01 00:03:...|      64835|6d7eb639-bc72-484...|d03b2432-403a-4dd...|[{'product_id': 7...|   Credit Card|       Success|         0.0|             |     10000.0|    -8.47864460153527|      120.837462138453|    428874.0|            1|\n",
      "|2024-01-01 00:04:...|      63101|548045ed-4bbc-4df...|7b373982-d715-484...|[{'product_id': 4...|    Debit Card|          Fail|         0.0|             |         0.0|    -7.00399635288681|      112.297411244148|    132932.0|            0|\n",
      "|2024-01-01 00:04:...|      84108|7d45484f-0d25-4e6...|2290c22f-8fda-411...|[{'product_id': 3...|       LinkAja|       Success|      4755.0|WEEKENDMANTAP|     50000.0|    -8.48633569530475|      118.999314001124|    229536.0|            1|\n",
      "|2024-01-01 00:09:...|      52484|91b433dd-d15f-4f9...|75666d59-bfd7-42b...|[{'product_id': 5...|   Credit Card|          Fail|         0.0|             |     10000.0|    -1.59264659191351|      110.915102934898|    481266.0|            0|\n",
      "|2024-01-01 00:11:...|      73167|a388ca4a-1aeb-442...|aee50500-e67d-4cf...|[{'product_id': 5...|   Credit Card|       Success|         0.0|             |     10000.0|    -6.47742228728026|      106.369557548376|    103723.0|            1|\n",
      "|2024-01-01 00:13:...|      46866|84cb483c-cf47-463...|6b6c8909-487a-47d...|[{'product_id': 8...|           OVO|       Success|         0.0|             |     10000.0|    -6.29214289518665|      106.897849439422|   1685203.0|            1|\n",
      "|2024-01-01 00:14:...|        978|47d6a6d3-590d-46f...|249054c2-1016-435...|[{'product_id': 2...|    Debit Card|       Success|      6447.0|    LIBURDONG|         0.0|    -7.35707383447537|      108.340661308702|    256243.0|            1|\n",
      "|2024-01-01 00:16:...|      96085|3ed4b54f-0638-4ca...|673b581b-6b35-458...|[{'product_id': 5...|       LinkAja|       Success|      6044.0|WEEKENDMANTAP|     10000.0|     -7.0558355886227|      112.118699940686|    188170.0|            1|\n",
      "|2024-01-01 00:17:...|      15602|8d0e3b77-5bf1-465...|b948da4b-fec5-4e2...|[{'product_id': 2...|    Debit Card|          Fail|         0.0|             |     10000.0|    -0.80082957685589|      123.261953464513|    278487.0|            0|\n",
      "|2024-01-01 00:19:...|      66840|09382612-d207-472...|a89a6765-88ff-445...|[{'product_id': 6...|       LinkAja|       Success|         0.0|             |         0.0|    -6.15829008017101|      106.879515690502|     65563.0|            1|\n",
      "|2024-01-01 00:20:...|      68449|6bf96b67-b2a9-49c...|a87f6892-8b09-400...|[{'product_id': 5...|           OVO|          Fail|         0.0|             |     10000.0|    -6.80790916428612|      111.102635731829|    319614.0|            0|\n",
      "|2024-01-01 00:20:...|       9710|9588828e-8f59-42c...|947b5b5f-7aa9-44b...|[{'product_id': 3...|    Debit Card|       Success|         0.0|             |         0.0|    -8.06462201322828|      110.549663173313|    701493.0|            1|\n",
      "|2024-01-01 00:21:...|      65192|3c501b17-18f4-485...|7db2467a-c905-4bc...|[{'product_id': 3...|   Credit Card|          Fail|      8107.0|    LIBURDONG|     10000.0|    -8.04398660050412|      112.205799773991|    369512.0|            0|\n",
      "|2024-01-01 00:22:...|       8927|c80012a3-0836-4b3...|a20899f7-b53d-451...|[{'product_id': 4...|   Credit Card|          Fail|         0.0|             |     10000.0|    -5.21835854597248|      105.269397530302|    346087.0|            0|\n",
      "|2024-01-01 00:23:...|      82997|451ce2ae-a933-463...|b8086f32-d838-4c6...|[{'product_id': 1...|   Credit Card|       Success|         0.0|             |      5000.0|    -8.06414310761052|      112.526084125748|    159889.0|            1|\n",
      "|2024-01-01 00:23:...|      45114|39f58158-df43-41e...|3fe68b85-b86a-42e...|[{'product_id': 5...|         Gopay|          Fail|         0.0|             |         0.0|    -2.48598333773817|      119.373927735626|   1071176.0|            0|\n",
      "|2024-01-01 00:28:...|      70528|96c7c6d1-36c1-4fa...|3a737027-89d4-461...|[{'product_id': 3...|    Debit Card|       Success|      4945.0|  WEEKENDSERU|     10000.0|    -7.50411734629767|      110.255785765461|    292966.0|            1|\n",
      "|2024-01-01 00:29:...|      76097|b5a7cbbd-8cce-4b3...|f1eefeeb-8bec-497...|[{'product_id': 4...|         Gopay|       Success|         0.0|             |     10000.0|    0.460192404070817|      114.102170198767|    600010.0|            1|\n",
      "|2024-01-01 00:31:...|      52017|8fa0691d-e1c8-490...|996963ca-3209-495...|[{'product_id': 1...|   Credit Card|       Success|      8408.0|  WEEKENDSERU|     10000.0|    -2.51418865457277|      112.746527680958|    423750.0|            1|\n",
      "+--------------------+-----------+--------------------+--------------------+--------------------+--------------+--------------+------------+-------------+------------+---------------------+----------------------+------------+-------------+\n",
      "only showing top 20 rows\n",
      "\n"
     ]
    }
   ],
   "source": [
    "spark.sql(\"SELECT * FROM QueryTransactions\").show()"
   ]
  },
  {
   "cell_type": "code",
   "execution_count": 18,
   "metadata": {},
   "outputs": [],
   "source": [
    "query_transactions.stop()"
   ]
  },
  {
   "cell_type": "markdown",
   "metadata": {},
   "source": [
    "### 5.\tAggregate the streaming data frames and create features we used in the model.  \n",
    "(note: customer ID has already been included in the stream.) Then, join the static data frames with the streaming data frame as our final data for prediction. Perform data type/column conversion according to your ML model and print out the Schema. (Again, you can reuse code from A2A)."
   ]
  },
  {
   "cell_type": "code",
   "execution_count": 16,
   "metadata": {},
   "outputs": [
    {
     "name": "stdout",
     "output_type": "stream",
     "text": [
      "root\n",
      " |-- product_id: integer (nullable = true)\n",
      " |-- created_at: string (nullable = true)\n",
      " |-- customer_id: string (nullable = true)\n",
      " |-- transaction_id: string (nullable = true)\n",
      " |-- session_id: string (nullable = true)\n",
      " |-- product_metadata: string (nullable = true)\n",
      " |-- payment_method: string (nullable = true)\n",
      " |-- payment_status: string (nullable = true)\n",
      " |-- promo_amount: double (nullable = true)\n",
      " |-- promo_code: string (nullable = true)\n",
      " |-- shipment_fee: double (nullable = true)\n",
      " |-- shipment_location_lat: double (nullable = true)\n",
      " |-- shipment_location_long: double (nullable = true)\n",
      " |-- total_amount: double (nullable = true)\n",
      " |-- clear_payment: string (nullable = true)\n",
      " |-- quantity: integer (nullable = true)\n",
      " |-- item_price: double (nullable = true)\n",
      " |-- gender: string (nullable = true)\n",
      " |-- baseColour: string (nullable = true)\n",
      " |-- season: string (nullable = true)\n",
      " |-- year: integer (nullable = true)\n",
      " |-- usage: string (nullable = true)\n",
      " |-- productDisplayName: string (nullable = true)\n",
      " |-- category_id: integer (nullable = true)\n",
      "\n",
      "root\n",
      " |-- session_id: string (nullable = true)\n",
      " |-- event_type: string (nullable = true)\n",
      " |-- event_time: string (nullable = true)\n",
      " |-- traffic_source: string (nullable = true)\n",
      " |-- device_type: string (nullable = true)\n",
      " |-- ts: integer (nullable = true)\n",
      " |-- event_ts: timestamp (nullable = true)\n",
      "\n"
     ]
    }
   ],
   "source": [
    "from pyspark.sql.functions import explode, col, from_json\n",
    "from pyspark.sql.types import ArrayType, StructType, StructField, IntegerType, DoubleType\n",
    "\n",
    "# Define schema for product metadata (array of products)\n",
    "product_metadata_schema = ArrayType(StructType([\n",
    "    StructField(\"product_id\", IntegerType(), True),\n",
    "    StructField(\"quantity\", IntegerType(), True),\n",
    "    StructField(\"item_price\", DoubleType(), True)\n",
    "]))\n",
    "\n",
    "# 1. Drop the customer_id from the browsing stream\n",
    "browsing_joined = browsing_stream.drop(\"customer_id\")\n",
    "\n",
    "# 2. Parse the product metadata field in the transactions stream\n",
    "transactions_stream = transactions_stream.withColumn(\n",
    "    \"product_list\", from_json(col(\"product_metadata\"), product_metadata_schema)\n",
    ")\n",
    "\n",
    "# 3. Explode the product list to create one row per product\n",
    "transactions_exploded = transactions_stream.withColumn(\"product\", explode(col(\"product_list\")))\n",
    "\n",
    "# 4. Extract fields from exploded product metadata\n",
    "transactions_exploded = transactions_exploded \\\n",
    "    .withColumn(\"product_id\", col(\"product.product_id\")) \\\n",
    "    .withColumn(\"quantity\", col(\"product.quantity\")) \\\n",
    "    .withColumn(\"item_price\", col(\"product.item_price\"))\n",
    "\n",
    "# 5. Drop redundant columns like product_list and product\n",
    "transactions_cleaned = transactions_exploded.drop(\"product_list\", \"product\")\n",
    "\n",
    "# 6. Join the cleaned transactions stream with the product_df on product_id\n",
    "transactions_joined = transactions_cleaned \\\n",
    "    .join(product_df.withColumnRenamed(\"id\", \"product_id\"), \"product_id\", \"left\")\n",
    "\n",
    "# Print schema to verify the joined transactions\n",
    "transactions_joined.printSchema()\n",
    "browsing_joined.printSchema()"
   ]
  },
  {
   "cell_type": "code",
   "execution_count": 20,
   "metadata": {},
   "outputs": [],
   "source": [
    "query_browsing = browsing_joined.writeStream \\\n",
    "    .outputMode(\"append\") \\\n",
    "    .format(\"memory\") \\\n",
    "    .queryName(\"QueryBrowsing\") \\\n",
    "    .start()"
   ]
  },
  {
   "cell_type": "code",
   "execution_count": 21,
   "metadata": {},
   "outputs": [
    {
     "name": "stdout",
     "output_type": "stream",
     "text": [
      "+--------------------+----------+--------------------+--------------+-----------+----------+-------------------+\n",
      "|          session_id|event_type|          event_time|traffic_source|device_type|        ts|           event_ts|\n",
      "+--------------------+----------+--------------------+--------------+-----------+----------+-------------------+\n",
      "|8a4ea821-02ea-427...|        CL|2024-01-01 00:00:...|        MOBILE|    Android|1728640677|2024-10-11 20:57:57|\n",
      "|e224a60c-f02c-4e1...|        CL|2024-01-01 00:00:...|        MOBILE|    Android|1728640677|2024-10-11 20:57:57|\n",
      "|8083bc82-d495-463...|        VI|2024-01-01 00:00:...|        MOBILE|        iOS|1728640677|2024-10-11 20:57:57|\n",
      "|3d4fc2ed-23b3-41b...|        CL|2024-01-01 00:00:...|        MOBILE|    Android|1728640677|2024-10-11 20:57:57|\n",
      "|29cab3eb-17b3-472...|        VP|2024-01-01 00:00:...|           WEB|    Android|1728640677|2024-10-11 20:57:57|\n",
      "|7aaab404-e148-484...|        HP|2024-01-01 00:00:...|        MOBILE|    Android|1728640677|2024-10-11 20:57:57|\n",
      "|75666d59-bfd7-42b...|       SCR|2024-01-01 00:00:...|        MOBILE|    Android|1728640677|2024-10-11 20:57:57|\n",
      "|345c167b-79ec-442...|       ATC|2024-01-01 00:00:...|        MOBILE|    Android|1728640677|2024-10-11 20:57:57|\n",
      "|bb769bf5-c21e-450...|        CL|2024-01-01 00:00:...|        MOBILE|    Android|1728640677|2024-10-11 20:57:57|\n",
      "|7b38cf0a-1867-49e...|        AP|2024-01-01 00:01:...|        MOBILE|        iOS|1728640677|2024-10-11 20:57:57|\n",
      "|5c903425-e405-4a7...|        AP|2024-01-01 00:01:...|        MOBILE|    Android|1728640677|2024-10-11 20:57:57|\n",
      "|28ac3e09-865b-476...|       SCR|2024-01-01 00:01:...|        MOBILE|    Android|1728640677|2024-10-11 20:57:57|\n",
      "|f85f2f9f-df4a-4ae...|        CO|2024-01-01 00:01:...|        MOBILE|    Android|1728640677|2024-10-11 20:57:57|\n",
      "|80c47600-b046-4c9...|        VP|2024-01-01 00:01:...|        MOBILE|    Android|1728640677|2024-10-11 20:57:57|\n",
      "|de1351b6-f248-491...|        CL|2024-01-01 00:01:...|           WEB|    Android|1728640677|2024-10-11 20:57:57|\n",
      "|83fe5f11-fb81-48c...|        CL|2024-01-01 00:01:...|           WEB|        iOS|1728640677|2024-10-11 20:57:57|\n",
      "|fe137234-c1c7-4d5...|        VI|2024-01-01 00:01:...|        MOBILE|        iOS|1728640677|2024-10-11 20:57:57|\n",
      "|380800ed-8097-484...|       ATC|2024-01-01 00:01:...|        MOBILE|    Android|1728640677|2024-10-11 20:57:57|\n",
      "|75666d59-bfd7-42b...|       SER|2024-01-01 00:01:...|        MOBILE|    Android|1728640677|2024-10-11 20:57:57|\n",
      "|2a6a6a05-bc78-4e3...|        VI|2024-01-01 00:02:...|        MOBILE|    Android|1728640677|2024-10-11 20:57:57|\n",
      "+--------------------+----------+--------------------+--------------+-----------+----------+-------------------+\n",
      "only showing top 20 rows\n",
      "\n"
     ]
    }
   ],
   "source": [
    "spark.sql(\"SELECT * FROM QueryBrowsing\").show()"
   ]
  },
  {
   "cell_type": "code",
   "execution_count": 22,
   "metadata": {},
   "outputs": [],
   "source": [
    "query_browsing.stop()"
   ]
  },
  {
   "cell_type": "code",
   "execution_count": 23,
   "metadata": {},
   "outputs": [],
   "source": [
    "query_transactions = transactions_joined.writeStream \\\n",
    "    .outputMode(\"append\") \\\n",
    "    .format(\"memory\") \\\n",
    "    .queryName(\"QueryTransactions\") \\\n",
    "    .start()"
   ]
  },
  {
   "cell_type": "code",
   "execution_count": 24,
   "metadata": {},
   "outputs": [
    {
     "name": "stdout",
     "output_type": "stream",
     "text": [
      "+----------+--------------------+-----------+--------------------+--------------------+--------------------+--------------+--------------+------------+-------------+------------+---------------------+----------------------+------------+-------------+--------+----------+------+----------+------+----+------+--------------------+-----------+\n",
      "|product_id|          created_at|customer_id|      transaction_id|          session_id|    product_metadata|payment_method|payment_status|promo_amount|   promo_code|shipment_fee|shipment_location_lat|shipment_location_long|total_amount|clear_payment|quantity|item_price|gender|baseColour|season|year| usage|  productDisplayName|category_id|\n",
      "+----------+--------------------+-----------+--------------------+--------------------+--------------------+--------------+--------------+------------+-------------+------------+---------------------+----------------------+------------+-------------+--------+----------+------+----------+------+----+------+--------------------+-----------+\n",
      "|      9433|2024-01-01 00:01:...|      98123|97b193ec-7b52-40d...|f85f2f9f-df4a-4ae...|[{'product_id': 9...|           OVO|          Fail|         0.0|             |         0.0|    -6.17197281657169|      106.790424765641|    271986.0|            0|       1|  271986.0|   Men|     White|  Fall|2011|Sports|Nike Men Air Max+...|         26|\n",
      "|      7328|2024-01-01 00:03:...|      64835|6d7eb639-bc72-484...|d03b2432-403a-4dd...|[{'product_id': 7...|   Credit Card|       Success|         0.0|             |     10000.0|    -8.47864460153527|      120.837462138453|    428874.0|            1|       2|  209437.0|   Men|     Black|Summer|2013|Casual|Red Tape Men Blac...|        157|\n",
      "|     49906|2024-01-01 00:04:...|      63101|548045ed-4bbc-4df...|7b373982-d715-484...|[{'product_id': 4...|    Debit Card|          Fail|         0.0|             |         0.0|    -7.00399635288681|      112.297411244148|    132932.0|            0|       1|  132932.0|Unisex|    Yellow|Winter|2016|Casual|Q&Q Kids Unisex Y...|         70|\n",
      "|     35696|2024-01-01 00:04:...|      84108|7d45484f-0d25-4e6...|2290c22f-8fda-411...|[{'product_id': 3...|       LinkAja|       Success|      4755.0|WEEKENDMANTAP|     50000.0|    -8.48633569530475|      118.999314001124|    229536.0|            1|       1|  184291.0|   Men|     White|Summer|2012|Casual|Nike Men Sweet Cl...|          3|\n",
      "|     59970|2024-01-01 00:09:...|      52484|91b433dd-d15f-4f9...|75666d59-bfd7-42b...|[{'product_id': 5...|   Credit Card|          Fail|         0.0|             |     10000.0|    -1.59264659191351|      110.915102934898|    481266.0|            0|       1|  471266.0| Women|     Black|  Fall|2012|Casual|Avirate Mushroom ...|        166|\n",
      "|     51671|2024-01-01 00:11:...|      73167|a388ca4a-1aeb-442...|aee50500-e67d-4cf...|[{'product_id': 5...|   Credit Card|       Success|         0.0|             |     10000.0|    -6.47742228728026|      106.369557548376|    103723.0|            1|       1|   93723.0|   Men|    Silver|Winter|2016|Casual|Louis Philippe Me...|        113|\n",
      "|      8124|2024-01-01 00:13:...|      46866|84cb483c-cf47-463...|6b6c8909-487a-47d...|[{'product_id': 8...|           OVO|       Success|         0.0|             |     10000.0|    -6.29214289518665|      106.897849439422|   1685203.0|            1|       1|  316502.0| Women|     White|Winter|2016|Casual|Fastrack Women Co...|         70|\n",
      "|     18879|2024-01-01 00:13:...|      46866|84cb483c-cf47-463...|6b6c8909-487a-47d...|[{'product_id': 8...|           OVO|       Success|         0.0|             |     10000.0|    -6.29214289518665|      106.897849439422|   1685203.0|            1|       1|  276937.0| Women| Navy Blue|  Fall|2011|Casual|Arrow Woman Joann...|         67|\n",
      "|      6885|2024-01-01 00:13:...|      46866|84cb483c-cf47-463...|6b6c8909-487a-47d...|[{'product_id': 8...|           OVO|       Success|         0.0|             |     10000.0|    -6.29214289518665|      106.897849439422|   1685203.0|            1|       1|  276352.0| Women|     White|Summer|2011|Casual|Forever New Women...|        166|\n",
      "|     15853|2024-01-01 00:13:...|      46866|84cb483c-cf47-463...|6b6c8909-487a-47d...|[{'product_id': 8...|           OVO|       Success|         0.0|             |     10000.0|    -6.29214289518665|      106.897849439422|   1685203.0|            1|       1|  167564.0| Girls|     Green|  Fall|2012|Casual|Warner Bros Kids ...|        157|\n",
      "|     35423|2024-01-01 00:13:...|      46866|84cb483c-cf47-463...|6b6c8909-487a-47d...|[{'product_id': 8...|           OVO|       Success|         0.0|             |     10000.0|    -6.29214289518665|      106.897849439422|   1685203.0|            1|       1|  187775.0| Women|      Blue|Summer|2012|Sports|ADIDAS Women Clim...|         26|\n",
      "|     37588|2024-01-01 00:13:...|      46866|84cb483c-cf47-463...|6b6c8909-487a-47d...|[{'product_id': 8...|           OVO|       Success|         0.0|             |     10000.0|    -6.29214289518665|      106.897849439422|   1685203.0|            1|       1|  450073.0| Girls|      Pink|Summer|2012|Casual|Madagascar3 Infan...|         40|\n",
      "|     27514|2024-01-01 00:14:...|        978|47d6a6d3-590d-46f...|249054c2-1016-435...|[{'product_id': 2...|    Debit Card|       Success|      6447.0|    LIBURDONG|         0.0|    -7.35707383447537|      108.340661308702|    256243.0|            1|       1|  262690.0| Women|     White|Winter|2015|Casual|Jockey Lace Stret...|         21|\n",
      "|     58653|2024-01-01 00:16:...|      96085|3ed4b54f-0638-4ca...|673b581b-6b35-458...|[{'product_id': 5...|       LinkAja|       Success|      6044.0|WEEKENDMANTAP|     10000.0|     -7.0558355886227|      112.118699940686|    188170.0|            1|       1|  184214.0| Women|      Pink|Summer|2012|Ethnic|ALayna Women Pink...|         87|\n",
      "|     24596|2024-01-01 00:17:...|      15602|8d0e3b77-5bf1-465...|b948da4b-fec5-4e2...|[{'product_id': 2...|    Debit Card|          Fail|         0.0|             |     10000.0|    -0.80082957685589|      123.261953464513|    278487.0|            0|       1|  268487.0| Women|     Green|  Fall|2011|Casual|Little Miss Women...|         40|\n",
      "|      6138|2024-01-01 00:19:...|      66840|09382612-d207-472...|a89a6765-88ff-445...|[{'product_id': 6...|       LinkAja|       Success|         0.0|             |         0.0|    -6.15829008017101|      106.879515690502|     65563.0|            1|       1|   65563.0|Unisex|      Grey|Winter|2011|Casual|Puma Unisex Winch...|        157|\n",
      "|     50886|2024-01-01 00:20:...|      68449|6bf96b67-b2a9-49c...|a87f6892-8b09-400...|[{'product_id': 5...|           OVO|          Fail|         0.0|             |     10000.0|    -6.80790916428612|      111.102635731829|    319614.0|            0|       1|  309614.0| Women|     Green|  Fall|2012|Ethnic|Prafful Green Cre...|         20|\n",
      "|     33895|2024-01-01 00:20:...|       9710|9588828e-8f59-42c...|947b5b5f-7aa9-44b...|[{'product_id': 3...|    Debit Card|       Success|         0.0|             |         0.0|    -8.06462201322828|      110.549663173313|    701493.0|            1|       3|  233831.0|   Men|     Black|Winter|2016|Casual|Citizen Men Black...|         70|\n",
      "|      3231|2024-01-01 00:21:...|      65192|3c501b17-18f4-485...|7db2467a-c905-4bc...|[{'product_id': 3...|   Credit Card|          Fail|      8107.0|    LIBURDONG|     10000.0|    -8.04398660050412|      112.205799773991|    369512.0|            0|       1|  367619.0|   Men|     White|  Fall|2010|Casual|Puma Men's Speed ...|          3|\n",
      "|     49090|2024-01-01 00:22:...|       8927|c80012a3-0836-4b3...|a20899f7-b53d-451...|[{'product_id': 4...|   Credit Card|          Fail|         0.0|             |     10000.0|    -5.21835854597248|      105.269397530302|    346087.0|            0|       1|  336087.0| Women|     Brown|Spring|2017|Casual|Deborah 24 Ore Li...|        134|\n",
      "+----------+--------------------+-----------+--------------------+--------------------+--------------------+--------------+--------------+------------+-------------+------------+---------------------+----------------------+------------+-------------+--------+----------+------+----------+------+----+------+--------------------+-----------+\n",
      "only showing top 20 rows\n",
      "\n"
     ]
    }
   ],
   "source": [
    "spark.sql(\"SELECT * FROM QueryTransactions\").show()"
   ]
  },
  {
   "cell_type": "code",
   "execution_count": 25,
   "metadata": {},
   "outputs": [],
   "source": [
    "query_transactions.stop()"
   ]
  },
  {
   "cell_type": "markdown",
   "metadata": {},
   "source": [
    "#### Explanation of Converting Stream-Stream or Static-Stream Join to Static-Static Join using Mini-Batches\n",
    "\n",
    "The code effectively converts a stream-stream or static-stream join into a static-static join by using mini-batches stored in intermediate Parquet files. Here's a breakdown of how this works:\n",
    "\n",
    "##### 1. Writing Streaming Data as Mini-Batches:\n",
    "The `browsing_joined` and `transactions_joined` streams are written to disk in Parquet format with a trigger set to every minute (`processingTime=\"1 minute\"`). This means that every minute, the incoming stream data is stored as static mini-batches in the directories `browsing_data` and `transactions_data`.\n",
    "\n",
    "##### 2. Reading the Mini-Batches as Static Data:\n",
    "After the streams have written the data to disk, we then read the stored mini-batches from Parquet files as static DataFrames."
   ]
  },
  {
   "cell_type": "code",
   "execution_count": 17,
   "metadata": {},
   "outputs": [],
   "source": [
    "# Browsing stream write to disk \n",
    "browsing_stream_query = browsing_joined.writeStream \\\n",
    "    .outputMode(\"append\") \\\n",
    "    .format(\"parquet\") \\\n",
    "    .option(\"path\", \"browsing_data\") \\\n",
    "    .trigger(processingTime=\"30 seconds\") \\\n",
    "    .start()\n",
    "\n",
    "# Transactions stream write to disk with checkpointing\n",
    "transactions_stream_query = transactions_joined.writeStream \\\n",
    "    .outputMode(\"append\") \\\n",
    "    .format(\"parquet\") \\\n",
    "    .option(\"path\", \"transactions_data\") \\\n",
    "    .trigger(processingTime=\"30 seconds\") \\\n",
    "    .start()"
   ]
  },
  {
   "cell_type": "code",
   "execution_count": 18,
   "metadata": {},
   "outputs": [],
   "source": [
    "# Read browsing mini-batches as static data\n",
    "browsing_behaviour_df = spark.read.parquet(\"browsing_data\")\n",
    "\n",
    "# Read transactions mini-batches as static data\n",
    "transaction_df = spark.read.parquet(\"transactions_data\")"
   ]
  },
  {
   "cell_type": "code",
   "execution_count": 19,
   "metadata": {},
   "outputs": [
    {
     "name": "stdout",
     "output_type": "stream",
     "text": [
      "+--------------------+----------+--------------------+--------------+-----------+----------+-------------------+\n",
      "|          session_id|event_type|          event_time|traffic_source|device_type|        ts|           event_ts|\n",
      "+--------------------+----------+--------------------+--------------+-----------+----------+-------------------+\n",
      "|8a4ea821-02ea-427...|        CL|2024-01-01 00:00:...|        MOBILE|    Android|1728814800|2024-10-13 21:20:00|\n",
      "|e224a60c-f02c-4e1...|        CL|2024-01-01 00:00:...|        MOBILE|    Android|1728814800|2024-10-13 21:20:00|\n",
      "|8083bc82-d495-463...|        VI|2024-01-01 00:00:...|        MOBILE|        iOS|1728814800|2024-10-13 21:20:00|\n",
      "|3d4fc2ed-23b3-41b...|        CL|2024-01-01 00:00:...|        MOBILE|    Android|1728814800|2024-10-13 21:20:00|\n",
      "|29cab3eb-17b3-472...|        VP|2024-01-01 00:00:...|           WEB|    Android|1728814800|2024-10-13 21:20:00|\n",
      "|7aaab404-e148-484...|        HP|2024-01-01 00:00:...|        MOBILE|    Android|1728814800|2024-10-13 21:20:00|\n",
      "|75666d59-bfd7-42b...|       SCR|2024-01-01 00:00:...|        MOBILE|    Android|1728814800|2024-10-13 21:20:00|\n",
      "|345c167b-79ec-442...|       ATC|2024-01-01 00:00:...|        MOBILE|    Android|1728814800|2024-10-13 21:20:00|\n",
      "|bb769bf5-c21e-450...|        CL|2024-01-01 00:00:...|        MOBILE|    Android|1728814800|2024-10-13 21:20:00|\n",
      "|7b38cf0a-1867-49e...|        AP|2024-01-01 00:01:...|        MOBILE|        iOS|1728814800|2024-10-13 21:20:00|\n",
      "|5c903425-e405-4a7...|        AP|2024-01-01 00:01:...|        MOBILE|    Android|1728814800|2024-10-13 21:20:00|\n",
      "|28ac3e09-865b-476...|       SCR|2024-01-01 00:01:...|        MOBILE|    Android|1728814800|2024-10-13 21:20:00|\n",
      "|f85f2f9f-df4a-4ae...|        CO|2024-01-01 00:01:...|        MOBILE|    Android|1728814800|2024-10-13 21:20:00|\n",
      "|80c47600-b046-4c9...|        VP|2024-01-01 00:01:...|        MOBILE|    Android|1728814800|2024-10-13 21:20:00|\n",
      "|de1351b6-f248-491...|        CL|2024-01-01 00:01:...|           WEB|    Android|1728814800|2024-10-13 21:20:00|\n",
      "|83fe5f11-fb81-48c...|        CL|2024-01-01 00:01:...|           WEB|        iOS|1728814800|2024-10-13 21:20:00|\n",
      "|fe137234-c1c7-4d5...|        VI|2024-01-01 00:01:...|        MOBILE|        iOS|1728814800|2024-10-13 21:20:00|\n",
      "|380800ed-8097-484...|       ATC|2024-01-01 00:01:...|        MOBILE|    Android|1728814800|2024-10-13 21:20:00|\n",
      "|75666d59-bfd7-42b...|       SER|2024-01-01 00:01:...|        MOBILE|    Android|1728814800|2024-10-13 21:20:00|\n",
      "|2a6a6a05-bc78-4e3...|        VI|2024-01-01 00:02:...|        MOBILE|    Android|1728814800|2024-10-13 21:20:00|\n",
      "+--------------------+----------+--------------------+--------------+-----------+----------+-------------------+\n",
      "only showing top 20 rows\n",
      "\n",
      "+----------+--------------------+-----------+--------------------+--------------------+--------------------+--------------+--------------+------------+-------------+------------+---------------------+----------------------+------------+-------------+--------+----------+------+----------+------+----+------+--------------------+-----------+\n",
      "|product_id|          created_at|customer_id|      transaction_id|          session_id|    product_metadata|payment_method|payment_status|promo_amount|   promo_code|shipment_fee|shipment_location_lat|shipment_location_long|total_amount|clear_payment|quantity|item_price|gender|baseColour|season|year| usage|  productDisplayName|category_id|\n",
      "+----------+--------------------+-----------+--------------------+--------------------+--------------------+--------------+--------------+------------+-------------+------------+---------------------+----------------------+------------+-------------+--------+----------+------+----------+------+----+------+--------------------+-----------+\n",
      "|      9433|2024-01-01 00:01:...|      98123|97b193ec-7b52-40d...|f85f2f9f-df4a-4ae...|[{'product_id': 9...|           OVO|          Fail|         0.0|             |         0.0|    -6.17197281657169|      106.790424765641|    271986.0|            0|       1|  271986.0|   Men|     White|  Fall|2011|Sports|Nike Men Air Max+...|         26|\n",
      "|      7328|2024-01-01 00:03:...|      64835|6d7eb639-bc72-484...|d03b2432-403a-4dd...|[{'product_id': 7...|   Credit Card|       Success|         0.0|             |     10000.0|    -8.47864460153527|      120.837462138453|    428874.0|            1|       2|  209437.0|   Men|     Black|Summer|2013|Casual|Red Tape Men Blac...|        157|\n",
      "|     49906|2024-01-01 00:04:...|      63101|548045ed-4bbc-4df...|7b373982-d715-484...|[{'product_id': 4...|    Debit Card|          Fail|         0.0|             |         0.0|    -7.00399635288681|      112.297411244148|    132932.0|            0|       1|  132932.0|Unisex|    Yellow|Winter|2016|Casual|Q&Q Kids Unisex Y...|         70|\n",
      "|     35696|2024-01-01 00:04:...|      84108|7d45484f-0d25-4e6...|2290c22f-8fda-411...|[{'product_id': 3...|       LinkAja|       Success|      4755.0|WEEKENDMANTAP|     50000.0|    -8.48633569530475|      118.999314001124|    229536.0|            1|       1|  184291.0|   Men|     White|Summer|2012|Casual|Nike Men Sweet Cl...|          3|\n",
      "|     59970|2024-01-01 00:09:...|      52484|91b433dd-d15f-4f9...|75666d59-bfd7-42b...|[{'product_id': 5...|   Credit Card|          Fail|         0.0|             |     10000.0|    -1.59264659191351|      110.915102934898|    481266.0|            0|       1|  471266.0| Women|     Black|  Fall|2012|Casual|Avirate Mushroom ...|        166|\n",
      "|     51671|2024-01-01 00:11:...|      73167|a388ca4a-1aeb-442...|aee50500-e67d-4cf...|[{'product_id': 5...|   Credit Card|       Success|         0.0|             |     10000.0|    -6.47742228728026|      106.369557548376|    103723.0|            1|       1|   93723.0|   Men|    Silver|Winter|2016|Casual|Louis Philippe Me...|        113|\n",
      "|      8124|2024-01-01 00:13:...|      46866|84cb483c-cf47-463...|6b6c8909-487a-47d...|[{'product_id': 8...|           OVO|       Success|         0.0|             |     10000.0|    -6.29214289518665|      106.897849439422|   1685203.0|            1|       1|  316502.0| Women|     White|Winter|2016|Casual|Fastrack Women Co...|         70|\n",
      "|     18879|2024-01-01 00:13:...|      46866|84cb483c-cf47-463...|6b6c8909-487a-47d...|[{'product_id': 8...|           OVO|       Success|         0.0|             |     10000.0|    -6.29214289518665|      106.897849439422|   1685203.0|            1|       1|  276937.0| Women| Navy Blue|  Fall|2011|Casual|Arrow Woman Joann...|         67|\n",
      "|      6885|2024-01-01 00:13:...|      46866|84cb483c-cf47-463...|6b6c8909-487a-47d...|[{'product_id': 8...|           OVO|       Success|         0.0|             |     10000.0|    -6.29214289518665|      106.897849439422|   1685203.0|            1|       1|  276352.0| Women|     White|Summer|2011|Casual|Forever New Women...|        166|\n",
      "|     15853|2024-01-01 00:13:...|      46866|84cb483c-cf47-463...|6b6c8909-487a-47d...|[{'product_id': 8...|           OVO|       Success|         0.0|             |     10000.0|    -6.29214289518665|      106.897849439422|   1685203.0|            1|       1|  167564.0| Girls|     Green|  Fall|2012|Casual|Warner Bros Kids ...|        157|\n",
      "|     35423|2024-01-01 00:13:...|      46866|84cb483c-cf47-463...|6b6c8909-487a-47d...|[{'product_id': 8...|           OVO|       Success|         0.0|             |     10000.0|    -6.29214289518665|      106.897849439422|   1685203.0|            1|       1|  187775.0| Women|      Blue|Summer|2012|Sports|ADIDAS Women Clim...|         26|\n",
      "|     37588|2024-01-01 00:13:...|      46866|84cb483c-cf47-463...|6b6c8909-487a-47d...|[{'product_id': 8...|           OVO|       Success|         0.0|             |     10000.0|    -6.29214289518665|      106.897849439422|   1685203.0|            1|       1|  450073.0| Girls|      Pink|Summer|2012|Casual|Madagascar3 Infan...|         40|\n",
      "|     27514|2024-01-01 00:14:...|        978|47d6a6d3-590d-46f...|249054c2-1016-435...|[{'product_id': 2...|    Debit Card|       Success|      6447.0|    LIBURDONG|         0.0|    -7.35707383447537|      108.340661308702|    256243.0|            1|       1|  262690.0| Women|     White|Winter|2015|Casual|Jockey Lace Stret...|         21|\n",
      "|     58653|2024-01-01 00:16:...|      96085|3ed4b54f-0638-4ca...|673b581b-6b35-458...|[{'product_id': 5...|       LinkAja|       Success|      6044.0|WEEKENDMANTAP|     10000.0|     -7.0558355886227|      112.118699940686|    188170.0|            1|       1|  184214.0| Women|      Pink|Summer|2012|Ethnic|ALayna Women Pink...|         87|\n",
      "|     24596|2024-01-01 00:17:...|      15602|8d0e3b77-5bf1-465...|b948da4b-fec5-4e2...|[{'product_id': 2...|    Debit Card|          Fail|         0.0|             |     10000.0|    -0.80082957685589|      123.261953464513|    278487.0|            0|       1|  268487.0| Women|     Green|  Fall|2011|Casual|Little Miss Women...|         40|\n",
      "|      6138|2024-01-01 00:19:...|      66840|09382612-d207-472...|a89a6765-88ff-445...|[{'product_id': 6...|       LinkAja|       Success|         0.0|             |         0.0|    -6.15829008017101|      106.879515690502|     65563.0|            1|       1|   65563.0|Unisex|      Grey|Winter|2011|Casual|Puma Unisex Winch...|        157|\n",
      "|     50886|2024-01-01 00:20:...|      68449|6bf96b67-b2a9-49c...|a87f6892-8b09-400...|[{'product_id': 5...|           OVO|          Fail|         0.0|             |     10000.0|    -6.80790916428612|      111.102635731829|    319614.0|            0|       1|  309614.0| Women|     Green|  Fall|2012|Ethnic|Prafful Green Cre...|         20|\n",
      "|     33895|2024-01-01 00:20:...|       9710|9588828e-8f59-42c...|947b5b5f-7aa9-44b...|[{'product_id': 3...|    Debit Card|       Success|         0.0|             |         0.0|    -8.06462201322828|      110.549663173313|    701493.0|            1|       3|  233831.0|   Men|     Black|Winter|2016|Casual|Citizen Men Black...|         70|\n",
      "|      3231|2024-01-01 00:21:...|      65192|3c501b17-18f4-485...|7db2467a-c905-4bc...|[{'product_id': 3...|   Credit Card|          Fail|      8107.0|    LIBURDONG|     10000.0|    -8.04398660050412|      112.205799773991|    369512.0|            0|       1|  367619.0|   Men|     White|  Fall|2010|Casual|Puma Men's Speed ...|          3|\n",
      "|     49090|2024-01-01 00:22:...|       8927|c80012a3-0836-4b3...|a20899f7-b53d-451...|[{'product_id': 4...|   Credit Card|          Fail|         0.0|             |     10000.0|    -5.21835854597248|      105.269397530302|    346087.0|            0|       1|  336087.0| Women|     Brown|Spring|2017|Casual|Deborah 24 Ore Li...|        134|\n",
      "+----------+--------------------+-----------+--------------------+--------------------+--------------------+--------------+--------------+------------+-------------+------------+---------------------+----------------------+------------+-------------+--------+----------+------+----------+------+----+------+--------------------+-----------+\n",
      "only showing top 20 rows\n",
      "\n"
     ]
    }
   ],
   "source": [
    "browsing_behaviour_df.show()  # Check if data exists\n",
    "transaction_df.show()  # Check if data exists"
   ]
  },
  {
   "cell_type": "code",
   "execution_count": 20,
   "metadata": {},
   "outputs": [
    {
     "name": "stdout",
     "output_type": "stream",
     "text": [
      "+--------------------+--------+--------+--------+\n",
      "|          session_id|L1_count|L2_count|L3_count|\n",
      "+--------------------+--------+--------+--------+\n",
      "|64e5d3a2-e9b4-49e...|       0|     210|       0|\n",
      "|593a54c9-8642-4b7...|       0|     256|       0|\n",
      "|7c479942-2f31-454...|     118|     139|       0|\n",
      "|5afd5fe8-c9bf-4ba...|       0|       0|     190|\n",
      "|7e552a85-8e47-4b8...|       0|       0|     256|\n",
      "|274041ed-c121-468...|       0|     242|       0|\n",
      "|7621faed-7db2-47f...|       0|       0|      58|\n",
      "|1fda6d20-d4cb-48c...|       0|       0|     256|\n",
      "|5d768487-5d97-4a2...|       0|       0|      66|\n",
      "|ede8725e-fe86-444...|       0|       0|     171|\n",
      "|ea6ec7f8-2c2e-40e...|     101|       0|       0|\n",
      "|e6b20437-b49c-485...|       0|       0|     256|\n",
      "|58623af3-5f8e-43b...|       0|       0|     256|\n",
      "|c3104e9e-ea3d-4a4...|       0|       0|     256|\n",
      "|d311c334-0b01-471...|       0|     256|     282|\n",
      "|3ea3a7d8-109d-492...|       0|       0|     256|\n",
      "|8b37dfd9-548c-4fa...|       0|       0|     256|\n",
      "|5302b653-3ad2-481...|       0|       0|     256|\n",
      "|ef64f0f1-c78a-45f...|       0|       0|     465|\n",
      "|7028e5ef-6420-4be...|       0|       0|     380|\n",
      "+--------------------+--------+--------+--------+\n",
      "only showing top 20 rows\n",
      "\n"
     ]
    }
   ],
   "source": [
    "from pyspark.sql import functions as F\n",
    "from pyspark.sql.window import Window\n",
    "\n",
    "# Categorizing events into levels\n",
    "browsing_behaviour_df = browsing_behaviour_df.withColumn(\n",
    "    \"event_level\",\n",
    "    F.when(F.col(\"event_type\").isin([\"AP\", \"ATC\", \"CO\"]), \"L1\")\n",
    "    .when(F.col(\"event_type\").isin([\"VC\", \"VP\", \"VI\", \"SER\"]), \"L2\")\n",
    "    .when(F.col(\"event_type\").isin([\"SCR\", \"HP\", \"CL\"]), \"L3\")\n",
    "    .otherwise(\"Other\")\n",
    ")\n",
    "\n",
    "# Counting the number of actions in each level for each session\n",
    "level_counts = browsing_behaviour_df.groupBy(\"session_id\").pivot(\"event_level\").count().na.fill(0)\n",
    "\n",
    "# Renaming columns for clarity\n",
    "feature_df = level_counts.withColumnRenamed(\"L1\", \"L1_count\") \\\n",
    "                         .withColumnRenamed(\"L2\", \"L2_count\") \\\n",
    "                         .withColumnRenamed(\"L3\", \"L3_count\")\n",
    "\n",
    "# Selecting only the required columns: transaction_id, session_id, L1_count, L2_count, L3_count\n",
    "feature_df = feature_df.select(\"session_id\", \"L1_count\", \"L2_count\", \"L3_count\")\n",
    "\n",
    "feature_df.show()"
   ]
  },
  {
   "cell_type": "code",
   "execution_count": 21,
   "metadata": {},
   "outputs": [
    {
     "name": "stdout",
     "output_type": "stream",
     "text": [
      "+--------------------+--------+--------+--------+--------+--------+\n",
      "|          session_id|L1_count|L2_count|L3_count|L1_ratio|L2_ratio|\n",
      "+--------------------+--------+--------+--------+--------+--------+\n",
      "|64e5d3a2-e9b4-49e...|       0|     210|       0|     0.0|   100.0|\n",
      "|593a54c9-8642-4b7...|       0|     256|       0|     0.0|   100.0|\n",
      "|7c479942-2f31-454...|     118|     139|       0|   45.91|   54.09|\n",
      "|5afd5fe8-c9bf-4ba...|       0|       0|     190|     0.0|     0.0|\n",
      "|7e552a85-8e47-4b8...|       0|       0|     256|     0.0|     0.0|\n",
      "|274041ed-c121-468...|       0|     242|       0|     0.0|   100.0|\n",
      "|7621faed-7db2-47f...|       0|       0|      58|     0.0|     0.0|\n",
      "|1fda6d20-d4cb-48c...|       0|       0|     256|     0.0|     0.0|\n",
      "|5d768487-5d97-4a2...|       0|       0|      66|     0.0|     0.0|\n",
      "|ede8725e-fe86-444...|       0|       0|     171|     0.0|     0.0|\n",
      "|ea6ec7f8-2c2e-40e...|     101|       0|       0|   100.0|     0.0|\n",
      "|e6b20437-b49c-485...|       0|       0|     256|     0.0|     0.0|\n",
      "|58623af3-5f8e-43b...|       0|       0|     256|     0.0|     0.0|\n",
      "|c3104e9e-ea3d-4a4...|       0|       0|     256|     0.0|     0.0|\n",
      "|d311c334-0b01-471...|       0|     256|     282|     0.0|   47.58|\n",
      "|3ea3a7d8-109d-492...|       0|       0|     256|     0.0|     0.0|\n",
      "|8b37dfd9-548c-4fa...|       0|       0|     256|     0.0|     0.0|\n",
      "|5302b653-3ad2-481...|       0|       0|     256|     0.0|     0.0|\n",
      "|ef64f0f1-c78a-45f...|       0|       0|     465|     0.0|     0.0|\n",
      "|7028e5ef-6420-4be...|       0|       0|     380|     0.0|     0.0|\n",
      "+--------------------+--------+--------+--------+--------+--------+\n",
      "only showing top 20 rows\n",
      "\n"
     ]
    }
   ],
   "source": [
    "from pyspark.sql import functions as F\n",
    "\n",
    "# Calculating event ratios\n",
    "feature_df = feature_df.withColumn(\n",
    "    \"L1_ratio\",\n",
    "    F.round((F.col(\"L1_count\") / (F.col(\"L1_count\") + F.col(\"L2_count\") + F.col(\"L3_count\")) * 100), 2)\n",
    ").withColumn(\n",
    "    \"L2_ratio\",\n",
    "    F.round((F.col(\"L2_count\") / (F.col(\"L1_count\") + F.col(\"L2_count\") + F.col(\"L3_count\")) * 100), 2)\n",
    ")\n",
    "\n",
    "feature_df.show()"
   ]
  },
  {
   "cell_type": "code",
   "execution_count": 22,
   "metadata": {},
   "outputs": [
    {
     "name": "stdout",
     "output_type": "stream",
     "text": [
      "+--------------------+--------+--------+--------+--------+--------+--------------------+-----------+\n",
      "|          session_id|L1_count|L2_count|L3_count|L1_ratio|L2_ratio|         medium_time|time_of_day|\n",
      "+--------------------+--------+--------+--------+--------+--------+--------------------+-----------+\n",
      "|64e5d3a2-e9b4-49e...|       0|     210|       0|     0.0|   100.0| 2024-01-01 00:59:19|  afternoon|\n",
      "|593a54c9-8642-4b7...|       0|     256|       0|     0.0|   100.0| 2024-01-01 00:39:31|  afternoon|\n",
      "|7c479942-2f31-454...|     118|     139|       0|   45.91|   54.09| 2024-01-01 01:17:28|  afternoon|\n",
      "|5afd5fe8-c9bf-4ba...|       0|       0|     190|     0.0|     0.0| 2024-01-01 01:04:44|  afternoon|\n",
      "|7e552a85-8e47-4b8...|       0|       0|     256|     0.0|     0.0| 2024-01-01 00:11:40|  afternoon|\n",
      "|274041ed-c121-468...|       0|     242|       0|     0.0|   100.0| 2024-01-01 00:54:46|  afternoon|\n",
      "|7621faed-7db2-47f...|       0|       0|      58|     0.0|     0.0| 2024-01-01 01:33:20|  afternoon|\n",
      "|1fda6d20-d4cb-48c...|       0|       0|     256|     0.0|     0.0| 2024-01-01 00:26:16|  afternoon|\n",
      "|5d768487-5d97-4a2...|       0|       0|      66|     0.0|     0.0| 2024-01-01 01:31:50|  afternoon|\n",
      "|ede8725e-fe86-444...|       0|       0|     171|     0.0|     0.0| 2024-01-01 01:08:43|  afternoon|\n",
      "|ea6ec7f8-2c2e-40e...|     101|       0|       0|   100.0|     0.0| 2024-01-01 01:26:11|  afternoon|\n",
      "|e6b20437-b49c-485...|       0|       0|     256|     0.0|     0.0| 2024-01-01 00:06:04|  afternoon|\n",
      "|58623af3-5f8e-43b...|       0|       0|     256|     0.0|     0.0| 2024-01-01 00:09:57|  afternoon|\n",
      "|c3104e9e-ea3d-4a4...|       0|       0|     256|     0.0|     0.0| 2024-01-01 00:12:14|  afternoon|\n",
      "|d311c334-0b01-471...|       0|     256|     282|     0.0|   47.58|2024-01-01 00:58:...|  afternoon|\n",
      "|3ea3a7d8-109d-492...|       0|       0|     256|     0.0|     0.0| 2024-01-01 00:31:36|  afternoon|\n",
      "|8b37dfd9-548c-4fa...|       0|       0|     256|     0.0|     0.0| 2024-01-01 00:42:07|  afternoon|\n",
      "|5302b653-3ad2-481...|       0|       0|     256|     0.0|     0.0| 2024-01-01 00:15:04|  afternoon|\n",
      "|ef64f0f1-c78a-45f...|       0|       0|     465|     0.0|     0.0|2024-01-01 01:01:...|  afternoon|\n",
      "|7028e5ef-6420-4be...|       0|       0|     380|     0.0|     0.0|2024-01-01 00:44:...|  afternoon|\n",
      "+--------------------+--------+--------+--------+--------+--------+--------------------+-----------+\n",
      "only showing top 20 rows\n",
      "\n"
     ]
    }
   ],
   "source": [
    "from pyspark.sql import functions as F\n",
    "from pyspark.sql.types import StringType\n",
    "\n",
    "# Ensuring event_time is in timestamp format\n",
    "browsing_behaviour_df = browsing_behaviour_df.withColumn(\"event_time\", F.to_timestamp(\"event_time\"))\n",
    "\n",
    "# Calculating the median time for each session\n",
    "# We are approximating median by taking the midpoint between min and max times within each session\n",
    "median_time_df = browsing_behaviour_df.groupBy(\"session_id\").agg(\n",
    "    ((F.unix_timestamp(F.max(\"event_time\")) + F.unix_timestamp(F.min(\"event_time\"))) / 2).cast(\"timestamp\").alias(\"medium_time\")\n",
    ")\n",
    "\n",
    "# Defining a function and UDF to classify the time of day\n",
    "def classify_time_of_day(hour):\n",
    "    if 6 <= hour < 12:\n",
    "        return \"morning\"\n",
    "    elif 12 <= hour < 18:\n",
    "        return \"afternoon\"\n",
    "    elif 18 <= hour < 24:\n",
    "        return \"evening\"\n",
    "    else:\n",
    "        return \"night\"\n",
    "\n",
    "# Registering the function as a UDF\n",
    "time_of_day_udf = F.udf(lambda x: classify_time_of_day(x.hour), StringType())\n",
    "\n",
    "# Joining the median time with the main feature DataFrame and classify time of day\n",
    "try:\n",
    "    # Check if the column 'time_of_day' already exists\n",
    "    if \"time_of_day\" not in feature_df.columns:\n",
    "        # Perform the join operation\n",
    "        feature_df = feature_df.join(median_time_df, \"session_id\", \"left\")\n",
    "        # Add the 'time_of_day' column\n",
    "        feature_df = feature_df.withColumn(\"time_of_day\", time_of_day_udf(F.col(\"medium_time\")))\n",
    "except Exception as e:\n",
    "    print(f\"An error occurred during the join or while adding 'time_of_day' column: {e}\")\n",
    "\n",
    "feature_df.show()"
   ]
  },
  {
   "cell_type": "code",
   "execution_count": 23,
   "metadata": {},
   "outputs": [
    {
     "name": "stdout",
     "output_type": "stream",
     "text": [
      "+--------------------+--------+--------+--------+--------+--------+--------------------+-----------+------+---+---------------+--------------------+\n",
      "|          session_id|L1_count|L2_count|L3_count|L1_ratio|L2_ratio|         medium_time|time_of_day|gender|age|first_join_year|         geolocation|\n",
      "+--------------------+--------+--------+--------+--------+--------+--------------------+-----------+------+---+---------------+--------------------+\n",
      "|1fda6d20-d4cb-48c...|       0|       0|     256|     0.0|     0.0| 2024-01-01 00:26:16|  afternoon|     F| 29|           2021|                NULL|\n",
      "|274041ed-c121-468...|       0|     242|       0|     0.0|   100.0| 2024-01-01 00:54:46|  afternoon|     F| 22|           2021|                NULL|\n",
      "|3ea3a7d8-109d-492...|       0|       0|     256|     0.0|     0.0| 2024-01-01 00:31:36|  afternoon|     F| 33|           2019|                NULL|\n",
      "|5302b653-3ad2-481...|       0|       0|     256|     0.0|     0.0| 2024-01-01 00:15:04|  afternoon|     M| 19|           2021|                NULL|\n",
      "|58623af3-5f8e-43b...|       0|       0|     256|     0.0|     0.0| 2024-01-01 00:09:57|  afternoon|     F| 31|           2021|                NULL|\n",
      "|593a54c9-8642-4b7...|       0|     256|       0|     0.0|   100.0| 2024-01-01 00:39:31|  afternoon|     M| 26|           2020|                NULL|\n",
      "|5afd5fe8-c9bf-4ba...|       0|       0|     190|     0.0|     0.0| 2024-01-01 01:04:44|  afternoon|     F| 31|           2018|                NULL|\n",
      "|5d768487-5d97-4a2...|       0|       0|      66|     0.0|     0.0| 2024-01-01 01:31:50|  afternoon|     F| 32|           2019|                NULL|\n",
      "|64e5d3a2-e9b4-49e...|       0|     210|       0|     0.0|   100.0| 2024-01-01 00:59:19|  afternoon|     M| 26|           2021|                NULL|\n",
      "|7028e5ef-6420-4be...|       0|       0|     380|     0.0|     0.0|2024-01-01 00:44:...|  afternoon|     F| 43|           2018|                NULL|\n",
      "|7621faed-7db2-47f...|       0|       0|      58|     0.0|     0.0| 2024-01-01 01:33:20|  afternoon|     M| 15|           2021|                NULL|\n",
      "|7c479942-2f31-454...|     118|     139|       0|   45.91|   54.09| 2024-01-01 01:17:28|  afternoon|     M| 45|           2021|                NULL|\n",
      "|7e552a85-8e47-4b8...|       0|       0|     256|     0.0|     0.0| 2024-01-01 00:11:40|  afternoon|     M| 41|           2016|                NULL|\n",
      "|8b37dfd9-548c-4fa...|       0|       0|     256|     0.0|     0.0| 2024-01-01 00:42:07|  afternoon|     M| 45|           2020|                NULL|\n",
      "|c3104e9e-ea3d-4a4...|       0|       0|     256|     0.0|     0.0| 2024-01-01 00:12:14|  afternoon|     F| 29|           2021|                NULL|\n",
      "|d311c334-0b01-471...|       0|     256|     282|     0.0|   47.58|2024-01-01 00:58:...|  afternoon|     M| 44|           2018|                NULL|\n",
      "|e6114903-1210-486...|      92|       0|       0|   100.0|     0.0| 2024-01-01 01:27:19|  afternoon|     F| 40|           2019|(-6.1865891363998...|\n",
      "|e6114903-1210-486...|      92|       0|       0|   100.0|     0.0| 2024-01-01 01:27:19|  afternoon|     F| 40|           2019|(-6.1865891363998...|\n",
      "|e6114903-1210-486...|      92|       0|       0|   100.0|     0.0| 2024-01-01 01:27:19|  afternoon|     F| 40|           2019|(-6.1865891363998...|\n",
      "|e6114903-1210-486...|      92|       0|       0|   100.0|     0.0| 2024-01-01 01:27:19|  afternoon|     F| 40|           2019|(-6.1865891363998...|\n",
      "+--------------------+--------+--------+--------+--------+--------+--------------------+-----------+------+---+---------------+--------------------+\n",
      "only showing top 20 rows\n",
      "\n"
     ]
    }
   ],
   "source": [
    "from pyspark.sql import functions as F\n",
    "\n",
    "# Extracting customer_id from browsing sessions and add to feature_df\n",
    "try:\n",
    "    if \"geolocation\" not in feature_df.columns:\n",
    "        \n",
    "        # Joining with customer_session to get customer_id\n",
    "        customer_session_df = customer_session_df.withColumnRenamed(\"session_id\", \"session_id_link\")\n",
    "        feature_df = feature_df.join(customer_session_df, feature_df.session_id == customer_session_df.session_id_link, \"left\") \\\n",
    "                               .drop(\"session_id_link\")\n",
    "        \n",
    "        # Extracting first join year and calculate age from customer DataFrame\n",
    "        current_year = F.year(F.current_date())\n",
    "        customer_df = customer_df.withColumn(\"first_join_year\", F.year(\"first_join_date\").cast(\"string\")) \\\n",
    "                                 .withColumn(\"birth_year\", F.year(\"birthdate\")) \\\n",
    "                                 .withColumn(\"age\", F.round(current_year - F.col(\"birth_year\")).cast(\"integer\"))\n",
    "        \n",
    "        # Joining customer information with feature_df using customer_id\n",
    "        feature_df = feature_df.join(customer_df.select(\"customer_id\", \"gender\", \"age\", \"first_join_year\"), \n",
    "                                     on=\"customer_id\", \n",
    "                                     how=\"left\")\n",
    "        \n",
    "        # Joining geolocation information from transaction_df using session_id\n",
    "        geolocation_df = transaction_df.select(\"session_id\", \"shipment_location_lat\", \"shipment_location_long\") \\\n",
    "                                       .withColumnRenamed(\"shipment_location_lat\", \"latitude\") \\\n",
    "                                       .withColumnRenamed(\"shipment_location_long\", \"longitude\")\n",
    "        \n",
    "        # Combining latitude and longitude into a single geolocation column\n",
    "        geolocation_df = geolocation_df.withColumn(\"geolocation\", \n",
    "                                                   F.concat(F.lit(\"(\"), \n",
    "                                                            F.col(\"latitude\").cast(\"string\"), \n",
    "                                                            F.lit(\", \"), \n",
    "                                                            F.col(\"longitude\").cast(\"string\"), \n",
    "                                                            F.lit(\")\")))\n",
    "        \n",
    "        # Joining the geolocation column with feature_df\n",
    "        feature_df = feature_df.join(geolocation_df.select(\"session_id\", \"geolocation\"), on=\"session_id\", how=\"left\")\n",
    "        \n",
    "        # Dropping the customer_id column from feature_df\n",
    "        feature_df = feature_df.drop(\"customer_id\")\n",
    "\n",
    "except Exception as e:\n",
    "    print(f\"An error occurred during the joining process or column manipulation: {e}\")\n",
    "\n",
    "feature_df.show()"
   ]
  },
  {
   "cell_type": "code",
   "execution_count": 24,
   "metadata": {},
   "outputs": [
    {
     "name": "stdout",
     "output_type": "stream",
     "text": [
      "+--------------------+--------+--------+--------+--------+--------+--------------------+-----------+------+---+---------------+--------------------+-------------+\n",
      "|          session_id|L1_count|L2_count|L3_count|L1_ratio|L2_ratio|         medium_time|time_of_day|gender|age|first_join_year|         geolocation|num_purchases|\n",
      "+--------------------+--------+--------+--------+--------+--------+--------------------+-----------+------+---+---------------+--------------------+-------------+\n",
      "|1fda6d20-d4cb-48c...|       0|       0|     256|     0.0|     0.0| 2024-01-01 00:26:16|  afternoon|     F| 29|           2021|                NULL|            0|\n",
      "|274041ed-c121-468...|       0|     242|       0|     0.0|   100.0| 2024-01-01 00:54:46|  afternoon|     F| 22|           2021|                NULL|            0|\n",
      "|3ea3a7d8-109d-492...|       0|       0|     256|     0.0|     0.0| 2024-01-01 00:31:36|  afternoon|     F| 33|           2019|                NULL|            0|\n",
      "|5302b653-3ad2-481...|       0|       0|     256|     0.0|     0.0| 2024-01-01 00:15:04|  afternoon|     M| 19|           2021|                NULL|            0|\n",
      "|58623af3-5f8e-43b...|       0|       0|     256|     0.0|     0.0| 2024-01-01 00:09:57|  afternoon|     F| 31|           2021|                NULL|            0|\n",
      "|593a54c9-8642-4b7...|       0|     256|       0|     0.0|   100.0| 2024-01-01 00:39:31|  afternoon|     M| 26|           2020|                NULL|            0|\n",
      "|5afd5fe8-c9bf-4ba...|       0|       0|     190|     0.0|     0.0| 2024-01-01 01:04:44|  afternoon|     F| 31|           2018|                NULL|            0|\n",
      "|5d768487-5d97-4a2...|       0|       0|      66|     0.0|     0.0| 2024-01-01 01:31:50|  afternoon|     F| 32|           2019|                NULL|            0|\n",
      "|64e5d3a2-e9b4-49e...|       0|     210|       0|     0.0|   100.0| 2024-01-01 00:59:19|  afternoon|     M| 26|           2021|                NULL|            0|\n",
      "|7028e5ef-6420-4be...|       0|       0|     380|     0.0|     0.0|2024-01-01 00:44:...|  afternoon|     F| 43|           2018|                NULL|            0|\n",
      "|7621faed-7db2-47f...|       0|       0|      58|     0.0|     0.0| 2024-01-01 01:33:20|  afternoon|     M| 15|           2021|                NULL|            0|\n",
      "|7c479942-2f31-454...|     118|     139|       0|   45.91|   54.09| 2024-01-01 01:17:28|  afternoon|     M| 45|           2021|                NULL|            0|\n",
      "|7e552a85-8e47-4b8...|       0|       0|     256|     0.0|     0.0| 2024-01-01 00:11:40|  afternoon|     M| 41|           2016|                NULL|            0|\n",
      "|8b37dfd9-548c-4fa...|       0|       0|     256|     0.0|     0.0| 2024-01-01 00:42:07|  afternoon|     M| 45|           2020|                NULL|            0|\n",
      "|c3104e9e-ea3d-4a4...|       0|       0|     256|     0.0|     0.0| 2024-01-01 00:12:14|  afternoon|     F| 29|           2021|                NULL|            0|\n",
      "|d311c334-0b01-471...|       0|     256|     282|     0.0|   47.58|2024-01-01 00:58:...|  afternoon|     M| 44|           2018|                NULL|            0|\n",
      "|e6114903-1210-486...|      92|       0|       0|   100.0|     0.0| 2024-01-01 01:27:19|  afternoon|     F| 40|           2019|(-6.1865891363998...|          192|\n",
      "|e6114903-1210-486...|      92|       0|       0|   100.0|     0.0| 2024-01-01 01:27:19|  afternoon|     F| 40|           2019|(-6.1865891363998...|          192|\n",
      "|e6114903-1210-486...|      92|       0|       0|   100.0|     0.0| 2024-01-01 01:27:19|  afternoon|     F| 40|           2019|(-6.1865891363998...|          192|\n",
      "|e6114903-1210-486...|      92|       0|       0|   100.0|     0.0| 2024-01-01 01:27:19|  afternoon|     F| 40|           2019|(-6.1865891363998...|          192|\n",
      "+--------------------+--------+--------+--------+--------+--------+--------------------+-----------+------+---+---------------+--------------------+-------------+\n",
      "only showing top 20 rows\n",
      "\n"
     ]
    }
   ],
   "source": [
    "from pyspark.sql import functions as F\n",
    "\n",
    "# Extracting customer_id from browsing sessions and add to feature_df\n",
    "try:\n",
    "    if \"num_purchases\" not in feature_df.columns:\n",
    "        \n",
    "        # Joining with customer_session to get customer_id\n",
    "        customer_session_df = customer_session_df.withColumnRenamed(\"session_id\", \"session_id_link\")\n",
    "        feature_df = feature_df.join(customer_session_df, feature_df.session_id == customer_session_df.session_id_link, \"left\") \\\n",
    "                               .drop(\"session_id_link\")\n",
    "\n",
    "        # Counting the number of purchases per customer using transactions_df\n",
    "        purchase_counts = transaction_df.groupBy(\"customer_id\").agg(\n",
    "            F.count(\"transaction_id\").alias(\"num_purchases\")\n",
    "        )\n",
    "\n",
    "        # Joining the purchase count with feature_df using customer_id\n",
    "        feature_df = feature_df.join(purchase_counts, on=\"customer_id\", how=\"left\")\n",
    "\n",
    "        # Filling any missing values in num_purchases with 0 (for customers with no recorded purchases)\n",
    "        feature_df = feature_df.fillna({\"num_purchases\": 0})\n",
    "\n",
    "        # Dropping the customer_id column from feature_df\n",
    "        feature_df = feature_df.drop(\"customer_id\")\n",
    "\n",
    "except Exception as e:\n",
    "    print(f\"An error occurred during the join or while manipulating 'num_purchases': {e}\")\n",
    "\n",
    "feature_df.show()"
   ]
  },
  {
   "cell_type": "code",
   "execution_count": 25,
   "metadata": {},
   "outputs": [
    {
     "name": "stdout",
     "output_type": "stream",
     "text": [
      "+--------------------+--------+--------+--------+--------+--------+--------------------+-----------+------+---+---------------+--------------------+-------------+--------+\n",
      "|          session_id|L1_count|L2_count|L3_count|L1_ratio|L2_ratio|         medium_time|time_of_day|gender|age|first_join_year|         geolocation|num_purchases|is_fraud|\n",
      "+--------------------+--------+--------+--------+--------+--------+--------------------+-----------+------+---+---------------+--------------------+-------------+--------+\n",
      "|1fda6d20-d4cb-48c...|       0|       0|     256|     0.0|     0.0| 2024-01-01 00:26:16|  afternoon|     F| 29|           2021|                NULL|            0|    NULL|\n",
      "|274041ed-c121-468...|       0|     242|       0|     0.0|   100.0| 2024-01-01 00:54:46|  afternoon|     F| 22|           2021|                NULL|            0|    NULL|\n",
      "|3ea3a7d8-109d-492...|       0|       0|     256|     0.0|     0.0| 2024-01-01 00:31:36|  afternoon|     F| 33|           2019|                NULL|            0|    NULL|\n",
      "|5302b653-3ad2-481...|       0|       0|     256|     0.0|     0.0| 2024-01-01 00:15:04|  afternoon|     M| 19|           2021|                NULL|            0|    NULL|\n",
      "|58623af3-5f8e-43b...|       0|       0|     256|     0.0|     0.0| 2024-01-01 00:09:57|  afternoon|     F| 31|           2021|                NULL|            0|    NULL|\n",
      "|593a54c9-8642-4b7...|       0|     256|       0|     0.0|   100.0| 2024-01-01 00:39:31|  afternoon|     M| 26|           2020|                NULL|            0|    NULL|\n",
      "|5afd5fe8-c9bf-4ba...|       0|       0|     190|     0.0|     0.0| 2024-01-01 01:04:44|  afternoon|     F| 31|           2018|                NULL|            0|    NULL|\n",
      "|5d768487-5d97-4a2...|       0|       0|      66|     0.0|     0.0| 2024-01-01 01:31:50|  afternoon|     F| 32|           2019|                NULL|            0|    NULL|\n",
      "|64e5d3a2-e9b4-49e...|       0|     210|       0|     0.0|   100.0| 2024-01-01 00:59:19|  afternoon|     M| 26|           2021|                NULL|            0|    NULL|\n",
      "|7028e5ef-6420-4be...|       0|       0|     380|     0.0|     0.0|2024-01-01 00:44:...|  afternoon|     F| 43|           2018|                NULL|            0|    NULL|\n",
      "|7621faed-7db2-47f...|       0|       0|      58|     0.0|     0.0| 2024-01-01 01:33:20|  afternoon|     M| 15|           2021|                NULL|            0|    NULL|\n",
      "|7c479942-2f31-454...|     118|     139|       0|   45.91|   54.09| 2024-01-01 01:17:28|  afternoon|     M| 45|           2021|                NULL|            0|    NULL|\n",
      "|7e552a85-8e47-4b8...|       0|       0|     256|     0.0|     0.0| 2024-01-01 00:11:40|  afternoon|     M| 41|           2016|                NULL|            0|    NULL|\n",
      "|8b37dfd9-548c-4fa...|       0|       0|     256|     0.0|     0.0| 2024-01-01 00:42:07|  afternoon|     M| 45|           2020|                NULL|            0|    NULL|\n",
      "|c3104e9e-ea3d-4a4...|       0|       0|     256|     0.0|     0.0| 2024-01-01 00:12:14|  afternoon|     F| 29|           2021|                NULL|            0|    NULL|\n",
      "|d311c334-0b01-471...|       0|     256|     282|     0.0|   47.58|2024-01-01 00:58:...|  afternoon|     M| 44|           2018|                NULL|            0|    NULL|\n",
      "|e6114903-1210-486...|      92|       0|       0|   100.0|     0.0| 2024-01-01 01:27:19|  afternoon|     F| 40|           2019|(-6.1865891363998...|          192|   false|\n",
      "|e6114903-1210-486...|      92|       0|       0|   100.0|     0.0| 2024-01-01 01:27:19|  afternoon|     F| 40|           2019|(-6.1865891363998...|          192|   false|\n",
      "|e6114903-1210-486...|      92|       0|       0|   100.0|     0.0| 2024-01-01 01:27:19|  afternoon|     F| 40|           2019|(-6.1865891363998...|          192|   false|\n",
      "|e6114903-1210-486...|      92|       0|       0|   100.0|     0.0| 2024-01-01 01:27:19|  afternoon|     F| 40|           2019|(-6.1865891363998...|          192|   false|\n",
      "+--------------------+--------+--------+--------+--------+--------+--------------------+-----------+------+---+---------------+--------------------+-------------+--------+\n",
      "only showing top 20 rows\n",
      "\n"
     ]
    }
   ],
   "source": [
    "from pyspark.sql import functions as F\n",
    "\n",
    "# Attaching fraud labels to transactions and join with feature_df\n",
    "try:\n",
    "    if \"is_fraud\" not in feature_df.columns:\n",
    "        \n",
    "        # Joining transactions_df with fraud_transaction_df to attach fraud labels\n",
    "        transactions_with_fraud = transaction_df.join(fraud_transaction_df, \"transaction_id\", \"left\") \\\n",
    "                                                .withColumn(\"is_fraud\", F.when(F.col(\"is_fraud\").isNull(), False).otherwise(True))\n",
    "\n",
    "        # Joining transactions_with_fraud with feature_df using session_id\n",
    "        feature_df = feature_df.join(transactions_with_fraud.select(\"session_id\", \"is_fraud\").distinct(), \n",
    "                                     on=\"session_id\", \n",
    "                                     how=\"left\")\n",
    "\n",
    "except Exception as e:\n",
    "    print(f\"An error occurred during the join or while attaching the 'is_fraud' label: {e}\")\n",
    "\n",
    "feature_df.show()"
   ]
  },
  {
   "cell_type": "code",
   "execution_count": 26,
   "metadata": {},
   "outputs": [
    {
     "name": "stdout",
     "output_type": "stream",
     "text": [
      "+--------------------+--------+--------+--------+--------+--------+--------------------+-----------+------+---+---------------+--------------------+-------------+--------+------------+\n",
      "|          session_id|L1_count|L2_count|L3_count|L1_ratio|L2_ratio|         medium_time|time_of_day|gender|age|first_join_year|         geolocation|num_purchases|is_fraud|is_fraud_int|\n",
      "+--------------------+--------+--------+--------+--------+--------+--------------------+-----------+------+---+---------------+--------------------+-------------+--------+------------+\n",
      "|1fda6d20-d4cb-48c...|       0|       0|     256|     0.0|     0.0| 2024-01-01 00:26:16|  afternoon|     F| 29|           2021|                NULL|            0|    NULL|           0|\n",
      "|274041ed-c121-468...|       0|     242|       0|     0.0|   100.0| 2024-01-01 00:54:46|  afternoon|     F| 22|           2021|                NULL|            0|    NULL|           0|\n",
      "|3ea3a7d8-109d-492...|       0|       0|     256|     0.0|     0.0| 2024-01-01 00:31:36|  afternoon|     F| 33|           2019|                NULL|            0|    NULL|           0|\n",
      "|5302b653-3ad2-481...|       0|       0|     256|     0.0|     0.0| 2024-01-01 00:15:04|  afternoon|     M| 19|           2021|                NULL|            0|    NULL|           0|\n",
      "|58623af3-5f8e-43b...|       0|       0|     256|     0.0|     0.0| 2024-01-01 00:09:57|  afternoon|     F| 31|           2021|                NULL|            0|    NULL|           0|\n",
      "|593a54c9-8642-4b7...|       0|     256|       0|     0.0|   100.0| 2024-01-01 00:39:31|  afternoon|     M| 26|           2020|                NULL|            0|    NULL|           0|\n",
      "|5afd5fe8-c9bf-4ba...|       0|       0|     190|     0.0|     0.0| 2024-01-01 01:04:44|  afternoon|     F| 31|           2018|                NULL|            0|    NULL|           0|\n",
      "|5d768487-5d97-4a2...|       0|       0|      66|     0.0|     0.0| 2024-01-01 01:31:50|  afternoon|     F| 32|           2019|                NULL|            0|    NULL|           0|\n",
      "|64e5d3a2-e9b4-49e...|       0|     210|       0|     0.0|   100.0| 2024-01-01 00:59:19|  afternoon|     M| 26|           2021|                NULL|            0|    NULL|           0|\n",
      "|7028e5ef-6420-4be...|       0|       0|     380|     0.0|     0.0|2024-01-01 00:44:...|  afternoon|     F| 43|           2018|                NULL|            0|    NULL|           0|\n",
      "|7621faed-7db2-47f...|       0|       0|      58|     0.0|     0.0| 2024-01-01 01:33:20|  afternoon|     M| 15|           2021|                NULL|            0|    NULL|           0|\n",
      "|7c479942-2f31-454...|     118|     139|       0|   45.91|   54.09| 2024-01-01 01:17:28|  afternoon|     M| 45|           2021|                NULL|            0|    NULL|           0|\n",
      "|7e552a85-8e47-4b8...|       0|       0|     256|     0.0|     0.0| 2024-01-01 00:11:40|  afternoon|     M| 41|           2016|                NULL|            0|    NULL|           0|\n",
      "|8b37dfd9-548c-4fa...|       0|       0|     256|     0.0|     0.0| 2024-01-01 00:42:07|  afternoon|     M| 45|           2020|                NULL|            0|    NULL|           0|\n",
      "|c3104e9e-ea3d-4a4...|       0|       0|     256|     0.0|     0.0| 2024-01-01 00:12:14|  afternoon|     F| 29|           2021|                NULL|            0|    NULL|           0|\n",
      "|d311c334-0b01-471...|       0|     256|     282|     0.0|   47.58|2024-01-01 00:58:...|  afternoon|     M| 44|           2018|                NULL|            0|    NULL|           0|\n",
      "|e6114903-1210-486...|      92|       0|       0|   100.0|     0.0| 2024-01-01 01:27:19|  afternoon|     F| 40|           2019|(-6.1865891363998...|          192|   false|           0|\n",
      "|e6114903-1210-486...|      92|       0|       0|   100.0|     0.0| 2024-01-01 01:27:19|  afternoon|     F| 40|           2019|(-6.1865891363998...|          192|   false|           0|\n",
      "|e6114903-1210-486...|      92|       0|       0|   100.0|     0.0| 2024-01-01 01:27:19|  afternoon|     F| 40|           2019|(-6.1865891363998...|          192|   false|           0|\n",
      "|e6114903-1210-486...|      92|       0|       0|   100.0|     0.0| 2024-01-01 01:27:19|  afternoon|     F| 40|           2019|(-6.1865891363998...|          192|   false|           0|\n",
      "+--------------------+--------+--------+--------+--------+--------+--------------------+-----------+------+---+---------------+--------------------+-------------+--------+------------+\n",
      "only showing top 20 rows\n",
      "\n"
     ]
    }
   ],
   "source": [
    "from pyspark.sql.functions import expr\n",
    "\n",
    "# Converting Boolean to Integer for Label Column\n",
    "feature_df = feature_df.withColumn(\"is_fraud_int\", expr(\"CASE WHEN is_fraud = 'True' THEN 1 ELSE 0 END\"))\n",
    "feature_df.show()"
   ]
  },
  {
   "cell_type": "code",
   "execution_count": 27,
   "metadata": {},
   "outputs": [
    {
     "name": "stdout",
     "output_type": "stream",
     "text": [
      "+--------------------+--------+--------+--------+--------+--------+-------------------+-----------+------+---+---------------+-----------+-------------+--------+------------+----------+-------------------+\n",
      "|          session_id|L1_count|L2_count|L3_count|L1_ratio|L2_ratio|        medium_time|time_of_day|gender|age|first_join_year|geolocation|num_purchases|is_fraud|is_fraud_int|        ts|           event_ts|\n",
      "+--------------------+--------+--------+--------+--------+--------+-------------------+-----------+------+---+---------------+-----------+-------------+--------+------------+----------+-------------------+\n",
      "|1fda6d20-d4cb-48c...|       0|       0|     256|     0.0|     0.0|2024-01-01 00:26:16|  afternoon|     F| 29|           2021|       NULL|            0|    NULL|           0|1728813960|2024-10-13 21:06:00|\n",
      "|1fda6d20-d4cb-48c...|       0|       0|     256|     0.0|     0.0|2024-01-01 00:26:16|  afternoon|     F| 29|           2021|       NULL|            0|    NULL|           0|1728813955|2024-10-13 21:05:55|\n",
      "|1fda6d20-d4cb-48c...|       0|       0|     256|     0.0|     0.0|2024-01-01 00:26:16|  afternoon|     F| 29|           2021|       NULL|            0|    NULL|           0|1728814980|2024-10-13 21:23:00|\n",
      "|1fda6d20-d4cb-48c...|       0|       0|     256|     0.0|     0.0|2024-01-01 00:26:16|  afternoon|     F| 29|           2021|       NULL|            0|    NULL|           0|1728814975|2024-10-13 21:22:55|\n",
      "|1fda6d20-d4cb-48c...|       0|       0|     256|     0.0|     0.0|2024-01-01 00:26:16|  afternoon|     F| 29|           2021|       NULL|            0|    NULL|           0|1728814970|2024-10-13 21:22:50|\n",
      "|1fda6d20-d4cb-48c...|       0|       0|     256|     0.0|     0.0|2024-01-01 00:26:16|  afternoon|     F| 29|           2021|       NULL|            0|    NULL|           0|1728814964|2024-10-13 21:22:44|\n",
      "|1fda6d20-d4cb-48c...|       0|       0|     256|     0.0|     0.0|2024-01-01 00:26:16|  afternoon|     F| 29|           2021|       NULL|            0|    NULL|           0|1728814958|2024-10-13 21:22:38|\n",
      "|1fda6d20-d4cb-48c...|       0|       0|     256|     0.0|     0.0|2024-01-01 00:26:16|  afternoon|     F| 29|           2021|       NULL|            0|    NULL|           0|1728814952|2024-10-13 21:22:32|\n",
      "|1fda6d20-d4cb-48c...|       0|       0|     256|     0.0|     0.0|2024-01-01 00:26:16|  afternoon|     F| 29|           2021|       NULL|            0|    NULL|           0|1728815488|2024-10-13 21:31:28|\n",
      "|1fda6d20-d4cb-48c...|       0|       0|     256|     0.0|     0.0|2024-01-01 00:26:16|  afternoon|     F| 29|           2021|       NULL|            0|    NULL|           0|1728815483|2024-10-13 21:31:23|\n",
      "|1fda6d20-d4cb-48c...|       0|       0|     256|     0.0|     0.0|2024-01-01 00:26:16|  afternoon|     F| 29|           2021|       NULL|            0|    NULL|           0|1728815477|2024-10-13 21:31:17|\n",
      "|1fda6d20-d4cb-48c...|       0|       0|     256|     0.0|     0.0|2024-01-01 00:26:16|  afternoon|     F| 29|           2021|       NULL|            0|    NULL|           0|1728814227|2024-10-13 21:10:27|\n",
      "|1fda6d20-d4cb-48c...|       0|       0|     256|     0.0|     0.0|2024-01-01 00:26:16|  afternoon|     F| 29|           2021|       NULL|            0|    NULL|           0|1728814222|2024-10-13 21:10:22|\n",
      "|1fda6d20-d4cb-48c...|       0|       0|     256|     0.0|     0.0|2024-01-01 00:26:16|  afternoon|     F| 29|           2021|       NULL|            0|    NULL|           0|1728814217|2024-10-13 21:10:17|\n",
      "|1fda6d20-d4cb-48c...|       0|       0|     256|     0.0|     0.0|2024-01-01 00:26:16|  afternoon|     F| 29|           2021|       NULL|            0|    NULL|           0|1728814210|2024-10-13 21:10:10|\n",
      "|1fda6d20-d4cb-48c...|       0|       0|     256|     0.0|     0.0|2024-01-01 00:26:16|  afternoon|     F| 29|           2021|       NULL|            0|    NULL|           0|1728814205|2024-10-13 21:10:05|\n",
      "|1fda6d20-d4cb-48c...|       0|       0|     256|     0.0|     0.0|2024-01-01 00:26:16|  afternoon|     F| 29|           2021|       NULL|            0|    NULL|           0|1728814378|2024-10-13 21:12:58|\n",
      "|1fda6d20-d4cb-48c...|       0|       0|     256|     0.0|     0.0|2024-01-01 00:26:16|  afternoon|     F| 29|           2021|       NULL|            0|    NULL|           0|1728814373|2024-10-13 21:12:53|\n",
      "|1fda6d20-d4cb-48c...|       0|       0|     256|     0.0|     0.0|2024-01-01 00:26:16|  afternoon|     F| 29|           2021|       NULL|            0|    NULL|           0|1728814367|2024-10-13 21:12:47|\n",
      "|1fda6d20-d4cb-48c...|       0|       0|     256|     0.0|     0.0|2024-01-01 00:26:16|  afternoon|     F| 29|           2021|       NULL|            0|    NULL|           0|1728814361|2024-10-13 21:12:41|\n",
      "+--------------------+--------+--------+--------+--------+--------+-------------------+-----------+------+---+---------------+-----------+-------------+--------+------------+----------+-------------------+\n",
      "only showing top 20 rows\n",
      "\n"
     ]
    }
   ],
   "source": [
    "# Add event_ts column from browsing_behaviour_df to feature_df\n",
    "feature_df = feature_df.join(\n",
    "    browsing_behaviour_df.select(\"session_id\", \"ts\", \"event_ts\"),\n",
    "    on=\"session_id\",\n",
    "    how=\"left\"\n",
    ")\n",
    "\n",
    "# Show the final DataFrame\n",
    "feature_df.show()"
   ]
  },
  {
   "cell_type": "code",
   "execution_count": 28,
   "metadata": {},
   "outputs": [
    {
     "name": "stdout",
     "output_type": "stream",
     "text": [
      "root\n",
      " |-- session_id: string (nullable = true)\n",
      " |-- L1_count: long (nullable = true)\n",
      " |-- L2_count: long (nullable = true)\n",
      " |-- L3_count: long (nullable = true)\n",
      " |-- L1_ratio: double (nullable = true)\n",
      " |-- L2_ratio: double (nullable = true)\n",
      " |-- medium_time: timestamp (nullable = true)\n",
      " |-- time_of_day: string (nullable = true)\n",
      " |-- gender: string (nullable = true)\n",
      " |-- age: integer (nullable = true)\n",
      " |-- first_join_year: string (nullable = true)\n",
      " |-- geolocation: string (nullable = true)\n",
      " |-- num_purchases: long (nullable = false)\n",
      " |-- is_fraud: boolean (nullable = true)\n",
      " |-- is_fraud_int: integer (nullable = false)\n",
      " |-- ts: integer (nullable = true)\n",
      " |-- event_ts: timestamp (nullable = true)\n",
      "\n"
     ]
    }
   ],
   "source": [
    "feature_df.printSchema()"
   ]
  },
  {
   "cell_type": "markdown",
   "metadata": {},
   "source": [
    "### 6.\tThe company is interested in the number of potential frauds as they happen and the products in customers’ shopping carts (so that they can plan their stock level ahead.) Load your ML model, and use the model to predict/process each browsing session/transaction as follows:  \n",
    "a)\tEvery 10 seconds, show the total number of potential frauds (prediction = 1) in the last 2 minutes, and persist the raw data (see 7a).  \n",
    "b)\tEvery 30 seconds, find the top 20 products (order by quantity descending) in the last 30 seconds, show product ID, name and total quantity. We only need the non-fraud transactions (prediction=0) by extracting customer shopping cart details (sum of all items of ADD_TO_CART(ATC) events from browsing behaviour, you can also extract it from transactions)."
   ]
  },
  {
   "cell_type": "code",
   "execution_count": 29,
   "metadata": {},
   "outputs": [],
   "source": [
    "# Load the pre-trained Random Forest model\n",
    "model_path = \"best_rf_model\"\n",
    "loaded_rf_model = PipelineModel.load(model_path)\n",
    "\n",
    "# Example to show how to use it in streaming\n",
    "predictions = loaded_rf_model.transform(feature_df)"
   ]
  },
  {
   "cell_type": "code",
   "execution_count": 30,
   "metadata": {},
   "outputs": [],
   "source": [
    "# 6a\n",
    "from pyspark.sql.functions import col, window, count\n",
    "\n",
    "# Filtering for potential frauds (prediction = 1)\n",
    "fraud_df = predictions.filter(col('rf_prediction') == 1)\n",
    "\n",
    "# Show total number of potential frauds per session_id every 10 seconds in the last 2 minutes\n",
    "fraud_count = fraud_df \\\n",
    "    .groupBy(\"session_id\", window(col(\"event_ts\"), \"2 minutes\", \"10 seconds\")) \\\n",
    "    .count() \\\n",
    "    .select(\"session_id\", \"window\", \"count\")"
   ]
  },
  {
   "cell_type": "code",
   "execution_count": 31,
   "metadata": {},
   "outputs": [
    {
     "name": "stdout",
     "output_type": "stream",
     "text": [
      "+------------------------------------+------------------------------------------+-----+\n",
      "|session_id                          |window                                    |count|\n",
      "+------------------------------------+------------------------------------------+-----+\n",
      "|135d09b6-2ee3-40e2-b08f-f7fb61fbf480|{2024-10-13 21:50:00, 2024-10-13 21:52:00}|5    |\n",
      "|206852b6-dc65-438f-8aae-11dd2c40de50|{2024-10-13 21:22:00, 2024-10-13 21:24:00}|2    |\n",
      "|206852b6-dc65-438f-8aae-11dd2c40de50|{2024-10-13 21:20:00, 2024-10-13 21:22:00}|4    |\n",
      "|24aeaee0-4a0e-4c41-ab1e-d98f98323058|{2024-10-13 21:22:00, 2024-10-13 21:24:00}|186  |\n",
      "|24aeaee0-4a0e-4c41-ab1e-d98f98323058|{2024-10-13 21:20:50, 2024-10-13 21:22:50}|62   |\n",
      "|24aeaee0-4a0e-4c41-ab1e-d98f98323058|{2024-10-13 21:13:30, 2024-10-13 21:15:30}|310  |\n",
      "|470a2012-8e1c-4d30-93a0-97c18dffb4d1|{2024-10-13 21:25:10, 2024-10-13 21:27:10}|40   |\n",
      "|71af3c94-6edb-4b26-8eee-6e67a500911d|{2024-10-13 21:26:10, 2024-10-13 21:28:10}|205  |\n",
      "|71af3c94-6edb-4b26-8eee-6e67a500911d|{2024-10-13 21:14:20, 2024-10-13 21:16:20}|164  |\n",
      "|78db91b2-b13f-4a13-aa8c-7198f1f49fc8|{2024-10-13 21:18:00, 2024-10-13 21:20:00}|21   |\n",
      "|78db91b2-b13f-4a13-aa8c-7198f1f49fc8|{2024-10-13 21:26:50, 2024-10-13 21:28:50}|18   |\n",
      "|7f124ce0-683c-46e2-b580-6d5a2bd44708|{2024-10-13 21:11:50, 2024-10-13 21:13:50}|9    |\n",
      "|7f124ce0-683c-46e2-b580-6d5a2bd44708|{2024-10-13 21:19:50, 2024-10-13 21:21:50}|13   |\n",
      "|996963ca-3209-4954-8ca9-c4a3e081fdc7|{2024-10-13 21:18:50, 2024-10-13 21:20:50}|5565 |\n",
      "|9ca002c7-fa1b-415a-9909-7f79434766dc|{2024-10-13 21:17:10, 2024-10-13 21:19:10}|21   |\n",
      "|aee50500-e67d-4cf3-8b70-983dea9a4ea6|{2024-10-13 21:31:00, 2024-10-13 21:33:00}|795  |\n",
      "|af9fe755-10d3-4373-a486-7a142fba8e30|{2024-10-13 21:11:20, 2024-10-13 21:13:20}|22   |\n",
      "|af9fe755-10d3-4373-a486-7a142fba8e30|{2024-10-13 21:49:40, 2024-10-13 21:51:40}|9    |\n",
      "|af9fe755-10d3-4373-a486-7a142fba8e30|{2024-10-13 21:14:30, 2024-10-13 21:16:30}|22   |\n",
      "|ba887f2a-758f-429c-9d7d-36bbf23deb8d|{2024-10-13 21:27:50, 2024-10-13 21:29:50}|1792 |\n",
      "+------------------------------------+------------------------------------------+-----+\n",
      "only showing top 20 rows\n",
      "\n"
     ]
    }
   ],
   "source": [
    "# Show the fraud count \n",
    "fraud_count.show(truncate=False)"
   ]
  },
  {
   "cell_type": "code",
   "execution_count": 32,
   "metadata": {},
   "outputs": [
    {
     "name": "stdout",
     "output_type": "stream",
     "text": [
      "root\n",
      " |-- product_id: integer (nullable = true)\n",
      " |-- productDisplayName: string (nullable = true)\n",
      " |-- total_quantity: long (nullable = true)\n",
      "\n"
     ]
    }
   ],
   "source": [
    "# 6b\n",
    "from pyspark.sql.functions import col, sum\n",
    "\n",
    "# Filter non-fraud transactions (where prediction = 0)\n",
    "non_fraud_transactions = predictions.filter(col('rf_prediction') == 0)\n",
    "\n",
    "# Join with transactions_joined on session_id, keeping only product details from transactions_joined\n",
    "non_fraud_with_product_details = non_fraud_transactions.join(\n",
    "    transaction_df.select(\"session_id\", \"product_id\", \"productDisplayName\", \"quantity\"),  # Ensuring product_id is included\n",
    "    on=\"session_id\",\n",
    "    how=\"inner\"\n",
    ")\n",
    "\n",
    "# Join browsing behavior to get the event_type\n",
    "non_fraud_with_product_details = non_fraud_with_product_details.join(\n",
    "    browsing_behaviour_df.select(\"session_id\", \"event_type\"),  # Ensure session_id and event_type are included\n",
    "    on=\"session_id\",\n",
    "    how=\"inner\"\n",
    ")\n",
    "\n",
    "# Ensure 'event_ts' is properly handled, renaming it to avoid ambiguity if necessary\n",
    "non_fraud_with_product_details = non_fraud_with_product_details.withColumnRenamed(\"event_ts\", \"non_fraud_event_ts\")\n",
    "\n",
    "# Extract product details for each ADD_TO_CART (ATC) event\n",
    "product_sales = non_fraud_with_product_details.filter(col('event_type') == 'ATC')\n",
    "\n",
    "# Group by distinct product_id and productDisplayName for each 30-second window\n",
    "top_products = product_sales.groupBy(window(col(\"non_fraud_event_ts\"), \"30 seconds\"), \"product_id\", \"productDisplayName\") \\\n",
    "    .agg(sum(\"quantity\").alias(\"total_quantity\")) \\\n",
    "    .orderBy(col(\"total_quantity\").desc()) \\\n",
    "    .select(\"product_id\", \"productDisplayName\", \"total_quantity\") \\\n",
    "    .limit(20)  # Limit to top 20 products\n",
    "\n",
    "# Print the schema to verify the structure\n",
    "top_products.printSchema()\n"
   ]
  },
  {
   "cell_type": "code",
   "execution_count": 33,
   "metadata": {},
   "outputs": [
    {
     "name": "stderr",
     "output_type": "stream",
     "text": [
      "ERROR:root:KeyboardInterrupt while sending command.\n",
      "Traceback (most recent call last):\n",
      "  File \"/opt/conda/lib/python3.10/site-packages/py4j/java_gateway.py\", line 1038, in send_command\n",
      "    response = connection.send_command(command)\n",
      "  File \"/opt/conda/lib/python3.10/site-packages/py4j/clientserver.py\", line 511, in send_command\n",
      "    answer = smart_decode(self.stream.readline()[:-1])\n",
      "  File \"/opt/conda/lib/python3.10/socket.py\", line 705, in readinto\n",
      "    return self._sock.recv_into(b)\n",
      "KeyboardInterrupt\n"
     ]
    },
    {
     "ename": "KeyboardInterrupt",
     "evalue": "",
     "output_type": "error",
     "traceback": [
      "\u001b[0;31m---------------------------------------------------------------------------\u001b[0m",
      "\u001b[0;31mKeyboardInterrupt\u001b[0m                         Traceback (most recent call last)",
      "Cell \u001b[0;32mIn[33], line 2\u001b[0m\n\u001b[1;32m      1\u001b[0m \u001b[38;5;66;03m# Show the Top Products\u001b[39;00m\n\u001b[0;32m----> 2\u001b[0m \u001b[43mtop_products\u001b[49m\u001b[38;5;241;43m.\u001b[39;49m\u001b[43mshow\u001b[49m\u001b[43m(\u001b[49m\u001b[43mtruncate\u001b[49m\u001b[38;5;241;43m=\u001b[39;49m\u001b[38;5;28;43;01mFalse\u001b[39;49;00m\u001b[43m)\u001b[49m\n",
      "File \u001b[0;32m/opt/conda/lib/python3.10/site-packages/pyspark/sql/dataframe.py:972\u001b[0m, in \u001b[0;36mDataFrame.show\u001b[0;34m(self, n, truncate, vertical)\u001b[0m\n\u001b[1;32m    963\u001b[0m \u001b[38;5;28;01mexcept\u001b[39;00m \u001b[38;5;167;01mValueError\u001b[39;00m:\n\u001b[1;32m    964\u001b[0m     \u001b[38;5;28;01mraise\u001b[39;00m PySparkTypeError(\n\u001b[1;32m    965\u001b[0m         error_class\u001b[38;5;241m=\u001b[39m\u001b[38;5;124m\"\u001b[39m\u001b[38;5;124mNOT_BOOL\u001b[39m\u001b[38;5;124m\"\u001b[39m,\n\u001b[1;32m    966\u001b[0m         message_parameters\u001b[38;5;241m=\u001b[39m{\n\u001b[0;32m   (...)\u001b[0m\n\u001b[1;32m    969\u001b[0m         },\n\u001b[1;32m    970\u001b[0m     )\n\u001b[0;32m--> 972\u001b[0m \u001b[38;5;28mprint\u001b[39m(\u001b[38;5;28;43mself\u001b[39;49m\u001b[38;5;241;43m.\u001b[39;49m\u001b[43m_jdf\u001b[49m\u001b[38;5;241;43m.\u001b[39;49m\u001b[43mshowString\u001b[49m\u001b[43m(\u001b[49m\u001b[43mn\u001b[49m\u001b[43m,\u001b[49m\u001b[43m \u001b[49m\u001b[43mint_truncate\u001b[49m\u001b[43m,\u001b[49m\u001b[43m \u001b[49m\u001b[43mvertical\u001b[49m\u001b[43m)\u001b[49m)\n",
      "File \u001b[0;32m/opt/conda/lib/python3.10/site-packages/py4j/java_gateway.py:1321\u001b[0m, in \u001b[0;36mJavaMember.__call__\u001b[0;34m(self, *args)\u001b[0m\n\u001b[1;32m   1314\u001b[0m args_command, temp_args \u001b[38;5;241m=\u001b[39m \u001b[38;5;28mself\u001b[39m\u001b[38;5;241m.\u001b[39m_build_args(\u001b[38;5;241m*\u001b[39margs)\n\u001b[1;32m   1316\u001b[0m command \u001b[38;5;241m=\u001b[39m proto\u001b[38;5;241m.\u001b[39mCALL_COMMAND_NAME \u001b[38;5;241m+\u001b[39m\\\n\u001b[1;32m   1317\u001b[0m     \u001b[38;5;28mself\u001b[39m\u001b[38;5;241m.\u001b[39mcommand_header \u001b[38;5;241m+\u001b[39m\\\n\u001b[1;32m   1318\u001b[0m     args_command \u001b[38;5;241m+\u001b[39m\\\n\u001b[1;32m   1319\u001b[0m     proto\u001b[38;5;241m.\u001b[39mEND_COMMAND_PART\n\u001b[0;32m-> 1321\u001b[0m answer \u001b[38;5;241m=\u001b[39m \u001b[38;5;28;43mself\u001b[39;49m\u001b[38;5;241;43m.\u001b[39;49m\u001b[43mgateway_client\u001b[49m\u001b[38;5;241;43m.\u001b[39;49m\u001b[43msend_command\u001b[49m\u001b[43m(\u001b[49m\u001b[43mcommand\u001b[49m\u001b[43m)\u001b[49m\n\u001b[1;32m   1322\u001b[0m return_value \u001b[38;5;241m=\u001b[39m get_return_value(\n\u001b[1;32m   1323\u001b[0m     answer, \u001b[38;5;28mself\u001b[39m\u001b[38;5;241m.\u001b[39mgateway_client, \u001b[38;5;28mself\u001b[39m\u001b[38;5;241m.\u001b[39mtarget_id, \u001b[38;5;28mself\u001b[39m\u001b[38;5;241m.\u001b[39mname)\n\u001b[1;32m   1325\u001b[0m \u001b[38;5;28;01mfor\u001b[39;00m temp_arg \u001b[38;5;129;01min\u001b[39;00m temp_args:\n",
      "File \u001b[0;32m/opt/conda/lib/python3.10/site-packages/py4j/java_gateway.py:1038\u001b[0m, in \u001b[0;36mGatewayClient.send_command\u001b[0;34m(self, command, retry, binary)\u001b[0m\n\u001b[1;32m   1036\u001b[0m connection \u001b[38;5;241m=\u001b[39m \u001b[38;5;28mself\u001b[39m\u001b[38;5;241m.\u001b[39m_get_connection()\n\u001b[1;32m   1037\u001b[0m \u001b[38;5;28;01mtry\u001b[39;00m:\n\u001b[0;32m-> 1038\u001b[0m     response \u001b[38;5;241m=\u001b[39m \u001b[43mconnection\u001b[49m\u001b[38;5;241;43m.\u001b[39;49m\u001b[43msend_command\u001b[49m\u001b[43m(\u001b[49m\u001b[43mcommand\u001b[49m\u001b[43m)\u001b[49m\n\u001b[1;32m   1039\u001b[0m     \u001b[38;5;28;01mif\u001b[39;00m binary:\n\u001b[1;32m   1040\u001b[0m         \u001b[38;5;28;01mreturn\u001b[39;00m response, \u001b[38;5;28mself\u001b[39m\u001b[38;5;241m.\u001b[39m_create_connection_guard(connection)\n",
      "File \u001b[0;32m/opt/conda/lib/python3.10/site-packages/py4j/clientserver.py:511\u001b[0m, in \u001b[0;36mClientServerConnection.send_command\u001b[0;34m(self, command)\u001b[0m\n\u001b[1;32m    509\u001b[0m \u001b[38;5;28;01mtry\u001b[39;00m:\n\u001b[1;32m    510\u001b[0m     \u001b[38;5;28;01mwhile\u001b[39;00m \u001b[38;5;28;01mTrue\u001b[39;00m:\n\u001b[0;32m--> 511\u001b[0m         answer \u001b[38;5;241m=\u001b[39m smart_decode(\u001b[38;5;28;43mself\u001b[39;49m\u001b[38;5;241;43m.\u001b[39;49m\u001b[43mstream\u001b[49m\u001b[38;5;241;43m.\u001b[39;49m\u001b[43mreadline\u001b[49m\u001b[43m(\u001b[49m\u001b[43m)\u001b[49m[:\u001b[38;5;241m-\u001b[39m\u001b[38;5;241m1\u001b[39m])\n\u001b[1;32m    512\u001b[0m         logger\u001b[38;5;241m.\u001b[39mdebug(\u001b[38;5;124m\"\u001b[39m\u001b[38;5;124mAnswer received: \u001b[39m\u001b[38;5;132;01m{0}\u001b[39;00m\u001b[38;5;124m\"\u001b[39m\u001b[38;5;241m.\u001b[39mformat(answer))\n\u001b[1;32m    513\u001b[0m         \u001b[38;5;66;03m# Happens when a the other end is dead. There might be an empty\u001b[39;00m\n\u001b[1;32m    514\u001b[0m         \u001b[38;5;66;03m# answer before the socket raises an error.\u001b[39;00m\n",
      "File \u001b[0;32m/opt/conda/lib/python3.10/socket.py:705\u001b[0m, in \u001b[0;36mSocketIO.readinto\u001b[0;34m(self, b)\u001b[0m\n\u001b[1;32m    703\u001b[0m \u001b[38;5;28;01mwhile\u001b[39;00m \u001b[38;5;28;01mTrue\u001b[39;00m:\n\u001b[1;32m    704\u001b[0m     \u001b[38;5;28;01mtry\u001b[39;00m:\n\u001b[0;32m--> 705\u001b[0m         \u001b[38;5;28;01mreturn\u001b[39;00m \u001b[38;5;28;43mself\u001b[39;49m\u001b[38;5;241;43m.\u001b[39;49m\u001b[43m_sock\u001b[49m\u001b[38;5;241;43m.\u001b[39;49m\u001b[43mrecv_into\u001b[49m\u001b[43m(\u001b[49m\u001b[43mb\u001b[49m\u001b[43m)\u001b[49m\n\u001b[1;32m    706\u001b[0m     \u001b[38;5;28;01mexcept\u001b[39;00m timeout:\n\u001b[1;32m    707\u001b[0m         \u001b[38;5;28mself\u001b[39m\u001b[38;5;241m.\u001b[39m_timeout_occurred \u001b[38;5;241m=\u001b[39m \u001b[38;5;28;01mTrue\u001b[39;00m\n",
      "\u001b[0;31mKeyboardInterrupt\u001b[0m: "
     ]
    }
   ],
   "source": [
    "# Show the Top Products\n",
    "top_products.show(truncate=False)"
   ]
  },
  {
   "cell_type": "markdown",
   "metadata": {},
   "source": [
    "### 7.\tWrite a Parquet file and save the following data frames (tip: you may look at part 3 and think about what columns to save):  \n",
    "a.\tPersist the raw data from 6a in parquet format. Every student may have different features/columns in their data frames depending on their model, at the bare minimum, we need some IDs to identify those frauds later on (transaction_id and/or session_id). After that, read the parquet file and show a few rows to verify it is saved correctly.  \n",
    "b.\tPersist the data from 6b in another parquet file.  "
   ]
  },
  {
   "cell_type": "code",
   "execution_count": 34,
   "metadata": {},
   "outputs": [],
   "source": [
    "# 7a\n",
    "\n",
    "# Persist fraud_count data to Parquet\n",
    "fraud_count.write \\\n",
    "    .format(\"parquet\") \\\n",
    "    .mode(\"append\") \\\n",
    "    .option(\"path\", \"fraud_predictions_count_parquet\") \\\n",
    "    .save()\n"
   ]
  },
  {
   "cell_type": "code",
   "execution_count": 44,
   "metadata": {},
   "outputs": [
    {
     "name": "stdout",
     "output_type": "stream",
     "text": [
      "+--------------------+--------------------+-----+\n",
      "|          session_id|              window|count|\n",
      "+--------------------+--------------------+-----+\n",
      "|aee50500-e67d-4cf...|{2024-10-11 20:57...|   16|\n",
      "|b8086f32-d838-4c6...|{2024-10-11 20:58...|    8|\n",
      "|e29be054-e160-455...|{2024-10-11 20:57...|    2|\n",
      "|135d09b6-2ee3-40e...|{2024-10-11 20:58...|    4|\n",
      "|206852b6-dc65-438...|{2024-10-11 20:58...|    1|\n",
      "|7b373982-d715-484...|{2024-10-11 20:57...|   16|\n",
      "|b2fb3286-6414-402...|{2024-10-11 20:57...|   12|\n",
      "|470a2012-8e1c-4d3...|{2024-10-11 20:59...|    1|\n",
      "|f0f5264d-e26b-4af...|{2024-10-11 20:58...|    1|\n",
      "|206852b6-dc65-438...|{2024-10-11 20:57...|    1|\n",
      "|d1af6233-eecf-498...|{2024-10-11 20:58...|   16|\n",
      "|0e11c7c3-8cb0-43d...|{2024-10-11 20:57...|   16|\n",
      "|204678d8-a714-415...|{2024-10-11 20:57...|    2|\n",
      "|e46bc807-be6c-439...|{2024-10-11 20:58...|    5|\n",
      "|3a737027-89d4-461...|{2024-10-11 20:58...|   16|\n",
      "|235c6de7-9548-4d8...|{2024-10-11 20:58...|    3|\n",
      "|f85f2f9f-df4a-4ae...|{2024-10-11 20:58...|   16|\n",
      "|7f124ce0-683c-46e...|{2024-10-11 20:57...|    2|\n",
      "|9ca002c7-fa1b-415...|{2024-10-11 20:58...|    2|\n",
      "|af9fe755-10d3-437...|{2024-10-11 20:58...|    2|\n",
      "+--------------------+--------------------+-----+\n",
      "only showing top 20 rows\n",
      "\n"
     ]
    }
   ],
   "source": [
    "# Read the Parquet data\n",
    "fraud_count_df = spark.read \\\n",
    "    .format(\"parquet\") \\\n",
    "    .option(\"path\", \"fraud_predictions_count_parquet\") \\\n",
    "    .load()\n",
    "\n",
    "# Show the data \n",
    "fraud_count_df.show()"
   ]
  },
  {
   "cell_type": "code",
   "execution_count": 45,
   "metadata": {},
   "outputs": [],
   "source": [
    "# 7b\n",
    "\n",
    "# Persist fraud_count data to Parquet\n",
    "top_products.write \\\n",
    "    .format(\"parquet\") \\\n",
    "    .mode(\"append\") \\\n",
    "    .option(\"path\", \"top_products_parquet\") \\\n",
    "    .save()\n"
   ]
  },
  {
   "cell_type": "code",
   "execution_count": 46,
   "metadata": {},
   "outputs": [
    {
     "name": "stdout",
     "output_type": "stream",
     "text": [
      "+----------+--------------------+--------------+\n",
      "|product_id|  productDisplayName|total_quantity|\n",
      "+----------+--------------------+--------------+\n",
      "|      3231|Puma Men's Speed ...|          4288|\n",
      "|     11895|Franco Leone Men ...|          2736|\n",
      "|     11895|Franco Leone Men ...|           624|\n",
      "|      3231|Puma Men's Speed ...|            64|\n",
      "|     40996|Gini and Jony Gir...|            14|\n",
      "+----------+--------------------+--------------+\n",
      "\n"
     ]
    }
   ],
   "source": [
    "# Read the Parquet data\n",
    "top_products_df = spark.read \\\n",
    "    .format(\"parquet\") \\\n",
    "    .option(\"path\", \"top_products_parquet\") \\\n",
    "    .load()\n",
    "\n",
    "# Show the data (optional)\n",
    "top_products_df.show()"
   ]
  },
  {
   "cell_type": "markdown",
   "metadata": {},
   "source": [
    "### 8.\tRead the two parquet files from task 7 as data streams and send to Kafka topics with appropriate names.\n",
    "(Note: You shall read the parquet files as a streaming data frame and send messages to the Kafka topic when new data appears in the parquet file.)"
   ]
  },
  {
   "cell_type": "code",
   "execution_count": 47,
   "metadata": {},
   "outputs": [],
   "source": [
    "# Stream 1"
   ]
  },
  {
   "cell_type": "code",
   "execution_count": 62,
   "metadata": {},
   "outputs": [
    {
     "name": "stdout",
     "output_type": "stream",
     "text": [
      "root\n",
      " |-- session_id: string (nullable = true)\n",
      " |-- window: struct (nullable = true)\n",
      " |    |-- start: timestamp (nullable = true)\n",
      " |    |-- end: timestamp (nullable = true)\n",
      " |-- count: long (nullable = true)\n",
      "\n"
     ]
    }
   ],
   "source": [
    "# Step 1: Infer schema by loading parquet data statically\n",
    "static_fraud_df = spark.read \\\n",
    "    .format(\"parquet\") \\\n",
    "    .option(\"path\", \"fraud_predictions_count_parquet\") \\\n",
    "    .load()\n",
    "\n",
    "# Print the inferred schema\n",
    "static_fraud_df.printSchema()\n",
    "\n",
    "# Step 2: Use this schema for the streaming dataframe\n",
    "fraud_schema = static_fraud_df.schema\n"
   ]
  },
  {
   "cell_type": "code",
   "execution_count": 63,
   "metadata": {},
   "outputs": [
    {
     "data": {
      "text/plain": [
       "<pyspark.sql.streaming.query.StreamingQuery at 0xffff626d5540>"
      ]
     },
     "execution_count": 63,
     "metadata": {},
     "output_type": "execute_result"
    }
   ],
   "source": [
    "from pyspark.sql.functions import to_json, struct\n",
    "\n",
    "# Use the schema inferred from the static DataFrame\n",
    "fraud_count_stream_df = spark.readStream \\\n",
    "    .format(\"parquet\") \\\n",
    "    .schema(fraud_schema) \\\n",
    "    .option(\"path\", \"fraud_predictions_count_parquet\") \\\n",
    "    .load()\n",
    "\n",
    "# Transform the DataFrame into a Kafka-friendly format (JSON)\n",
    "fraud_count_kafka_df = fraud_count_stream_df \\\n",
    "    .select(to_json(struct(\"session_id\", \"window\", \"count\")).alias(\"value\"))\n",
    "\n",
    "# Write the data to Kafka topic \"fraud_count_topic\"\n",
    "fraud_count_kafka_df.writeStream \\\n",
    "    .format(\"kafka\") \\\n",
    "    .option(\"kafka.bootstrap.servers\", \"kafka:9092\") \\\n",
    "    .option(\"topic\", \"fraud_count_topic\") \\\n",
    "    .start()\n"
   ]
  },
  {
   "cell_type": "code",
   "execution_count": 65,
   "metadata": {},
   "outputs": [],
   "source": [
    "# Memory sink to view the fraud_count stream in-memory\n",
    "fraud_count_query = fraud_count_kafka_df.writeStream \\\n",
    "    .format(\"memory\") \\\n",
    "    .queryName(\"fraud_count_in_memory\") \\\n",
    "    .outputMode(\"append\") \\\n",
    "    .start()"
   ]
  },
  {
   "cell_type": "code",
   "execution_count": 66,
   "metadata": {},
   "outputs": [
    {
     "name": "stdout",
     "output_type": "stream",
     "text": [
      "+---------------------------------------------------------------------------------------------------------------------------------------------------------+\n",
      "|value                                                                                                                                                    |\n",
      "+---------------------------------------------------------------------------------------------------------------------------------------------------------+\n",
      "|{\"session_id\":\"aee50500-e67d-4cf3-8b70-983dea9a4ea6\",\"window\":{\"start\":\"2024-10-11T20:57:40.000+11:00\",\"end\":\"2024-10-11T20:59:40.000+11:00\"},\"count\":16}|\n",
      "|{\"session_id\":\"b8086f32-d838-4c65-81d6-3fa44d7e6545\",\"window\":{\"start\":\"2024-10-11T20:58:50.000+11:00\",\"end\":\"2024-10-11T21:00:50.000+11:00\"},\"count\":8} |\n",
      "|{\"session_id\":\"e29be054-e160-4550-b2aa-d9bb0f1924e4\",\"window\":{\"start\":\"2024-10-11T20:57:00.000+11:00\",\"end\":\"2024-10-11T20:59:00.000+11:00\"},\"count\":2} |\n",
      "|{\"session_id\":\"135d09b6-2ee3-40e2-b08f-f7fb61fbf480\",\"window\":{\"start\":\"2024-10-11T20:58:30.000+11:00\",\"end\":\"2024-10-11T21:00:30.000+11:00\"},\"count\":4} |\n",
      "|{\"session_id\":\"206852b6-dc65-438f-8aae-11dd2c40de50\",\"window\":{\"start\":\"2024-10-11T20:58:30.000+11:00\",\"end\":\"2024-10-11T21:00:30.000+11:00\"},\"count\":1} |\n",
      "|{\"session_id\":\"7b373982-d715-4847-bff0-a4cf40f414d1\",\"window\":{\"start\":\"2024-10-11T20:57:10.000+11:00\",\"end\":\"2024-10-11T20:59:10.000+11:00\"},\"count\":16}|\n",
      "|{\"session_id\":\"b2fb3286-6414-402f-8e04-8dc56bd550f4\",\"window\":{\"start\":\"2024-10-11T20:57:00.000+11:00\",\"end\":\"2024-10-11T20:59:00.000+11:00\"},\"count\":12}|\n",
      "|{\"session_id\":\"470a2012-8e1c-4d30-93a0-97c18dffb4d1\",\"window\":{\"start\":\"2024-10-11T20:59:00.000+11:00\",\"end\":\"2024-10-11T21:01:00.000+11:00\"},\"count\":1} |\n",
      "|{\"session_id\":\"f0f5264d-e26b-4af6-aa0a-24ace96cdd2f\",\"window\":{\"start\":\"2024-10-11T20:58:00.000+11:00\",\"end\":\"2024-10-11T21:00:00.000+11:00\"},\"count\":1} |\n",
      "|{\"session_id\":\"206852b6-dc65-438f-8aae-11dd2c40de50\",\"window\":{\"start\":\"2024-10-11T20:57:50.000+11:00\",\"end\":\"2024-10-11T20:59:50.000+11:00\"},\"count\":1} |\n",
      "|{\"session_id\":\"d1af6233-eecf-498c-863d-07c22648c4c0\",\"window\":{\"start\":\"2024-10-11T20:58:00.000+11:00\",\"end\":\"2024-10-11T21:00:00.000+11:00\"},\"count\":16}|\n",
      "|{\"session_id\":\"0e11c7c3-8cb0-43dd-a77e-0c062df981b9\",\"window\":{\"start\":\"2024-10-11T20:57:10.000+11:00\",\"end\":\"2024-10-11T20:59:10.000+11:00\"},\"count\":16}|\n",
      "|{\"session_id\":\"204678d8-a714-4151-b1f2-b669666d50f5\",\"window\":{\"start\":\"2024-10-11T20:57:10.000+11:00\",\"end\":\"2024-10-11T20:59:10.000+11:00\"},\"count\":2} |\n",
      "|{\"session_id\":\"e46bc807-be6c-4398-be87-2ebb3bbddd25\",\"window\":{\"start\":\"2024-10-11T20:58:40.000+11:00\",\"end\":\"2024-10-11T21:00:40.000+11:00\"},\"count\":5} |\n",
      "|{\"session_id\":\"3a737027-89d4-461f-9dfa-f04c7e9f3ebe\",\"window\":{\"start\":\"2024-10-11T20:58:40.000+11:00\",\"end\":\"2024-10-11T21:00:40.000+11:00\"},\"count\":16}|\n",
      "|{\"session_id\":\"235c6de7-9548-4d88-ab25-0bbf5e743b08\",\"window\":{\"start\":\"2024-10-11T20:58:50.000+11:00\",\"end\":\"2024-10-11T21:00:50.000+11:00\"},\"count\":3} |\n",
      "|{\"session_id\":\"f85f2f9f-df4a-4aeb-a0a1-ca546f3f4def\",\"window\":{\"start\":\"2024-10-11T20:58:00.000+11:00\",\"end\":\"2024-10-11T21:00:00.000+11:00\"},\"count\":16}|\n",
      "|{\"session_id\":\"7f124ce0-683c-46e2-b580-6d5a2bd44708\",\"window\":{\"start\":\"2024-10-11T20:57:40.000+11:00\",\"end\":\"2024-10-11T20:59:40.000+11:00\"},\"count\":2} |\n",
      "|{\"session_id\":\"9ca002c7-fa1b-415a-9909-7f79434766dc\",\"window\":{\"start\":\"2024-10-11T20:58:50.000+11:00\",\"end\":\"2024-10-11T21:00:50.000+11:00\"},\"count\":2} |\n",
      "|{\"session_id\":\"af9fe755-10d3-4373-a486-7a142fba8e30\",\"window\":{\"start\":\"2024-10-11T20:58:50.000+11:00\",\"end\":\"2024-10-11T21:00:50.000+11:00\"},\"count\":2} |\n",
      "+---------------------------------------------------------------------------------------------------------------------------------------------------------+\n",
      "only showing top 20 rows\n",
      "\n"
     ]
    }
   ],
   "source": [
    "# Query the in-memory table to see the streaming data\n",
    "fraud_count_data = spark.sql(\"SELECT * FROM fraud_count_in_memory\")\n",
    "fraud_count_data.show(truncate=False)"
   ]
  },
  {
   "cell_type": "code",
   "execution_count": 67,
   "metadata": {},
   "outputs": [],
   "source": [
    "fraud_count_query.stop()"
   ]
  },
  {
   "cell_type": "code",
   "execution_count": 68,
   "metadata": {},
   "outputs": [],
   "source": [
    "# Stream 2"
   ]
  },
  {
   "cell_type": "code",
   "execution_count": 69,
   "metadata": {},
   "outputs": [
    {
     "name": "stdout",
     "output_type": "stream",
     "text": [
      "root\n",
      " |-- product_id: integer (nullable = true)\n",
      " |-- productDisplayName: string (nullable = true)\n",
      " |-- total_quantity: long (nullable = true)\n",
      "\n"
     ]
    }
   ],
   "source": [
    "# Step 1: Infer schema by loading parquet data statically\n",
    "static_top_products_df = spark.read \\\n",
    "    .format(\"parquet\") \\\n",
    "    .option(\"path\", \"top_products_parquet\") \\\n",
    "    .load()\n",
    "\n",
    "# Print the inferred schema\n",
    "static_top_products_df.printSchema()\n",
    "\n",
    "# Step 2: Use this schema for the streaming dataframe\n",
    "top_products_schema = static_top_products_df.schema"
   ]
  },
  {
   "cell_type": "code",
   "execution_count": 70,
   "metadata": {},
   "outputs": [
    {
     "data": {
      "text/plain": [
       "<pyspark.sql.streaming.query.StreamingQuery at 0xffff61dcdd50>"
      ]
     },
     "execution_count": 70,
     "metadata": {},
     "output_type": "execute_result"
    }
   ],
   "source": [
    "# Use the schema inferred from the static DataFrame\n",
    "top_products_stream_df = spark.readStream \\\n",
    "    .format(\"parquet\") \\\n",
    "    .schema(top_products_schema) \\\n",
    "    .option(\"path\", \"top_products_parquet\") \\\n",
    "    .load()\n",
    "\n",
    "# Transform the DataFrame into a Kafka-friendly format (JSON)\n",
    "top_products_kafka_df = top_products_stream_df \\\n",
    "    .select(to_json(struct(\"product_id\", \"productDisplayName\", \"total_quantity\")).alias(\"value\"))\n",
    "\n",
    "# Write the data to Kafka topic \"top_products_topic\"\n",
    "top_products_kafka_df.writeStream \\\n",
    "    .format(\"kafka\") \\\n",
    "    .option(\"kafka.bootstrap.servers\", \"kafka:9092\") \\\n",
    "    .option(\"topic\", \"top_products_topic\") \\\n",
    "    .start()"
   ]
  },
  {
   "cell_type": "code",
   "execution_count": 71,
   "metadata": {},
   "outputs": [],
   "source": [
    "# Memory sink to view the top_products stream in-memory\n",
    "top_products_query = top_products_kafka_df.writeStream \\\n",
    "    .format(\"memory\") \\\n",
    "    .queryName(\"top_products_in_memory\") \\\n",
    "    .outputMode(\"append\") \\\n",
    "    .start()"
   ]
  },
  {
   "cell_type": "code",
   "execution_count": 72,
   "metadata": {},
   "outputs": [
    {
     "name": "stdout",
     "output_type": "stream",
     "text": [
      "+------------------------------------------------------------------------------------------------------------+\n",
      "|value                                                                                                       |\n",
      "+------------------------------------------------------------------------------------------------------------+\n",
      "|{\"product_id\":3231,\"productDisplayName\":\"Puma Men's Speed Cat White Green Shoe\",\"total_quantity\":4288}      |\n",
      "|{\"product_id\":11895,\"productDisplayName\":\"Franco Leone Men Formal Black Formal Shoes\",\"total_quantity\":2736}|\n",
      "|{\"product_id\":11895,\"productDisplayName\":\"Franco Leone Men Formal Black Formal Shoes\",\"total_quantity\":624} |\n",
      "|{\"product_id\":3231,\"productDisplayName\":\"Puma Men's Speed Cat White Green Shoe\",\"total_quantity\":64}        |\n",
      "|{\"product_id\":40996,\"productDisplayName\":\"Gini and Jony Girls Woven Pink Pedal Pusher\",\"total_quantity\":14} |\n",
      "+------------------------------------------------------------------------------------------------------------+\n",
      "\n"
     ]
    }
   ],
   "source": [
    "# Query the in-memory table to see the streaming data\n",
    "top_products_data = spark.sql(\"SELECT * FROM top_products_in_memory\")\n",
    "top_products_data.show(truncate=False)"
   ]
  },
  {
   "cell_type": "code",
   "execution_count": 73,
   "metadata": {},
   "outputs": [],
   "source": [
    "top_products_query.stop()"
   ]
  }
 ],
 "metadata": {
  "kernelspec": {
   "display_name": "Python 3 (ipykernel)",
   "language": "python",
   "name": "python3"
  },
  "language_info": {
   "codemirror_mode": {
    "name": "ipython",
    "version": 3
   },
   "file_extension": ".py",
   "mimetype": "text/x-python",
   "name": "python",
   "nbconvert_exporter": "python",
   "pygments_lexer": "ipython3",
   "version": "3.10.13"
  },
  "vscode": {
   "interpreter": {
    "hash": "5c7b89af1651d0b8571dde13640ecdccf7d5a6204171d6ab33e7c296e100e08a"
   }
  }
 },
 "nbformat": 4,
 "nbformat_minor": 4
}
