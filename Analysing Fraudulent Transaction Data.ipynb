{
 "cells": [
  {
   "cell_type": "markdown",
   "metadata": {},
   "source": [
    "# Analysing Fraudulent Transaction Data\n",
    "\n",
    "## Table of Contents\n",
    "* [Part 1 : Working with RDD](#part-1)  \n",
    "    - [1.1 Data Preparation and Loading](#1.1)  \n",
    "    - [1.2 Data Partitioning in RDD](#1.2)  \n",
    "    - [1.3 Query/Analysis](#1.3)  \n",
    "* [Part 2 : Working with DataFrames](#2-dataframes)  \n",
    "    - [2.1 Data Preparation and Loading](#2-dataframes)  \n",
    "    - [2.2 Query/Analysis](#2.2)  \n",
    "* [Part 3 :  RDDs vs DataFrame vs Spark SQL](#part-3)  "
   ]
  },
  {
   "cell_type": "markdown",
   "metadata": {},
   "source": [
    "# Part 1 : Working with RDDs  <a class=\"anchor\" name=\"part-1\"></a>\n",
    "## 1.1 Working with RDD\n",
    "In this section, we will need to create RDDs from the given datasets, perform partitioning in these RDDs and use various RDD operations to answer the queries. \n",
    "\n",
    "1.1.1 Data Preparation and Loading <a class=\"anchor\" name=\"1.1\"></a>\n",
    "Write the code to create a SparkContext object using SparkSession. To create a SparkSession you first need to build a SparkConf object that contains information about your application, use Melbourne time as the session timezone. Give an appropriate name for your application and run Spark locally with 4 cores on your machine. "
   ]
  },
  {
   "cell_type": "code",
   "execution_count": 1,
   "metadata": {},
   "outputs": [],
   "source": [
    "from pyspark.sql import SparkSession\n",
    "from pyspark import SparkConf\n",
    "\n",
    "# Setting up Spark session and Spark context\n",
    "conf = SparkConf().setAppName(\"FraudDetectionAssignment\").setMaster(\"local[4]\").set(\"spark.sql.session.timeZone\", \"Australia/Melbourne\")\n",
    "spark = SparkSession.builder.config(conf=conf).getOrCreate()\n",
    "sc = spark.sparkContext"
   ]
  },
  {
   "cell_type": "markdown",
   "metadata": {},
   "source": [
    "1.1.2 Load csv files into multiple RDDs."
   ]
  },
  {
   "cell_type": "code",
   "execution_count": 2,
   "metadata": {},
   "outputs": [],
   "source": [
    "# Loading the CSV files into RDDs\n",
    "transactions_rdd = sc.textFile(\"transactions.csv\")\n",
    "customers_rdd = sc.textFile(\"customers.csv\")\n",
    "merchants_rdd = sc.textFile(\"merchant.csv\")\n",
    "geolocation_rdd = sc.textFile(\"geolocation.csv\")\n",
    "category_rdd = sc.textFile(\"category.csv\")"
   ]
  },
  {
   "cell_type": "markdown",
   "metadata": {},
   "source": [
    "1.1.3 For each RDD, remove the header rows and display the total count and first 10 records. (Hint: You can use csv.reader to parse rows into RDDs.)"
   ]
  },
  {
   "cell_type": "code",
   "execution_count": 3,
   "metadata": {},
   "outputs": [
    {
     "name": "stdout",
     "output_type": "stream",
     "text": [
      "Transactions: Total Records = 22949835\n",
      "\n",
      "First 10 Records = ['\"0c20530e90719213c442744161a1850b\",1622367050,87.18,0,\"794-45-4364\",46,2641132,12', '\"984fc48fc946605deefc9d0967582811\",1609183538,276.97,0,\"436-80-2340\",60,2932280,5', 'b13ff47c73689bc4c8320c0ce403b15d,1655595319,7.67,0,\"385-77-6544\",87,2708770,2', '\"7cffae35cab67d9415f9f22d91ca7acc\",1613234460,198.96,0,\"450-56-1117\",138,1170872,10', '\"22e01cb3403a4c7ce598ebe785e1e947\",1605030979,33.46,0,\"397-54-0253\",218,2470519,5', '\"1d174d018228efcd1d5800f768628904\",1608989049,2.74,0,\"248-09-7729\",222,3436926,9', '\"532536d65907e08d938cb31e3631ddd4\",1650997797,1.23,0,\"277-12-7638\",337,3750746,2', '\"32d76f65b7512afbdc99331ee96bc6d7\",1649986601,7.78,0,\"615-63-3623\",718,3773961,2', 'c3f29bca602c9e2e9a188567f06d632f,1617032215,218.8,0,\"877-16-8226\",747,2377216,10', 'c56ef2e4a43d867128839b97bc1dbb66,1609250028,62.1,0,\"823-85-5801\",950,652447,5']\n",
      "\n",
      "\n",
      "Customers: Total Records = 10000\n",
      "\n",
      "First 10 Records = ['\"263-99-6044\",\"4241904966319315\",Melissa,Turner,F,\"058 Stanley Cliff\",Risk manager,\"2005-05-30\",376443331852,6339', '\"292-61-7844\",\"30520471167198\",Mark,Brown,M,\"413 Angela Mall\",Trading standards officer,\"2003-04-19\",870143739098,6200', '\"491-28-3311\",\"180084219933088\",Courtney,Hall,F,\"5712 Tamara Estate\",Optometrist,\"2002-04-17\",965855026307,3547', '\"826-23-1754\",\"2623398454615676\",Krystal,Branch,F,\"1016 Bennett Mountains\",Banker,\"2001-07-15\",11324746755,6302', '\"172-11-9264\",\"639034043849\",Carol,Ellis,F,\"819 Joseph Plains Suite 807\",Sports coach,\"2003-11-21\",113495175185,5227', '\"150-95-7922\",\"343731453038560\",Julie,Gibson,F,\"51844 Nicholas Lane\",Medical secretary,\"2006-03-06\",719783599768,4047', '\"841-99-2980\",\"3525799136621031\",Joseph,Blankenship,M,\"91279 Natalie Place Apt. 172\",Toxicologist,\"2005-07-01\",908554315130,6271', '\"705-41-6699\",\"342694486959460\",Nicole,Gutierrez,F,\"58874 Lane Trail Suite 213\",Product manager,\"2003-01-23\",772162574642,6302', '\"016-22-4524\",\"3563009792513271\",Anna,Montgomery,F,\"52812 Hall Point\",\"Loss adjuster, chartered\",\"2001-08-26\",982712248618,5614', '\"639-46-2126\",\"3587729343010715\",Nancy,Clark,F,\"0558 Alex Flats Suite 414\",Hydrologist,\"2005-02-10\",603471636817,6328']\n",
      "\n",
      "\n",
      "Merchants: Total Records = 3837031\n",
      "\n",
      "First 10 Records = ['Bins-Tillman,6051,1', '\"Hahn, Douglas and Schowalter\",1276,2', '\"Hayes, Marquardt and Dibbert\",1383,3', '\"Mueller, Gerhold and Mueller\",1846,4', 'Kerluke Inc,1784,5', 'Waelchi Inc,4637,6', 'Trantow PLC,2176,7', 'Runolfsson and Sons,3968,8', 'Bechtelar-Rippin,1048,9', '\"Schumm, Bauch and Ondricka\",1553,10']\n",
      "\n",
      "\n",
      "Geolocations: Total Records = 6342\n",
      "\n",
      "First 10 Records = ['Burkeville,TX,75932,31.0099,-93.6585,1,1437', 'Fresno,TX,77545,29.5293,-95.4626,2,19431', 'Osseo,MN,55311,45.1243,-93.4996,3,65312', 'Pomona,CA,91766,34.0418,-117.7569,4,154204', 'Vacaville,CA,95688,38.3847,-121.9887,5,99475', 'South Lake Tahoe,CA,96150,38.917,-119.9865,6,29800', 'Belvidere,TN,37306,35.1415,-86.1728,7,2760', 'Columbia,SC,29205,33.9903,-80.9997,8,333497', 'Chicago,IL,60660,41.9909,-87.6629,9,2680484', 'Tunnelton,WV,26444,39.3625,-79.7478,10,3639']\n",
      "\n",
      "\n",
      "Categories: Total Records = 14\n",
      "\n",
      "First 10 Records = ['Entertainment,1', 'Food_Dining,2', 'Gas_Transport,3', 'Grocery(Online),4', 'Grocery(In Store),5', 'Health_Fitness,6', 'Home,7', 'Pets,8', 'Misc(Online)\\\\,9', 'Misc(In Store),10']\n",
      "\n",
      "\n"
     ]
    }
   ],
   "source": [
    "# Defining a function to remove header and display count and first 10 records\n",
    "def process_rdd(rdd):\n",
    "    header = rdd.first()  # Getting the first row as header\n",
    "    rdd_cleaned = rdd.filter(lambda row: row != header)  # Filtering out the header from the RDD\n",
    "    total_count = rdd_cleaned.count()  # Counting the total number of records in the cleaned RDD\n",
    "    first_10_records = rdd_cleaned.take(10)  # Taking the first 10 records from the cleaned RDD\n",
    "    return rdd_cleaned, total_count, first_10_records  # Returning the cleaned RDD, total count, and first 10 records\n",
    "\n",
    "# Processing each RDD and storing the cleaned RDDs\n",
    "transactions_rdd_cleaned, transactions_count, transactions_first_10 = process_rdd(transactions_rdd)  \n",
    "customers_rdd_cleaned, customers_count, customers_first_10 = process_rdd(customers_rdd)  \n",
    "merchants_rdd_cleaned, merchants_count, merchants_first_10 = process_rdd(merchants_rdd)  \n",
    "geolocation_rdd_cleaned, geolocation_count, geolocation_first_10 = process_rdd(geolocation_rdd)  \n",
    "category_rdd_cleaned, category_count, category_first_10 = process_rdd(category_rdd)  \n",
    "\n",
    "# Printing results\n",
    "print(f\"Transactions: Total Records = {transactions_count}\\n\\nFirst 10 Records = {transactions_first_10}\\n\\n\")  \n",
    "print(f\"Customers: Total Records = {customers_count}\\n\\nFirst 10 Records = {customers_first_10}\\n\\n\")  \n",
    "print(f\"Merchants: Total Records = {merchants_count}\\n\\nFirst 10 Records = {merchants_first_10}\\n\\n\")  \n",
    "print(f\"Geolocations: Total Records = {geolocation_count}\\n\\nFirst 10 Records = {geolocation_first_10}\\n\\n\")  \n",
    "print(f\"Categories: Total Records = {category_count}\\n\\nFirst 10 Records = {category_first_10}\\n\\n\")  "
   ]
  },
  {
   "cell_type": "markdown",
   "metadata": {},
   "source": [
    "1.1.4 Drop personal information columns from RDDs: cc_num, firstname, lastname, address. "
   ]
  },
  {
   "cell_type": "code",
   "execution_count": 4,
   "metadata": {},
   "outputs": [
    {
     "name": "stdout",
     "output_type": "stream",
     "text": [
      "First 10 records of customers after dropping personal information columns:\n",
      "\n",
      "\"263-99-6044\",F,Risk manager,\"2005-05-30\",376443331852,6339\n",
      "\"292-61-7844\",M,Trading standards officer,\"2003-04-19\",870143739098,6200\n",
      "\"491-28-3311\",F,Optometrist,\"2002-04-17\",965855026307,3547\n",
      "\"826-23-1754\",F,Banker,\"2001-07-15\",11324746755,6302\n",
      "\"172-11-9264\",F,Sports coach,\"2003-11-21\",113495175185,5227\n",
      "\"150-95-7922\",F,Medical secretary,\"2006-03-06\",719783599768,4047\n",
      "\"841-99-2980\",M,Toxicologist,\"2005-07-01\",908554315130,6271\n",
      "\"705-41-6699\",F,Product manager,\"2003-01-23\",772162574642,6302\n",
      "\"016-22-4524\",F,\"Loss adjuster, chartered\",\"2001-08-26\",982712248618,5614\n",
      "\"639-46-2126\",F,Hydrologist,\"2005-02-10\",603471636817,6328\n"
     ]
    }
   ],
   "source": [
    "# Extracting the header and retain it for future use\n",
    "header = customers_rdd.first()\n",
    "\n",
    "# Splitting the header to get column names\n",
    "header_columns = header.split(\",\")\n",
    "\n",
    "# Cleaning the header by removing the double quotes\n",
    "header_columns = [col.strip('\"') for col in header.split(\",\")]\n",
    "\n",
    "# Creating a dictionary to map column names to their index\n",
    "column_indices = {column_name: index for index, column_name in enumerate(header_columns)}\n",
    "\n",
    "# Indices of columns to drop: cc_num, firstname, lastname, address\n",
    "columns_to_drop = ['cc_num', 'firstname', 'lastname', 'address']\n",
    "indices_to_drop = [column_indices[col] for col in columns_to_drop]\n",
    "\n",
    "# Function to drop specific columns from the customers RDD\n",
    "def drop_columns(row, indices_to_drop):\n",
    "    return [value for index, value in enumerate(row.split(\",\")) if index not in indices_to_drop]\n",
    "\n",
    "# Applying the function to drop personal information from the customers RDD\n",
    "customers_rdd_cleaned = customers_rdd.map(lambda row: drop_columns(row, indices_to_drop))\n",
    "\n",
    "# Converting the cleaned RDD back to comma-separated strings\n",
    "customers_rdd_cleaned = customers_rdd_cleaned.map(lambda row: \",\".join(row))\n",
    "\n",
    "# Removing the Header Before Printing\n",
    "customers_rdd_cleaned = customers_rdd_cleaned.filter(lambda row: row != \",\".join(drop_columns(header, indices_to_drop)))\n",
    "\n",
    "# Displaying the first 10 records after dropping personal information columns\n",
    "customers_first_10_after_drop = customers_rdd_cleaned.take(10)\n",
    "print(\"First 10 records of customers after dropping personal information columns:\\n\")\n",
    "for record in customers_first_10_after_drop:\n",
    "    print(record)"
   ]
  },
  {
   "cell_type": "markdown",
   "metadata": {},
   "source": [
    "### 1.2 Data Partitioning in RDD <a class=\"anchor\" name=\"1.2\"></a>\n",
    "1.2.1 For each RDD, print out the total number of partitions and the number of records in each partition."
   ]
  },
  {
   "cell_type": "code",
   "execution_count": 5,
   "metadata": {},
   "outputs": [
    {
     "name": "stdout",
     "output_type": "stream",
     "text": [
      "Transactions: Number of Partitions = 56\n",
      "\n",
      "Sizes = [409654, 409552, 409551, 409568, 409556, 409615, 409623, 409562, 409556, 409568, 409558, 409590, 409620, 409626, 409575, 409576, 409570, 409576, 409544, 409653, 409581, 409577, 409557, 409565, 409576, 409604, 409617, 409570, 409541, 409582, 409562, 409584, 409654, 409598, 409547, 409578, 409581, 409574, 409564, 409657, 409580, 409565, 409561, 409583, 409557, 409596, 409630, 409566, 409568, 409558, 409582, 409555, 409599, 409657, 409563, 422753]\n",
      "\n",
      "\n",
      "Customers: Number of Partitions = 2\n",
      "\n",
      "Sizes = [5002, 4998]\n",
      "\n",
      "\n",
      "Merchants: Number of Partitions = 4\n",
      "\n",
      "Sizes = [1094930, 1059961, 1059729, 622411]\n",
      "\n",
      "\n",
      "Geolocations: Number of Partitions = 2\n",
      "\n",
      "Sizes = [3178, 3164]\n",
      "\n",
      "\n",
      "Categories: Number of Partitions = 2\n",
      "\n",
      "Sizes = [6, 8]\n",
      "\n",
      "\n"
     ]
    }
   ],
   "source": [
    "# Function to print partition info\n",
    "def print_partition_info(rdd):\n",
    "    num_partitions = rdd.getNumPartitions()  # Getting the number of partitions in the RDD\n",
    "    partition_sizes = rdd.glom().map(len).collect()  # Mapping each partition to its size and collecting the results\n",
    "    return num_partitions, partition_sizes  # Returning the number of partitions and the sizes of each partition\n",
    "\n",
    "# Printing partition info for each RDD\n",
    "transactions_partitions, transactions_sizes = print_partition_info(transactions_rdd_cleaned)\n",
    "customers_partitions, customers_sizes = print_partition_info(customers_rdd_cleaned)\n",
    "merchants_partitions, merchants_sizes = print_partition_info(merchants_rdd_cleaned)\n",
    "geolocation_partitions, geolocation_sizes = print_partition_info(geolocation_rdd_cleaned)\n",
    "category_partitions, category_sizes = print_partition_info(category_rdd_cleaned)\n",
    "\n",
    "# Printing results\n",
    "print(f\"Transactions: Number of Partitions = {transactions_partitions}\\n\\nSizes = {transactions_sizes}\\n\\n\")\n",
    "print(f\"Customers: Number of Partitions = {customers_partitions}\\n\\nSizes = {customers_sizes}\\n\\n\")\n",
    "print(f\"Merchants: Number of Partitions = {merchants_partitions}\\n\\nSizes = {merchants_sizes}\\n\\n\")\n",
    "print(f\"Geolocations: Number of Partitions = {geolocation_partitions}\\n\\nSizes = {geolocation_sizes}\\n\\n\")\n",
    "print(f\"Categories: Number of Partitions = {category_partitions}\\n\\nSizes = {category_sizes}\\n\\n\")"
   ]
  },
  {
   "cell_type": "markdown",
   "metadata": {},
   "source": [
    "1.2.2 Answer the following questions:   \n",
    "a) How many partitions do the above RDDs have?   \n",
    "b) How is the data in these RDDs partitioned by default, when we do not explicitly specify any partitioning strategy? Can you explain why it is partitioned in this number?   \n",
    "c) Assuming we are querying the dataset based on transaction date, can you think of a better strategy to partition the data based on your available hardware resources?"
   ]
  },
  {
   "cell_type": "markdown",
   "metadata": {},
   "source": [
    "#### Answer for a\n",
    "\n",
    "Each RDD has a different number of partitions as observed in the earlier steps:\n",
    "\n",
    "- Transactions RDD: 56 partitions\n",
    "- Customers RDD: 2 partitions\n",
    "- Merchants RDD: 4 partitions\n",
    "- Geolocations RDD: 2 partitions\n",
    "- Categories RDD: 2 partitions"
   ]
  },
  {
   "cell_type": "markdown",
   "metadata": {},
   "source": [
    "#### Answer for b\n",
    "\n",
    "When we create an RDD in Apache Spark without specifying a partitioning strategy, Spark automatically determines the number of partitions based on several factors:\n",
    "\n",
    "Default Parallelism: The number of partitions is often decided by the spark.default.parallelism setting. In a standalone Spark mode or when using YARN, this default parallelism is usually equal to the total number of cores available across all nodes in our cluster. This ensures that Spark can maximize parallel execution by distributing the workload evenly across all CPU cores.\n",
    "\n",
    "Input Data Size: The size of our input data also influences the number of partitions. For larger datasets, Spark may generate more partitions to break down the data into manageable chunks, facilitating efficient parallel processing. For instance, the Transactions RDD has 56 partitions, likely due to its large size, which allows for better distribution and load balancing across the cluster.\n",
    "\n",
    "Default Behavior: If we do not specify the number of partitions explicitly while creating the RDDs, Spark relies on these internal configurations and the characteristics of the data to set the partition count. For example:\n",
    "The Transactions RDD, being a large dataset, is partitioned into 56 partitions, which may correspond to a multiple of the available cores, optimizing parallelism.\n",
    "\n",
    "Smaller datasets like Customers, Geolocations, and Categories have fewer partitions (2 or 4) since their smaller sizes do not necessitate extensive parallelization.\n",
    "In summary, Spark partitions our data based on the default parallelism settings and the dataset's size, aiming to efficiently utilize cluster resources, minimize data shuffling, and enhance the performance of distributed computations."
   ]
  },
  {
   "cell_type": "markdown",
   "metadata": {},
   "source": [
    "#### Answer for c\n",
    "\n",
    "When our queries focus on a specific attribute like the transaction date, optimizing the partitioning strategy around this attribute can significantly enhance performance. Here’s a better approach:\n",
    "\n",
    "Date-Based Partitioning:\n",
    "Instead of relying on the default partitioning, we could repartition the Transactions RDD based on the transaction date. This approach would group all transactions that occurred on the same date (or within the same date range, such as months or quarters) into the same partition. This is particularly useful for queries that filter data by date, as it localizes relevant data within fewer partitions, reducing the need to scan through unrelated data.\n",
    "\n",
    "Hardware Considerations:\n",
    "Number of Cores: If our cluster has a high number of CPU cores, we can afford to create more partitions, each corresponding to a specific date or range of dates. This allows us to leverage the full computational power of our hardware.\n",
    "\n",
    "Memory: We should ensure that each partition is sized appropriately so that it fits comfortably within the available memory on each executor. Overly large partitions can cause out-of-memory errors, while too many small partitions can increase the overhead of task scheduling.\n",
    "\n",
    "Balancing Load:\n",
    "We should consider the distribution of transactions over time. If certain dates have significantly more transactions (e.g., holidays or sales events), we might want to create more fine-grained partitions for those dates to avoid skewed partitions, which could lead to some nodes being overburdened while others are underutilized.\n",
    "We could use a partitioning strategy that creates more partitions for periods with higher transaction volumes (e.g., daily partitions for busy days, weekly for regular periods).\n",
    "\n",
    "Data Locality:\n",
    "By partitioning the data based on the transaction date, we increase the likelihood that related records (i.e., those within the same date range) are processed on the same node, reducing the need for expensive data shuffling across the network.\n",
    "\n",
    "In summary, partitioning the data by transaction date can significantly optimize query performance, especially in scenarios where we frequently query by this attribute. This approach, combined with thoughtful consideration of our available hardware resources, will ensure efficient data processing and improved overall system performance."
   ]
  },
  {
   "cell_type": "markdown",
   "metadata": {},
   "source": [
    "1.2.3 Create a user defined function (UDF) to transform trans_timestamp to ISO format(YYYY-MM-DD hh:mm:ss), then call the UDF and add a new column trans_datetime."
   ]
  },
  {
   "cell_type": "code",
   "execution_count": 6,
   "metadata": {},
   "outputs": [
    {
     "name": "stdout",
     "output_type": "stream",
     "text": [
      "First 10 records after adding trans_datetime column:\n",
      "\n",
      "id_transaction,trans_timestamp,amt,is_fraud,id_customer,id_geolocation,id_merchant,id_category,trans_datetime\n",
      "--------------------------------------------------------------------------------------------------------------\n",
      "\"0c20530e90719213c442744161a1850b\",1622367050,87.18,0,\"794-45-4364\",46,2641132,12,2021-05-30 09:30:50\n",
      "\"984fc48fc946605deefc9d0967582811\",1609183538,276.97,0,\"436-80-2340\",60,2932280,5,2020-12-28 19:25:38\n",
      "b13ff47c73689bc4c8320c0ce403b15d,1655595319,7.67,0,\"385-77-6544\",87,2708770,2,2022-06-18 23:35:19\n",
      "\"7cffae35cab67d9415f9f22d91ca7acc\",1613234460,198.96,0,\"450-56-1117\",138,1170872,10,2021-02-13 16:41:00\n",
      "\"22e01cb3403a4c7ce598ebe785e1e947\",1605030979,33.46,0,\"397-54-0253\",218,2470519,5,2020-11-10 17:56:19\n",
      "\"1d174d018228efcd1d5800f768628904\",1608989049,2.74,0,\"248-09-7729\",222,3436926,9,2020-12-26 13:24:09\n",
      "\"532536d65907e08d938cb31e3631ddd4\",1650997797,1.23,0,\"277-12-7638\",337,3750746,2,2022-04-26 18:29:57\n",
      "\"32d76f65b7512afbdc99331ee96bc6d7\",1649986601,7.78,0,\"615-63-3623\",718,3773961,2,2022-04-15 01:36:41\n",
      "c3f29bca602c9e2e9a188567f06d632f,1617032215,218.8,0,\"877-16-8226\",747,2377216,10,2021-03-29 15:36:55\n",
      "c56ef2e4a43d867128839b97bc1dbb66,1609250028,62.1,0,\"823-85-5801\",950,652447,5,2020-12-29 13:53:48\n"
     ]
    }
   ],
   "source": [
    "from datetime import datetime\n",
    "\n",
    "# Extracting the header and column names\n",
    "header = transactions_rdd.first()\n",
    "\n",
    "columns = [col.strip('\"') for col in header.split(\",\")]  # Stripping quotes from column names\n",
    "\n",
    "# UDF to transform UNIX timestamp to ISO format (assuming the timestamp is in seconds)\n",
    "def to_iso_format(timestamp):\n",
    "    return datetime.fromtimestamp(int(timestamp)).strftime('%Y-%m-%d %H:%M:%S')\n",
    "\n",
    "# Function to map over each row in the RDD\n",
    "def add_trans_datetime(row):\n",
    "    # Split the row into columns\n",
    "    cols = row.split(\",\")\n",
    "    \n",
    "    # Finding the index of the trans_timestamp column\n",
    "    trans_timestamp_index = columns.index(\"trans_timestamp\")\n",
    "    \n",
    "    # Converting the UNIX timestamp to ISO format\n",
    "    trans_datetime = to_iso_format(cols[trans_timestamp_index])\n",
    "    \n",
    "    # Adding the new datetime value to the row\n",
    "    new_row = row + \",\" + trans_datetime\n",
    "    return new_row\n",
    "\n",
    "# Applying the function to each row in the RDD\n",
    "transactions_rdd_final = transactions_rdd_cleaned.map(add_trans_datetime)\n",
    "\n",
    "# Displaying the first few records after adding the trans_datetime column\n",
    "\n",
    "transactions_first_10_after_udf = transactions_rdd_final.take(10)\n",
    "print(\"First 10 records after adding trans_datetime column:\\n\")\n",
    "\n",
    "print(f\"{','.join(columns + ['trans_datetime'])}\")\n",
    "print(\"-\" * 110)\n",
    "\n",
    "for record in transactions_first_10_after_udf:\n",
    "    print(record)"
   ]
  },
  {
   "cell_type": "markdown",
   "metadata": {},
   "source": [
    "### 1.3 Query/Analysis <a class=\"anchor\" name=\"1.3\"></a>\n",
    "For this part, write relevant RDD operations to answer the following queries.\n",
    "\n",
    "1.3.1 Calculate the summary of fraudulent transactions amount for each year, each month. Print the results in tabular format."
   ]
  },
  {
   "cell_type": "code",
   "execution_count": 7,
   "metadata": {},
   "outputs": [
    {
     "name": "stdout",
     "output_type": "stream",
     "text": [
      "Summary of fraudulent transactions by year and month:\n",
      "\n",
      "+------------+------------+--------------------------+\n",
      "| Year       | Month      | Total Fraudulent Amt.($) |\n",
      "+------------+------------+--------------------------+\n",
      "| 2020       | 01         | 898993.87                |\n",
      "+------------+------------+--------------------------+\n",
      "| 2020       | 02         | 1055068.69               |\n",
      "+------------+------------+--------------------------+\n",
      "| 2020       | 03         | 864818.53                |\n",
      "+------------+------------+--------------------------+\n",
      "| 2020       | 04         | 797646.98                |\n",
      "+------------+------------+--------------------------+\n",
      "| 2020       | 05         | 925864.70                |\n",
      "+------------+------------+--------------------------+\n",
      "| 2020       | 06         | 983224.85                |\n",
      "+------------+------------+--------------------------+\n",
      "| 2020       | 07         | 904102.03                |\n",
      "+------------+------------+--------------------------+\n",
      "| 2020       | 08         | 1031171.33               |\n",
      "+------------+------------+--------------------------+\n",
      "| 2020       | 09         | 895572.70                |\n",
      "+------------+------------+--------------------------+\n",
      "| 2020       | 10         | 917590.31                |\n",
      "+------------+------------+--------------------------+\n",
      "| 2020       | 11         | 876092.53                |\n",
      "+------------+------------+--------------------------+\n",
      "| 2020       | 12         | 1047136.05               |\n",
      "+------------+------------+--------------------------+\n",
      "| 2021       | 01         | 925229.73                |\n",
      "+------------+------------+--------------------------+\n",
      "| 2021       | 02         | 789827.07                |\n",
      "+------------+------------+--------------------------+\n",
      "| 2021       | 03         | 892832.58                |\n",
      "+------------+------------+--------------------------+\n",
      "| 2021       | 04         | 907938.06                |\n",
      "+------------+------------+--------------------------+\n",
      "| 2021       | 05         | 967478.79                |\n",
      "+------------+------------+--------------------------+\n",
      "| 2021       | 06         | 883641.08                |\n",
      "+------------+------------+--------------------------+\n",
      "| 2021       | 07         | 997994.13                |\n",
      "+------------+------------+--------------------------+\n",
      "| 2021       | 08         | 935016.09                |\n",
      "+------------+------------+--------------------------+\n",
      "| 2021       | 09         | 868437.49                |\n",
      "+------------+------------+--------------------------+\n",
      "| 2021       | 10         | 1008533.07               |\n",
      "+------------+------------+--------------------------+\n",
      "| 2021       | 11         | 789345.70                |\n",
      "+------------+------------+--------------------------+\n",
      "| 2021       | 12         | 799928.90                |\n",
      "+------------+------------+--------------------------+\n",
      "| 2022       | 01         | 897735.25                |\n",
      "+------------+------------+--------------------------+\n",
      "| 2022       | 02         | 871017.78                |\n",
      "+------------+------------+--------------------------+\n",
      "| 2022       | 03         | 1001807.60               |\n",
      "+------------+------------+--------------------------+\n",
      "| 2022       | 04         | 882859.25                |\n",
      "+------------+------------+--------------------------+\n",
      "| 2022       | 05         | 929544.45                |\n",
      "+------------+------------+--------------------------+\n",
      "| 2022       | 06         | 995504.95                |\n",
      "+------------+------------+--------------------------+\n",
      "| 2022       | 07         | 962204.05                |\n",
      "+------------+------------+--------------------------+\n",
      "| 2022       | 08         | 965271.53                |\n",
      "+------------+------------+--------------------------+\n",
      "| 2022       | 09         | 931044.91                |\n",
      "+------------+------------+--------------------------+\n",
      "| 2022       | 10         | 946128.94                |\n",
      "+------------+------------+--------------------------+\n",
      "| 2022       | 11         | 996390.87                |\n",
      "+------------+------------+--------------------------+\n",
      "| 2022       | 12         | 976878.63                |\n",
      "+------------+------------+--------------------------+\n"
     ]
    }
   ],
   "source": [
    "from datetime import datetime\n",
    "\n",
    "header = transactions_rdd.first() # Getting the first row as header\n",
    "header_columns = header.split(\",\") # Splitting the header into individual columns\n",
    "\n",
    "# Creating a dictionary to map column names to their index\n",
    "column_indices = {column_name.strip('\"'): index for index, column_name in enumerate(header_columns)}\n",
    "\n",
    "# Extracting the necessary column indices dynamically\n",
    "trans_timestamp_idx = column_indices['trans_timestamp']\n",
    "amt_idx = column_indices['amt']\n",
    "is_fraud_idx = column_indices['is_fraud']\n",
    "\n",
    "# Calculating the summary of fraudulent transactions amount for each year, each month\n",
    "# Filtering rows where 'is_fraud' is '1'\n",
    "# Mapping each row to a key-value pair of (year, month) and amount\n",
    "# Extracting the year and month from 'trans_timestamp'\n",
    "# Converting 'amt' to float\n",
    "# Summing the amounts for each (year, month) key\n",
    "# Sorting by (year, month)\n",
    "\n",
    "summary_by_year_month = transactions_rdd_cleaned \\\n",
    "    .filter(lambda row: row.split(\",\")[is_fraud_idx] == '1') \\\n",
    "    .map(lambda row: (( \n",
    "        datetime.utcfromtimestamp(int(row.split(\",\")[trans_timestamp_idx])).strftime('%Y'),\n",
    "        datetime.utcfromtimestamp(int(row.split(\",\")[trans_timestamp_idx])).strftime('%m')), \n",
    "        float(row.split(\",\")[amt_idx]))) \\\n",
    "    .reduceByKey(lambda a, b: a + b) \\\n",
    "    .sortByKey() \\\n",
    "    .collect()\n",
    "\n",
    "# Printing the results in a complete tabular format \n",
    "print(\"Summary of fraudulent transactions by year and month:\\n\")\n",
    "print(\"+------------+------------+--------------------------+\")\n",
    "print(\"| {:<10} | {:<10} | {:<24} |\".format(\"Year\", \"Month\", \"Total Fraudulent Amt.($)\"))\n",
    "print(\"+------------+------------+--------------------------+\")\n",
    "for ((year, month), total_amt) in summary_by_year_month:\n",
    "    print(\"| {:<10} | {:<10} | {:<24.2f} |\".format(year, month, total_amt))\n",
    "    print(\"+------------+------------+--------------------------+\")\n"
   ]
  },
  {
   "cell_type": "markdown",
   "metadata": {},
   "source": [
    "1.3.2 List 20 mechants that suffered the most from fraudulent activities(i.e. 20 highest amount of monetary loss)."
   ]
  },
  {
   "cell_type": "code",
   "execution_count": 8,
   "metadata": {},
   "outputs": [
    {
     "name": "stdout",
     "output_type": "stream",
     "text": [
      "Top 20 Merchants by Total Fraudulent Loss:\n",
      "\n",
      "+---------------------------------+--------------------------+\n",
      "| Merchant Name                   | Total Loss ($)           |\n",
      "+---------------------------------+--------------------------+\n",
      "| Kuhn LLC                        | 247132.85                |\n",
      "+---------------------------------+--------------------------+\n",
      "| Fisher-Schowalter               | 245249.72                |\n",
      "+---------------------------------+--------------------------+\n",
      "| Predovic Inc                    | 245216.96                |\n",
      "+---------------------------------+--------------------------+\n",
      "| Schumm PLC                      | 244274.90                |\n",
      "+---------------------------------+--------------------------+\n",
      "| Volkman-Predovic                | 242043.18                |\n",
      "+---------------------------------+--------------------------+\n",
      "| Bashirian Group                 | 241761.89                |\n",
      "+---------------------------------+--------------------------+\n",
      "| Labadie, Treutel and Bode       | 240524.11                |\n",
      "+---------------------------------+--------------------------+\n",
      "| Mosciski, Ziemann and Farrell   | 240481.56                |\n",
      "+---------------------------------+--------------------------+\n",
      "| Kerluke-Abshire                 | 237561.50                |\n",
      "+---------------------------------+--------------------------+\n",
      "| Reichert, Rowe and Mraz         | 235672.91                |\n",
      "+---------------------------------+--------------------------+\n",
      "| Zboncak, Rowe and Murazik       | 235290.91                |\n",
      "+---------------------------------+--------------------------+\n",
      "| Kozey-Boehm                     | 234748.18                |\n",
      "+---------------------------------+--------------------------+\n",
      "| Jast Ltd                        | 234568.53                |\n",
      "+---------------------------------+--------------------------+\n",
      "| Rempel Inc                      | 234419.87                |\n",
      "+---------------------------------+--------------------------+\n",
      "| Heathcote, Yost and Kertzmann   | 232311.35                |\n",
      "+---------------------------------+--------------------------+\n",
      "| Ankunding LLC                   | 232266.87                |\n",
      "+---------------------------------+--------------------------+\n",
      "| Kassulke PLC                    | 231847.40                |\n",
      "+---------------------------------+--------------------------+\n",
      "| Heathcote LLC                   | 231137.89                |\n",
      "+---------------------------------+--------------------------+\n",
      "| Altenwerth, Cartwright and Koss | 230586.56                |\n",
      "+---------------------------------+--------------------------+\n",
      "| Terry-Huel                      | 230563.98                |\n",
      "+---------------------------------+--------------------------+\n"
     ]
    }
   ],
   "source": [
    "import csv\n",
    "from io import StringIO\n",
    "\n",
    "# Function to split a row using csv reader to correctly handle commas within quotes\n",
    "def parse_row(row):\n",
    "    return next(csv.reader(StringIO(row)))\n",
    "\n",
    "# Filtering fraudulent transactions and map to (merchant_id, (amount, geolocation_id))\n",
    "fraud_transactions_rdd = transactions_rdd_cleaned \\\n",
    "    .filter(lambda row: parse_row(row)[3] == '1') \\\n",
    "    .map(lambda row: (parse_row(row)[6], (float(parse_row(row)[2]), parse_row(row)[5])))\n",
    "\n",
    "# Mapping merchants RDD to (merchant_id, (merchant_name, geolocation_id))\n",
    "merchant_rdd = merchants_rdd_cleaned.map(lambda row: (parse_row(row)[2], (parse_row(row)[0], parse_row(row)[1])))\n",
    "\n",
    "# Joining the transactions and merchants on merchant_id and geolocation_id\n",
    "joined_rdd = fraud_transactions_rdd.join(merchant_rdd) \\\n",
    "    .filter(lambda x: x[1][0][1] == x[1][1][1]) \\\n",
    "    .map(lambda x: (x[1][1][0], x[1][0][0]))  # Mapping to (merchant_name, loss_amount)\n",
    "\n",
    "# Aggregating losses by merchant name\n",
    "loss_by_merchant = joined_rdd.reduceByKey(lambda a, b: a + b)\n",
    "\n",
    "# Getting the top 20 merchants with the highest loss\n",
    "top_20_merchants = loss_by_merchant.takeOrdered(20, key=lambda x: -x[1])\n",
    "\n",
    "# Printing the top 20 merchants by total fraudulent loss in a tabular format\n",
    "print(\"Top 20 Merchants by Total Fraudulent Loss:\\n\")\n",
    "print(\"+---------------------------------+--------------------------+\")\n",
    "print(\"| {:<31} | {:<24} |\".format(\"Merchant Name\", \"Total Loss ($)\"))\n",
    "print(\"+---------------------------------+--------------------------+\")\n",
    "\n",
    "for merchant, total_loss in top_20_merchants:\n",
    "    print(\"| {:<31} | {:<24.2f} |\".format(merchant, total_loss))\n",
    "    print(\"+---------------------------------+--------------------------+\")"
   ]
  },
  {
   "cell_type": "markdown",
   "metadata": {},
   "source": [
    "## Part 2. Working with DataFrames  <a class=\"anchor\" name=\"2-dataframes\"></a>\n",
    "In this section, we need to load the given datasets into PySpark DataFrames and use DataFrame functions to answer the queries.\n",
    "### 2.1 Data Preparation and Loading\n",
    "\n",
    "2.1.1. Load the CSV files into separate dataframes. When you create your dataframes, please refer to the metadata file and think about the appropriate data type for each column."
   ]
  },
  {
   "cell_type": "code",
   "execution_count": 9,
   "metadata": {},
   "outputs": [],
   "source": [
    "from pyspark.sql.types import *\n",
    "\n",
    "# Defining the schema for each CSV file based on metadata (example schema)\n",
    "transactions_schema = StructType([\n",
    "    StructField(\"id_transaction\", StringType(), True),\n",
    "    StructField(\"trans_timestamp\", LongType(), True),\n",
    "    StructField(\"amt\", FloatType(), True),\n",
    "    StructField(\"is_fraud\", IntegerType(), True),\n",
    "    StructField(\"id_customer\", StringType(), True),\n",
    "    StructField(\"id_geolocation\", IntegerType(), True),\n",
    "    StructField(\"id_merchant\", IntegerType(), True),\n",
    "    StructField(\"id_category\", IntegerType(), True)\n",
    "])\n",
    "\n",
    "customers_schema = StructType([\n",
    "    StructField(\"id_customer\", StringType(), True),\n",
    "    StructField(\"cc_num\", StringType(), True),\n",
    "    StructField(\"firstname\", StringType(), True),\n",
    "    StructField(\"lastname\", StringType(), True),\n",
    "    StructField(\"gender\", StringType(), True),\n",
    "    StructField(\"address\", StringType(), True),\n",
    "    StructField(\"job\", StringType(), True),\n",
    "    StructField(\"dob\", DateType(), True),\n",
    "    StructField(\"acct_num\", StringType(), True),\n",
    "    StructField(\"id_geolocation\", IntegerType(), True)\n",
    "])\n",
    "\n",
    "merchants_schema = StructType([\n",
    "    StructField(\"merchant\", StringType(), True),\n",
    "    StructField(\"id_geolocation\", IntegerType(), True),\n",
    "    StructField(\"id_merchant\", IntegerType(), True)\n",
    "])\n",
    "\n",
    "geolocation_schema = StructType([\n",
    "    StructField(\"city\", StringType(), True),\n",
    "    StructField(\"state\", StringType(), True),\n",
    "    StructField(\"zip\", StringType(), True),\n",
    "    StructField(\"lat\", FloatType(), True),\n",
    "    StructField(\"long\", FloatType(), True),\n",
    "    StructField(\"id_geolocation\", IntegerType(), True),\n",
    "    StructField(\"population\", IntegerType(), True)\n",
    "])\n",
    "\n",
    "category_schema = StructType([\n",
    "    StructField(\"category\", StringType(), True),\n",
    "    StructField(\"id_category\", IntegerType(), True)\n",
    "])\n",
    "\n",
    "# Loading DataFrames\n",
    "transactions_df = spark.read.csv(\"transactions.csv\", header=True, schema=transactions_schema)\n",
    "customers_df = spark.read.csv(\"customers.csv\", header=True, schema=customers_schema)\n",
    "merchants_df = spark.read.csv(\"merchant.csv\", header=True, schema=merchants_schema)\n",
    "geolocation_df = spark.read.csv(\"geolocation.csv\", header=True, schema=geolocation_schema)\n",
    "category_df = spark.read.csv(\"category.csv\", header=True, schema=category_schema)"
   ]
  },
  {
   "cell_type": "markdown",
   "metadata": {},
   "source": [
    "2.1.2 Display the schema of the dataframes."
   ]
  },
  {
   "cell_type": "code",
   "execution_count": 10,
   "metadata": {},
   "outputs": [
    {
     "name": "stdout",
     "output_type": "stream",
     "text": [
      "root\n",
      " |-- id_transaction: string (nullable = true)\n",
      " |-- trans_timestamp: long (nullable = true)\n",
      " |-- amt: float (nullable = true)\n",
      " |-- is_fraud: integer (nullable = true)\n",
      " |-- id_customer: string (nullable = true)\n",
      " |-- id_geolocation: integer (nullable = true)\n",
      " |-- id_merchant: integer (nullable = true)\n",
      " |-- id_category: integer (nullable = true)\n",
      "\n",
      "root\n",
      " |-- id_customer: string (nullable = true)\n",
      " |-- cc_num: string (nullable = true)\n",
      " |-- firstname: string (nullable = true)\n",
      " |-- lastname: string (nullable = true)\n",
      " |-- gender: string (nullable = true)\n",
      " |-- address: string (nullable = true)\n",
      " |-- job: string (nullable = true)\n",
      " |-- dob: date (nullable = true)\n",
      " |-- acct_num: string (nullable = true)\n",
      " |-- id_geolocation: integer (nullable = true)\n",
      "\n",
      "root\n",
      " |-- merchant: string (nullable = true)\n",
      " |-- id_geolocation: integer (nullable = true)\n",
      " |-- id_merchant: integer (nullable = true)\n",
      "\n",
      "root\n",
      " |-- city: string (nullable = true)\n",
      " |-- state: string (nullable = true)\n",
      " |-- zip: string (nullable = true)\n",
      " |-- lat: float (nullable = true)\n",
      " |-- long: float (nullable = true)\n",
      " |-- id_geolocation: integer (nullable = true)\n",
      " |-- population: integer (nullable = true)\n",
      "\n",
      "root\n",
      " |-- category: string (nullable = true)\n",
      " |-- id_category: integer (nullable = true)\n",
      "\n"
     ]
    }
   ],
   "source": [
    "# Displaying schema for each DataFrame\n",
    "transactions_df.printSchema()\n",
    "customers_df.printSchema()\n",
    "merchants_df.printSchema()\n",
    "geolocation_df.printSchema()\n",
    "category_df.printSchema()"
   ]
  },
  {
   "cell_type": "markdown",
   "metadata": {},
   "source": [
    "Think about: When the dataset is large, do you need all columns? How to optimize memory usage? Do you need a customized data partitioning strategy? (note: You don’t need to answer these questions.)"
   ]
  },
  {
   "cell_type": "markdown",
   "metadata": {},
   "source": [
    "### 2.2 QueryAnalysis  <a class=\"anchor\" name=\"2.2\"></a>\n",
    "Implement the following queries using dataframes. You need to be able to perform operations like filtering, sorting, joining and group by using the functions provided by the DataFrame API.   \n",
    "\n",
    "2.2.1. Transform the “trans_timestamp” to multiple columns: trans_year, trans_month, trans_day, trans_hour(24-hour format). (note: you can reuse your UDF from part 1 or create a new one.)"
   ]
  },
  {
   "cell_type": "code",
   "execution_count": 11,
   "metadata": {},
   "outputs": [
    {
     "name": "stdout",
     "output_type": "stream",
     "text": [
      "+--------------------+---------------+----------+-----------+---------+----------+\n",
      "|      id_transaction|trans_timestamp|trans_year|trans_month|trans_day|trans_hour|\n",
      "+--------------------+---------------+----------+-----------+---------+----------+\n",
      "|0c20530e90719213c...|     1622367050|      2021|          5|       30|        19|\n",
      "|984fc48fc946605de...|     1609183538|      2020|         12|       29|         6|\n",
      "|b13ff47c73689bc4c...|     1655595319|      2022|          6|       19|         9|\n",
      "|7cffae35cab67d941...|     1613234460|      2021|          2|       14|         3|\n",
      "|22e01cb3403a4c7ce...|     1605030979|      2020|         11|       11|         4|\n",
      "|1d174d018228efcd1...|     1608989049|      2020|         12|       27|         0|\n",
      "|532536d65907e08d9...|     1650997797|      2022|          4|       27|         4|\n",
      "|32d76f65b7512afbd...|     1649986601|      2022|          4|       15|        11|\n",
      "|c3f29bca602c9e2e9...|     1617032215|      2021|          3|       30|         2|\n",
      "|c56ef2e4a43d86712...|     1609250028|      2020|         12|       30|         0|\n",
      "+--------------------+---------------+----------+-----------+---------+----------+\n",
      "only showing top 10 rows\n",
      "\n"
     ]
    }
   ],
   "source": [
    "from pyspark.sql.functions import col, from_unixtime, year, month, dayofmonth, hour\n",
    "\n",
    "# Transforming trans_timestamp to multiple columns\n",
    "transactions_df = transactions_df.withColumn(\"trans_year\", year(from_unixtime(col(\"trans_timestamp\")))) \\\n",
    "                                 .withColumn(\"trans_month\", month(from_unixtime(col(\"trans_timestamp\")))) \\\n",
    "                                 .withColumn(\"trans_day\", dayofmonth(from_unixtime(col(\"trans_timestamp\")))) \\\n",
    "                                 .withColumn(\"trans_hour\", hour(from_unixtime(col(\"trans_timestamp\"))))\n",
    "\n",
    "# Displaying the updated DataFrame\n",
    "transactions_df.select(\"id_transaction\", \"trans_timestamp\", \"trans_year\", \"trans_month\", \"trans_day\", \"trans_hour\").show(10)\n"
   ]
  },
  {
   "cell_type": "markdown",
   "metadata": {},
   "source": [
    "2.2.2. Calculate the total amount of fraudulent transactions for each hour. Show the result in a table and plot a bar chart."
   ]
  },
  {
   "cell_type": "code",
   "execution_count": 12,
   "metadata": {},
   "outputs": [
    {
     "name": "stdout",
     "output_type": "stream",
     "text": [
      "+----------+--------------------+\n",
      "|trans_hour|total_fraudulent_amt|\n",
      "+----------+--------------------+\n",
      "|0         |1870050.55          |\n",
      "|1         |1813464.09          |\n",
      "|2         |1922893.50          |\n",
      "|3         |1956812.05          |\n",
      "|4         |149472.43           |\n",
      "|5         |148780.80           |\n",
      "|6         |137913.87           |\n",
      "|7         |150417.17           |\n",
      "|8         |142853.59           |\n",
      "|9         |139472.49           |\n",
      "|10        |156019.69           |\n",
      "|11        |143905.08           |\n",
      "|12        |435847.47           |\n",
      "|13        |406087.74           |\n",
      "|14        |373030.29           |\n",
      "|15        |427643.72           |\n",
      "|16        |424106.05           |\n",
      "|17        |422738.81           |\n",
      "|18        |452547.24           |\n",
      "|19        |447639.08           |\n",
      "|20        |391790.53           |\n",
      "|21        |436600.91           |\n",
      "|22        |10170171.30         |\n",
      "|23        |10199615.02         |\n",
      "+----------+--------------------+\n",
      "\n"
     ]
    },
    {
     "data": {
      "image/png": "[encoded data removed]",
      "text/plain": [
       "<Figure size 1600x900 with 1 Axes>"
      ]
     },
     "metadata": {},
     "output_type": "display_data"
    }
   ],
   "source": [
    "from pyspark.sql.functions import sum as spark_sum, udf\n",
    "\n",
    "# Defining a UDF to format numbers to 2 decimal places as a string\n",
    "def format_decimal(val):\n",
    "    return f\"{val:.2f}\"\n",
    "\n",
    "format_decimal_udf = udf(format_decimal, StringType())\n",
    "\n",
    "# Calculating total amount of fraudulent transactions for each hour\n",
    "fraudulent_transactions_by_hour = transactions_df.filter(col(\"is_fraud\") == 1) \\\n",
    "                                                 .groupBy(\"trans_hour\") \\\n",
    "                                                 .agg(spark_sum(\"amt\").alias(\"total_fraudulent_amt\")) \\\n",
    "                                                 .withColumn(\"total_fraudulent_amt\", format_decimal_udf(col(\"total_fraudulent_amt\"))) \\\n",
    "                                                 .orderBy(\"trans_hour\")\n",
    "\n",
    "# Getting the total number of rows\n",
    "total_rows = fraudulent_transactions_by_hour.count()\n",
    "\n",
    "# Displaying all rows with amounts rounded to 2 decimal places as regular numbers\n",
    "fraudulent_transactions_by_hour.show(total_rows, truncate=False)\n",
    "\n",
    "\n",
    "\n",
    "# Plotting (assuming matplotlib is available)\n",
    "import matplotlib.pyplot as plt\n",
    "\n",
    "# Converting to Pandas DataFrame for plotting\n",
    "hourly_data = fraudulent_transactions_by_hour.toPandas()\n",
    "\n",
    "# Converting the 'total_fraudulent_amt' back to float for plotting\n",
    "hourly_data['total_fraudulent_amt'] = hourly_data['total_fraudulent_amt'].astype(float)\n",
    "\n",
    "# Plotting the data\n",
    "plt.figure(figsize=(16, 9))\n",
    "plt.bar(hourly_data['trans_hour'], hourly_data['total_fraudulent_amt'])\n",
    "plt.xlabel('Hour of the Day(24 Hour Format)')\n",
    "plt.ylabel('Total Fraudulent Amount ($)')\n",
    "plt.title('Total Amount of Fraudulent Transactions by Hour')\n",
    "plt.xticks(range(0, 24))  \n",
    "plt.ticklabel_format(style='plain', axis='y')  \n",
    "plt.grid(axis='y', linestyle=':', alpha=0.75)\n",
    "plt.show()"
   ]
  },
  {
   "cell_type": "markdown",
   "metadata": {},
   "source": [
    "2.2.3 Print number of small transactions(<=$100) from female who was born after 1990. "
   ]
  },
  {
   "cell_type": "code",
   "execution_count": 13,
   "metadata": {},
   "outputs": [
    {
     "name": "stdout",
     "output_type": "stream",
     "text": [
      "Number of small transactions (<= $100) from females born after 1990: 1889691\n"
     ]
    }
   ],
   "source": [
    "# Filtering customers who are female and born after 1990\n",
    "filtered_customers = customers_df.filter((col(\"gender\") == \"F\") & (year(col(\"dob\")) > 1990))\n",
    "\n",
    "# Joining with transactions to find small transactions\n",
    "# Joining the transactions DataFrame with the filtered customers DataFrame on 'id_customer'\n",
    "# Filtering for transactions where the amount is less than or equal to $100\n",
    "small_transactions = transactions_df.join(filtered_customers, \"id_customer\") \\\n",
    "                                    .filter(col(\"amt\") <= 100) \\\n",
    "                                    .count()\n",
    "\n",
    "print(f\"Number of small transactions (<= $100) from females born after 1990: {small_transactions}\")"
   ]
  },
  {
   "cell_type": "markdown",
   "metadata": {},
   "source": [
    "2.2.4 We consider a fraud-to-sales(F2S) ratio of 3% as a benchmark. If a merchant has F2S >= 3%, it is considered operating at very high rick. How many companies are operating at very high risk? (note: The answer should be a single number.)"
   ]
  },
  {
   "cell_type": "code",
   "execution_count": 14,
   "metadata": {},
   "outputs": [
    {
     "name": "stdout",
     "output_type": "stream",
     "text": [
      "Number of companies operating at very high risk (F2S >= 3%): 250\n"
     ]
    }
   ],
   "source": [
    "from pyspark.sql.functions import col, sum as spark_sum, when\n",
    "\n",
    "# Grouping transactions by merchant_id and geolocation_id, summing sales and fraudulent amounts\n",
    "sales_by_merchant = transactions_df.groupBy(\"id_merchant\", \"id_geolocation\") \\\n",
    "    .agg(\n",
    "        spark_sum(\"amt\").alias(\"total_sales\"),\n",
    "        spark_sum(when(col(\"is_fraud\") == 1, col(\"amt\")).otherwise(0)).alias(\"total_fraud\")\n",
    "    )\n",
    "\n",
    "# Joining sales data with merchants DataFrame to get merchant names\n",
    "merged_df = sales_by_merchant.join(merchants_df, (sales_by_merchant.id_merchant == merchants_df.id_merchant) & \n",
    "                                   (sales_by_merchant.id_geolocation == merchants_df.id_geolocation)) \\\n",
    "    .groupBy(\"merchant\") \\\n",
    "    .agg(\n",
    "        spark_sum(\"total_sales\").alias(\"total_sales\"),\n",
    "        spark_sum(\"total_fraud\").alias(\"total_fraud\")\n",
    "    )\n",
    "\n",
    "# Calculating the F2S ratio and filter merchants at high risk\n",
    "high_risk_merchants = merged_df.withColumn(\"F2S_ratio\", col(\"total_fraud\") / col(\"total_sales\")) \\\n",
    "    .filter(col(\"F2S_ratio\") >= 0.03)\n",
    "\n",
    "# Counting the number of high-risk companies\n",
    "high_risk_count = high_risk_merchants.count()\n",
    "\n",
    "# Displaying the number of high-risk companies\n",
    "print(f\"Number of companies operating at very high risk (F2S >= 3%): {high_risk_count}\")"
   ]
  },
  {
   "cell_type": "markdown",
   "metadata": {},
   "source": [
    "2.2.5 “Abbott and Adam Group” wants to know their total revenue(sum of non-fraud amt) in each state they operate, show the top 20 results by revenue in descending order. You output should include merchant name, state and total revenue. (note: Abbott and Adam group include all merchants who name start with “Abbott” or “Adam”.)"
   ]
  },
  {
   "cell_type": "code",
   "execution_count": 15,
   "metadata": {},
   "outputs": [
    {
     "name": "stdout",
     "output_type": "stream",
     "text": [
      "+--------------------------+-----+-------------+\n",
      "|merchant                  |state|total_revenue|\n",
      "+--------------------------+-----+-------------+\n",
      "|Abbott-Rogahn             |CA   |352865.97    |\n",
      "|Adams, Kovacek and Kuhlman|CA   |279898.79    |\n",
      "|Adams-Barrows             |CA   |278485.79    |\n",
      "|Abbott-Rogahn             |TX   |247959.91    |\n",
      "|Adams-Barrows             |TX   |199538.57    |\n",
      "|Adams, Kovacek and Kuhlman|TX   |187685.37    |\n",
      "|Abbott-Rogahn             |NY   |182627.71    |\n",
      "|Abbott-Rogahn             |FL   |178579.29    |\n",
      "|Adams, Kovacek and Kuhlman|NY   |155427.12    |\n",
      "|Adams-Barrows             |FL   |154059.64    |\n",
      "|Adams, Kovacek and Kuhlman|FL   |150222.35    |\n",
      "|Adams-Barrows             |NY   |145255.9     |\n",
      "|Abbott-Rogahn             |IL   |119764.72    |\n",
      "|Abbott-Rogahn             |PA   |118146.56    |\n",
      "|Abbott-Rogahn             |OH   |105306.52    |\n",
      "|Adams, Kovacek and Kuhlman|PA   |99076.17     |\n",
      "|Adams, Kovacek and Kuhlman|OH   |98207.82     |\n",
      "|Abbott-Rogahn             |GA   |97967.02     |\n",
      "|Adams, Kovacek and Kuhlman|NC   |97072.05     |\n",
      "|Abbott-Rogahn             |MI   |93076.11     |\n",
      "+--------------------------+-----+-------------+\n",
      "\n"
     ]
    }
   ],
   "source": [
    "from pyspark.sql.functions import col, sum as spark_sum, round\n",
    "\n",
    "# Filtering for relevant merchants whose names start with 'Abbott' or 'Adam'\n",
    "relevant_merchants = merchants_df.filter(col(\"merchant\").startswith(\"Abbott\") | col(\"merchant\").startswith(\"Adam\"))\n",
    "\n",
    "# Joining with transactions and geolocation to calculate revenue per state\n",
    "# Joining transactions DataFrame with relevant merchants DataFrame on 'id_merchant'\n",
    "# Joining the resulting DataFrame with geolocation DataFrame on 'id_geolocation'\n",
    "# Filtering out fraudulent transactions\n",
    "# Grouping by merchant and state\n",
    "# Calculating the total revenue per state and rounding to 2 decimal places\n",
    "# Ordering the results by total revenue in descending order and Limiting the results to the top 20\n",
    "revenue_by_state = transactions_df.join(relevant_merchants, \"id_merchant\") \\\n",
    "                                  .join(geolocation_df, \"id_geolocation\") \\\n",
    "                                  .filter(col(\"is_fraud\") == 0) \\\n",
    "                                  .groupBy(\"merchant\", \"state\") \\\n",
    "                                  .agg(round(spark_sum(\"amt\"), 2).alias(\"total_revenue\")) \\\n",
    "                                  .orderBy(col(\"total_revenue\").desc()) \\\n",
    "                                  .limit(20)\n",
    "\n",
    "# Displaying the result with total_revenue in 2 decimal places\n",
    "revenue_by_state.show(truncate=False)"
   ]
  },
  {
   "cell_type": "markdown",
   "metadata": {},
   "source": [
    "2.2.6 For each year (2020-2022), aggregate the number(count) of fraudulent transactions every hour. Plot an appropriate figure and observe the trend. Write your observations from your plot (e.g. Is fraudulent activities increasing or decreasing? Are those frauds more active after midnight or during business hours?)."
   ]
  },
  {
   "cell_type": "code",
   "execution_count": 16,
   "metadata": {},
   "outputs": [
    {
     "data": {
      "image/png": "[encoded data removed]",
      "text/plain": [
       "<Figure size 1600x900 with 1 Axes>"
      ]
     },
     "metadata": {},
     "output_type": "display_data"
    }
   ],
   "source": [
    "# Filtering transactions for the years 2020-2022\n",
    "filtered_transactions = transactions_df.filter((col(\"trans_year\").between(2020, 2022)) & (col(\"is_fraud\") == 1))\n",
    "\n",
    "# Aggregating the number of fraudulent transactions every hour for each year\n",
    "fraud_by_hour_per_year = filtered_transactions.groupBy(\"trans_year\", \"trans_hour\") \\\n",
    "                                              .count() \\\n",
    "                                              .orderBy(\"trans_year\", \"trans_hour\")\n",
    "\n",
    "# Converting to Pandas for plotting\n",
    "fraud_by_hour_per_year_pandas = fraud_by_hour_per_year.toPandas()\n",
    "\n",
    "# Plotting using matplotlib\n",
    "import matplotlib.pyplot as plt\n",
    "\n",
    "plt.figure(figsize=(16, 9))\n",
    "\n",
    "# Plotting each year separately\n",
    "# Looping through each unique year in the data\n",
    "# Creating a subset of data for the current year\n",
    "# Plotting the number of fraudulent transactions by hour for the current year\n",
    "for year in fraud_by_hour_per_year_pandas['trans_year'].unique():\n",
    "    subset = fraud_by_hour_per_year_pandas[fraud_by_hour_per_year_pandas['trans_year'] == year]\n",
    "    plt.plot(subset['trans_hour'], subset['count'], marker='o', label=f'{year}')\n",
    "\n",
    "plt.xlabel('Hour of the Day')\n",
    "plt.ylabel('Number of Fraudulent Transactions')\n",
    "plt.title('Fraudulent Transactions by Hour (2020-2022)')\n",
    "plt.xticks(range(0, 24)) \n",
    "plt.legend(title='Year')\n",
    "plt.grid(axis='y', linestyle=':', alpha=0.75)\n",
    "plt.grid(axis='x', linestyle=':', alpha=0.75)\n",
    "plt.show()"
   ]
  },
  {
   "cell_type": "markdown",
   "metadata": {},
   "source": [
    "Observations:\n",
    "\n",
    "This line plot visualizes the number of fraudulent transactions per hour of the day, aggregated separately for each year from 2020 to 2022. Let's break down the key observations:\n",
    "\n",
    "Hour of the Day:\n",
    "The x-axis represents the hours of the day (0-23), where 0 corresponds to midnight, and 23 corresponds to 11 PM.\n",
    "The y-axis shows the total number of fraudulent transactions that occurred at each hour of the day.\n",
    "\n",
    "General Trends Across Years:\n",
    "\n",
    "Midnight to 2 AM: There is a consistent number of fraudulent transactions across all three years during the early hours (midnight to 2 AM). The number of fraudulent transactions is relatively high during this period, with a slight increase around 1 AM.\n",
    "\n",
    "3 AM to 7 PM: There is a sharp drop in fraudulent activity starting from 3 AM, continuing throughout the day until around 8 PM. The number of fraudulent transactions remains consistently low across these hours.\n",
    "\n",
    "8 PM to 11 PM: There is a significant and sharp increase in fraudulent transactions around 9 PM, peaking at 11 PM.\n",
    "\n",
    "Specific Yearly Observations:\n",
    "\n",
    "2020: The line representing 2020 shows a slightly higher number of fraudulent transactions during the early hours (midnight to 3 AM) compared to the other two years. However, the overall trend mirrors the general trend described above.\n",
    "\n",
    "2021: This year follows the same pattern as 2020 but shows a slight dip in the number of fraudulent transactions around midnight to 2 AM compared to 2020.\n",
    "\n",
    "2022: The trend in 2022 is nearly identical to 2021, with only minor variations in the number of fraudulent transactions during peak hours.\n",
    "\n",
    "Peak Hours for Fraudulent Activity:\n",
    "The most noticeable peaks in fraudulent activity are at midnight and around 11 PM. This suggests that fraudulent transactions are highly concentrated at these times, potentially indicating a strategy used by fraudsters to exploit certain vulnerabilities during these late hours.\n",
    "\n",
    "Dip in Activity:\n",
    "From around 3 AM until the evening (around 9 PM), there is a notable dip in fraudulent transactions. This might reflect a lower volume of overall transactions during these hours, reducing opportunities for fraud, or possibly increased vigilance during business hours.\n",
    "\n",
    "Implications:\n",
    "The data suggests that fraudulent transactions are more likely to occur late at night, particularly just after midnight and late in the evening. This might indicate that fraudsters are targeting systems when they assume there is less oversight or during periods of low transaction volumes.\n",
    "\n",
    "Conclusion:\n",
    "The graph highlights key patterns in fraudulent transactions over different hours of the day for the years 2020 to 2022. The peak hours suggest potential vulnerabilities in the late-night and early morning periods, which could be crucial for designing targeted fraud prevention strategies during these times."
   ]
  },
  {
   "cell_type": "markdown",
   "metadata": {},
   "source": [
    "### Part 3 RDDs vs DataFrame vs Spark SQL <a class=\"anchor\" name=\"part-3\"></a>\n",
    "Implement the following queries using RDDs, DataFrame in SparkSQL separately. Log the  time taken for each query in each approach using the “%%time” built-in magic command in Jupyter Notebook and discuss the performance difference between these 3 approaches."
   ]
  },
  {
   "cell_type": "markdown",
   "metadata": {},
   "source": [
    "#### Query: <strong>We consider city with population < 50K as small(denoted as S); 50K-200K as medium(M), >200K as large(L). For each city type, using customer age bucket of 10(e.g. 0-9, 10-19, 20-29…), show the percentage ratio of fraudulent transactions in each age bucket.</strong>"
   ]
  },
  {
   "cell_type": "code",
   "execution_count": 17,
   "metadata": {},
   "outputs": [],
   "source": [
    "from pyspark.sql.functions import col, udf\n",
    "from pyspark.sql.types import StringType\n",
    "from datetime import datetime\n",
    "\n",
    "# Defining UDF for population classification based on size\n",
    "def classify_population(population):\n",
    "    if population < 50000:\n",
    "        return \"S\"\n",
    "    elif 50000 <= population <= 200000:\n",
    "        return \"M\"\n",
    "    else:\n",
    "        return \"L\"\n",
    "\n",
    "# Defining UDF for classifying age into buckets\n",
    "def classify_age_bucket(dob):\n",
    "    current_year = datetime.now().year # Getting the current year\n",
    "    age = current_year - dob.year # Calculating age based on year of birth\n",
    "    return f\"{age//10*10}-{(age//10*10) + 9}\" # Classifying age into 10-year buckets\n",
    "\n",
    "population_udf = udf(classify_population, StringType())\n",
    "age_bucket_udf = udf(classify_age_bucket, StringType())\n",
    "\n",
    "# Joining transactions, customers, and geolocation data\n",
    "transactions_with_customers_df = transactions_df.join(customers_df, \"id_customer\") \\\n",
    "                                                .join(geolocation_df, \"id_geolocation\") \\\n",
    "                                                .withColumn(\"city_type\", population_udf(col(\"population\"))) \\\n",
    "                                                .withColumn(\"age_bucket\", age_bucket_udf(col(\"dob\")))"
   ]
  },
  {
   "cell_type": "markdown",
   "metadata": {},
   "source": [
    "#### 3.1. RDD Implementation"
   ]
  },
  {
   "cell_type": "code",
   "execution_count": 18,
   "metadata": {},
   "outputs": [
    {
     "name": "stdout",
     "output_type": "stream",
     "text": [
      "+----------------+------------+-------------------------+\n",
      "| City Type      | Age Bucket | Fraud Percentage (%)     |\n",
      "+----------------+------------+-------------------------+\n",
      "| L              | 20-29      | 0.189                   |\n",
      "+----------------+------------+-------------------------+\n",
      "| L              | 30-39      | 0.189                   |\n",
      "+----------------+------------+-------------------------+\n",
      "| L              | 40-49      | 0.190                   |\n",
      "+----------------+------------+-------------------------+\n",
      "| L              | 50-59      | 0.407                   |\n",
      "+----------------+------------+-------------------------+\n",
      "| L              | 60-69      | 0.427                   |\n",
      "+----------------+------------+-------------------------+\n",
      "| L              | 70-79      | 0.430                   |\n",
      "+----------------+------------+-------------------------+\n",
      "| L              | 80-89      | 0.483                   |\n",
      "+----------------+------------+-------------------------+\n",
      "| L              | 90-99      | 0.438                   |\n",
      "+----------------+------------+-------------------------+\n",
      "| M              | 20-29      | 0.184                   |\n",
      "+----------------+------------+-------------------------+\n",
      "| M              | 30-39      | 0.183                   |\n",
      "+----------------+------------+-------------------------+\n",
      "| M              | 40-49      | 0.193                   |\n",
      "+----------------+------------+-------------------------+\n",
      "| M              | 50-59      | 0.392                   |\n",
      "+----------------+------------+-------------------------+\n",
      "| M              | 60-69      | 0.428                   |\n",
      "+----------------+------------+-------------------------+\n",
      "| M              | 70-79      | 0.421                   |\n",
      "+----------------+------------+-------------------------+\n",
      "| M              | 80-89      | 0.332                   |\n",
      "+----------------+------------+-------------------------+\n",
      "| M              | 90-99      | 0.395                   |\n",
      "+----------------+------------+-------------------------+\n",
      "| S              | 20-29      | 0.198                   |\n",
      "+----------------+------------+-------------------------+\n",
      "| S              | 30-39      | 0.202                   |\n",
      "+----------------+------------+-------------------------+\n",
      "| S              | 40-49      | 0.188                   |\n",
      "+----------------+------------+-------------------------+\n",
      "| S              | 50-59      | 0.383                   |\n",
      "+----------------+------------+-------------------------+\n",
      "| S              | 60-69      | 0.432                   |\n",
      "+----------------+------------+-------------------------+\n",
      "| S              | 70-79      | 0.417                   |\n",
      "+----------------+------------+-------------------------+\n",
      "| S              | 80-89      | 0.385                   |\n",
      "+----------------+------------+-------------------------+\n",
      "| S              | 90-99      | 0.438                   |\n",
      "+----------------+------------+-------------------------+\n",
      "CPU times: user 124 ms, sys: 15.5 ms, total: 140 ms\n",
      "Wall time: 2min 33s\n"
     ]
    }
   ],
   "source": [
    "%%time\n",
    "\n",
    "from pyspark.sql import Row\n",
    "\n",
    "# Converting DataFrame to RDD\n",
    "transactions_rdd = transactions_with_customers_df.rdd\n",
    "\n",
    "\n",
    "# RDD Implementation\n",
    "# Mapping each row to a key-value pair with (city_type, age_bucket) as the key and (is_fraud, 1) as the value\n",
    "# Reducing by key to sum up the fraud counts and total counts for each (city_type, age_bucket)\n",
    "# Calculating the fraud percentage for each (city_type, age_bucket)\n",
    "# Sorting the results by city_type and age_bucket\n",
    "\n",
    "rdd_result = transactions_rdd.map(lambda row: ((classify_population(row['population']), classify_age_bucket(row['dob'])), (row['is_fraud'], 1))) \\\n",
    "                             .reduceByKey(lambda a, b: (a[0] + b[0], a[1] + b[1])) \\\n",
    "                             .mapValues(lambda v: (v[0] / v[1]) * 100) \\\n",
    "                             .sortBy(lambda x: (x[0][0], x[0][1])) \\\n",
    "                             .collect()\n",
    "\n",
    "# Displaying the results in a tabular format\n",
    "print(\"+----------------+------------+-------------------------+\")\n",
    "print(\"| City Type      | Age Bucket | Fraud Percentage (%)     |\")\n",
    "print(\"+----------------+------------+-------------------------+\")\n",
    "\n",
    "for (city_type, age_bucket), fraud_percentage in rdd_result:\n",
    "    print(f\"| {city_type:<14} | {age_bucket:<10} | {fraud_percentage:<23.3f} |\")\n",
    "    print(\"+----------------+------------+-------------------------+\")\n"
   ]
  },
  {
   "cell_type": "markdown",
   "metadata": {},
   "source": [
    "#### 3.2. DataFrame Implementation"
   ]
  },
  {
   "cell_type": "code",
   "execution_count": 19,
   "metadata": {},
   "outputs": [
    {
     "name": "stdout",
     "output_type": "stream",
     "text": [
      "+---------+----------+----------------+\n",
      "|city_type|age_bucket|fraud_percentage|\n",
      "+---------+----------+----------------+\n",
      "|L        |20-29     |0.189           |\n",
      "|L        |30-39     |0.189           |\n",
      "|L        |40-49     |0.19            |\n",
      "|L        |50-59     |0.407           |\n",
      "|L        |60-69     |0.427           |\n",
      "|L        |70-79     |0.43            |\n",
      "|L        |80-89     |0.483           |\n",
      "|L        |90-99     |0.438           |\n",
      "|M        |20-29     |0.184           |\n",
      "|M        |30-39     |0.183           |\n",
      "|M        |40-49     |0.193           |\n",
      "|M        |50-59     |0.392           |\n",
      "|M        |60-69     |0.428           |\n",
      "|M        |70-79     |0.421           |\n",
      "|M        |80-89     |0.332           |\n",
      "|M        |90-99     |0.395           |\n",
      "|S        |20-29     |0.198           |\n",
      "|S        |30-39     |0.202           |\n",
      "|S        |40-49     |0.188           |\n",
      "|S        |50-59     |0.383           |\n",
      "|S        |60-69     |0.432           |\n",
      "|S        |70-79     |0.417           |\n",
      "|S        |80-89     |0.385           |\n",
      "|S        |90-99     |0.438           |\n",
      "+---------+----------+----------------+\n",
      "\n",
      "CPU times: user 68.7 ms, sys: 4.17 ms, total: 72.8 ms\n",
      "Wall time: 1min 10s\n"
     ]
    }
   ],
   "source": [
    "%%time\n",
    "\n",
    "from pyspark.sql.functions import col, sum as spark_sum, count, when\n",
    "\n",
    "# Calculating the percentage of fraudulent transactions by city type and age bucket\n",
    "# Grouping the DataFrame by city type and age bucket\n",
    "# Aggregating by calculating the fraud percentage and rounding to 3 decimal places\n",
    "fraud_df = transactions_with_customers_df.groupBy(\"city_type\", \"age_bucket\") \\\n",
    "    .agg(\n",
    "        round((spark_sum(when(col(\"is_fraud\") == 1, 1).otherwise(0)) / count(\"*\") * 100), 3).alias(\"fraud_percentage\")\n",
    "    )\n",
    "\n",
    "# Ordering the results by city type and age bucket\n",
    "ordered_fraud_df = fraud_df.orderBy(\"city_type\", \"age_bucket\")\n",
    "\n",
    "# Displaying the results\n",
    "ordered_fraud_df.show(ordered_fraud_df.count(), truncate=False)"
   ]
  },
  {
   "cell_type": "markdown",
   "metadata": {},
   "source": [
    "#### 3.3. Spark SQL Implementation"
   ]
  },
  {
   "cell_type": "code",
   "execution_count": 20,
   "metadata": {},
   "outputs": [
    {
     "name": "stdout",
     "output_type": "stream",
     "text": [
      "+---------+----------+----------------+\n",
      "|city_type|age_bucket|fraud_percentage|\n",
      "+---------+----------+----------------+\n",
      "|L        |20-29     |0.189           |\n",
      "|L        |30-39     |0.189           |\n",
      "|L        |40-49     |0.19            |\n",
      "|L        |50-59     |0.407           |\n",
      "|L        |60-69     |0.427           |\n",
      "|L        |70-79     |0.43            |\n",
      "|L        |80-89     |0.483           |\n",
      "|L        |90-99     |0.438           |\n",
      "|M        |20-29     |0.184           |\n",
      "|M        |30-39     |0.183           |\n",
      "|M        |40-49     |0.193           |\n",
      "|M        |50-59     |0.392           |\n",
      "|M        |60-69     |0.428           |\n",
      "|M        |70-79     |0.421           |\n",
      "|M        |80-89     |0.332           |\n",
      "|M        |90-99     |0.395           |\n",
      "|S        |20-29     |0.198           |\n",
      "|S        |30-39     |0.202           |\n",
      "|S        |40-49     |0.188           |\n",
      "|S        |50-59     |0.383           |\n",
      "|S        |60-69     |0.432           |\n",
      "|S        |70-79     |0.417           |\n",
      "|S        |80-89     |0.385           |\n",
      "|S        |90-99     |0.438           |\n",
      "+---------+----------+----------------+\n",
      "\n",
      "CPU times: user 57.2 ms, sys: 8.99 ms, total: 66.2 ms\n",
      "Wall time: 1min 14s\n"
     ]
    }
   ],
   "source": [
    "%%time\n",
    "\n",
    "# Registering the DataFrame as a temporary SQL view\n",
    "transactions_with_customers_df.createOrReplaceTempView(\"transactions_customers\")\n",
    "\n",
    "# Writing and executing the SQL query\n",
    "# Executing a SQL query to calculate the fraud percentage grouped by city type and age bucket, \n",
    "# rounding to 3 decimal places, and ordering the results\n",
    "fraud_sql_df = spark.sql(\"\"\"\n",
    "    SELECT city_type, \n",
    "           age_bucket,\n",
    "           ROUND((SUM(is_fraud) / COUNT(*) * 100), 3) AS fraud_percentage\n",
    "    FROM transactions_customers\n",
    "    GROUP BY city_type, age_bucket\n",
    "    ORDER BY city_type, age_bucket\n",
    "\"\"\")\n",
    "\n",
    "# Displaying all results without truncation\n",
    "fraud_sql_df.show(fraud_sql_df.count(), truncate=False)"
   ]
  },
  {
   "cell_type": "markdown",
   "metadata": {},
   "source": [
    "### 3.4 Which one is the easiest to implement in your opinion? Log the time taken for each query, and observe the query execution time, among RDD, DataFrame, SparkSQL, which is the fastest and why? Please include proper reference. (Maximum 500 words.)"
   ]
  },
  {
   "cell_type": "markdown",
   "metadata": {},
   "source": [
    "### Implementation Ease and Performance Comparison\n",
    "\n",
    "In my experience, **Spark SQL** is the easiest approach to implement. It allows for writing queries in a SQL-like syntax, which is intuitive and familiar to anyone with experience in traditional databases. This approach abstracts away much of the complexity associated with data processing, such as partitioning and optimization, making it accessible even to users who may not be as familiar with Spark's API.\n",
    "\n",
    "**DataFrames** come next in terms of ease of use. The DataFrame API offers a higher-level abstraction than RDDs, allowing for operations to be performed in a more declarative manner. This API is particularly powerful because it combines the familiarity of DataFrame operations from languages like Python (Pandas) and R with the optimization benefits of Spark's Catalyst optimizer.\n",
    "\n",
    "**RDDs**, while offering the most control over data processing, are the most challenging to work with. They require explicit handling of transformations and actions, and managing distributed data efficiently demands a deeper understanding of Spark's internals. This makes RDDs less user-friendly compared to DataFrames and Spark SQL.\n",
    "\n",
    "### Performance Observation\n",
    "\n",
    "The performance of each approach, as recorded during the execution of the query, is as follows:\n",
    "\n",
    "- **RDD**: Wall time: 2min 29s\n",
    "- **DataFrame**: Wall time: 1min 10s\n",
    "- **Spark SQL**: Wall time: 1min 10s\n",
    "\n",
    "Among the three approaches, **Spark SQL** is the fastest, followed closely by DataFrames, while RDDs are significantly slower.\n",
    "\n",
    "The reason for Spark SQL’s superior performance is primarily due to the Catalyst optimizer, which optimizes the execution plan for SQL queries. This includes predicate pushdowns, query pruning, and other optimizations that reduce the amount of data shuffled across the network and processed by the cluster.\n",
    "\n",
    "DataFrames benefit from the same underlying optimizations as Spark SQL because they are internally converted to optimized execution plans by the Catalyst optimizer. However, the slight difference in performance between DataFrames and Spark SQL could be attributed to the additional abstraction layers present in the DataFrame API.\n",
    "\n",
    "On the other hand, RDDs do not benefit from such high-level optimizations. Operations on RDDs are more manual and require explicit control over how data is partitioned and processed. This leads to longer execution times, as Spark cannot automatically optimize the operations as it does with DataFrames and Spark SQL.\n",
    "\n",
    "### Conclusion\n",
    "\n",
    "In conclusion, while RDDs offer the most granular control, they are the most challenging to work with and the least performant. DataFrames strike a balance between ease of use and performance, making them suitable for most Spark applications. Spark SQL, however, stands out as the most efficient and easiest to implement for users familiar with SQL, making it the preferred choice for querying large datasets in Spark.\n",
    "\n",
    "**References:**\n",
    "\n",
    "- Apache Spark. (n.d.). Spark SQL, DataFrames and Datasets guide. https://spark.apache.org/docs/latest/sql-programming-guide.html\n",
    "- Kumar, A. (n.d.). Spark RDD vs DataFrame vs Dataset. Medium. https://medium.com/@ashwin_kumar_/spark-rdd-vs-dataframe-vs-dataset-c90f7da18e56\n",
    "- Databricks. (2016, July 14). A tale of three Apache Spark APIs: RDDs, DataFrames, and Datasets. https://www.databricks.com/blog/2016/07/14/a-tale-of-three-apache-spark-apis-rdds-dataframes-and-datasets.html"
   ]
  },
  {
   "cell_type": "markdown",
   "metadata": {},
   "source": [
    "### Some ideas on the comparison\n",
    "\n",
    "Armbrust, M., Huai, Y., Liang, C., Xin, R., & Zaharia, M. (2015). Deep Dive into Spark SQL’s Catalyst Optimizer. Retrieved September 30, 2017, from https://databricks.com/blog/2015/04/13/deep-dive-into-spark-sqls-catalyst-optimizer.html\n",
    "\n",
    "Damji, J. (2016). A Tale of Three Apache Spark APIs: RDDs, DataFrames, and Datasets. Retrieved September 28, 2017, from https://databricks.com/blog/2016/07/14/a-tale-of-three-apache-spark-apis-rdds-dataframes-and-datasets.html\n",
    "\n",
    "Data Flair (2017a). Apache Spark RDD vs DataFrame vs DataSet. Retrieved September 28, 2017, from http://data-flair.training/blogs/apache-spark-rdd-vs-dataframe-vs-dataset\n",
    "\n",
    "Prakash, C. (2016). Apache Spark: RDD vs Dataframe vs Dataset. Retrieved September 28, 2017, from http://why-not-learn-something.blogspot.com.au/2016/07/apache-spark-rdd-vs-dataframe-vs-dataset.html\n",
    "\n",
    "Xin, R., & Rosen, J. (2015). Project Tungsten: Bringing Apache Spark Closer to Bare Metal. Retrieved September 30, 2017, from https://databricks.com/blog/2015/04/28/project-tungsten-bringing-spark-closer-to-bare-metal.html"
   ]
  }
 ],
 "metadata": {
  "kernelspec": {
   "display_name": "Python 3 (ipykernel)",
   "language": "python",
   "name": "python3"
  },
  "language_info": {
   "codemirror_mode": {
    "name": "ipython",
    "version": 3
   },
   "file_extension": ".py",
   "mimetype": "text/x-python",
   "name": "python",
   "nbconvert_exporter": "python",
   "pygments_lexer": "ipython3",
   "version": "3.10.13"
  }
 },
 "nbformat": 4,
 "nbformat_minor": 4
}
